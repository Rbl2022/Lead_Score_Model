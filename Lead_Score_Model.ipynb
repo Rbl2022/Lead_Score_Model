{
 "cells": [
  {
   "cell_type": "markdown",
   "id": "79752902",
   "metadata": {},
   "source": [
    "# Problem Statement"
   ]
  },
  {
   "cell_type": "markdown",
   "id": "a2c93b2a",
   "metadata": {},
   "source": [
    "An education company named X Education sells online courses to industry professionals. On any given day, many professionals who are interested in the courses land on their website and browse for courses. \n",
    "\n",
    " \n",
    "\n",
    "The company markets its courses on several websites and search engines like Google. Once these people land on the website, they might browse the courses or fill up a form for the course or watch some videos. When these people fill up a form providing their email address or phone number, they are classified to be a lead. Moreover, the company also gets leads through past referrals. Once these leads are acquired, employees from the sales team start making calls, writing emails, etc. Through this process, some of the leads get converted while most do not. The typical lead conversion rate at X education is around 30%. \n",
    "\n",
    " \n",
    "\n",
    "Now, although X Education gets a lot of leads, its lead conversion rate is very poor. For example, if, say, they acquire 100 leads in a day, only about 30 of them are converted. To make this process more efficient, the company wishes to identify the most potential leads, also known as ‘Hot Leads’. If they successfully identify this set of leads, the lead conversion rate should go up as the sales team will now be focusing more on communicating with the potential leads rather than making calls to everyone"
   ]
  },
  {
   "cell_type": "markdown",
   "id": "96fdcf74",
   "metadata": {},
   "source": [
    "X Education has appointed you to help them select the most promising leads, i.e. the leads that are most likely to convert into paying customers. The company requires you to build a model wherein you need to assign a lead score to each of the leads such that the customers with a higher lead score have a higher conversion chance and the customers with a lower lead score have a lower conversion chance. The CEO, in particular, has given a ballpark of the target lead conversion rate to be around 80%."
   ]
  },
  {
   "cell_type": "markdown",
   "id": "0a09c92a",
   "metadata": {},
   "source": [
    "## Steps of Problem Solving\n",
    "  - **Importing Libraries & Data Reading**\n",
    "  - **Data Cleaning & EDA**\n",
    "  - **Data Preparation**\n",
    "  - **Model Building**\n",
    "  - **VIF & P Score Check.**\n",
    "  - **Model Finalisation**\n",
    "  - **Model Evaluation**\n",
    "  - **Model Evaluation on Test Data**\n",
    "  - **Model Prediction**"
   ]
  },
  {
   "cell_type": "markdown",
   "id": "215a58f6",
   "metadata": {},
   "source": [
    "###  Import Libraries & Data Reading\n",
    "<hr/>"
   ]
  },
  {
   "cell_type": "code",
   "execution_count": 1,
   "id": "9c59b8bf",
   "metadata": {},
   "outputs": [],
   "source": [
    "import numpy as np\n",
    "import pandas as pd\n",
    "import matplotlib.pyplot as plt\n",
    "import seaborn as sns\n",
    "import sklearn\n",
    "import warnings\n",
    "\n",
    "\n",
    "warnings.filterwarnings(\"ignore\")"
   ]
  },
  {
   "cell_type": "code",
   "execution_count": 2,
   "id": "08118b98",
   "metadata": {},
   "outputs": [],
   "source": [
    "pd.set_option('display.max_columns',42)"
   ]
  },
  {
   "cell_type": "code",
   "execution_count": 3,
   "id": "8f6b2b57",
   "metadata": {},
   "outputs": [
    {
     "data": {
      "text/html": [
       "<div>\n",
       "<style scoped>\n",
       "    .dataframe tbody tr th:only-of-type {\n",
       "        vertical-align: middle;\n",
       "    }\n",
       "\n",
       "    .dataframe tbody tr th {\n",
       "        vertical-align: top;\n",
       "    }\n",
       "\n",
       "    .dataframe thead th {\n",
       "        text-align: right;\n",
       "    }\n",
       "</style>\n",
       "<table border=\"1\" class=\"dataframe\">\n",
       "  <thead>\n",
       "    <tr style=\"text-align: right;\">\n",
       "      <th></th>\n",
       "      <th>Prospect ID</th>\n",
       "      <th>Lead Number</th>\n",
       "      <th>Lead Origin</th>\n",
       "      <th>Lead Source</th>\n",
       "      <th>Do Not Email</th>\n",
       "      <th>Do Not Call</th>\n",
       "      <th>Converted</th>\n",
       "      <th>TotalVisits</th>\n",
       "      <th>Total Time Spent on Website</th>\n",
       "      <th>Page Views Per Visit</th>\n",
       "      <th>Last Activity</th>\n",
       "      <th>Country</th>\n",
       "      <th>Specialization</th>\n",
       "      <th>How did you hear about X Education</th>\n",
       "      <th>What is your current occupation</th>\n",
       "      <th>What matters most to you in choosing a course</th>\n",
       "      <th>Search</th>\n",
       "      <th>Magazine</th>\n",
       "      <th>Newspaper Article</th>\n",
       "      <th>X Education Forums</th>\n",
       "      <th>Newspaper</th>\n",
       "      <th>Digital Advertisement</th>\n",
       "      <th>Through Recommendations</th>\n",
       "      <th>Receive More Updates About Our Courses</th>\n",
       "      <th>Tags</th>\n",
       "      <th>Lead Quality</th>\n",
       "      <th>Update me on Supply Chain Content</th>\n",
       "      <th>Get updates on DM Content</th>\n",
       "      <th>Lead Profile</th>\n",
       "      <th>City</th>\n",
       "      <th>Asymmetrique Activity Index</th>\n",
       "      <th>Asymmetrique Profile Index</th>\n",
       "      <th>Asymmetrique Activity Score</th>\n",
       "      <th>Asymmetrique Profile Score</th>\n",
       "      <th>I agree to pay the amount through cheque</th>\n",
       "      <th>A free copy of Mastering The Interview</th>\n",
       "      <th>Last Notable Activity</th>\n",
       "    </tr>\n",
       "  </thead>\n",
       "  <tbody>\n",
       "    <tr>\n",
       "      <th>0</th>\n",
       "      <td>7927b2df-8bba-4d29-b9a2-b6e0beafe620</td>\n",
       "      <td>660737</td>\n",
       "      <td>API</td>\n",
       "      <td>Olark Chat</td>\n",
       "      <td>No</td>\n",
       "      <td>No</td>\n",
       "      <td>0</td>\n",
       "      <td>0.0</td>\n",
       "      <td>0</td>\n",
       "      <td>0.0</td>\n",
       "      <td>Page Visited on Website</td>\n",
       "      <td>NaN</td>\n",
       "      <td>Select</td>\n",
       "      <td>Select</td>\n",
       "      <td>Unemployed</td>\n",
       "      <td>Better Career Prospects</td>\n",
       "      <td>No</td>\n",
       "      <td>No</td>\n",
       "      <td>No</td>\n",
       "      <td>No</td>\n",
       "      <td>No</td>\n",
       "      <td>No</td>\n",
       "      <td>No</td>\n",
       "      <td>No</td>\n",
       "      <td>Interested in other courses</td>\n",
       "      <td>Low in Relevance</td>\n",
       "      <td>No</td>\n",
       "      <td>No</td>\n",
       "      <td>Select</td>\n",
       "      <td>Select</td>\n",
       "      <td>02.Medium</td>\n",
       "      <td>02.Medium</td>\n",
       "      <td>15.0</td>\n",
       "      <td>15.0</td>\n",
       "      <td>No</td>\n",
       "      <td>No</td>\n",
       "      <td>Modified</td>\n",
       "    </tr>\n",
       "    <tr>\n",
       "      <th>1</th>\n",
       "      <td>2a272436-5132-4136-86fa-dcc88c88f482</td>\n",
       "      <td>660728</td>\n",
       "      <td>API</td>\n",
       "      <td>Organic Search</td>\n",
       "      <td>No</td>\n",
       "      <td>No</td>\n",
       "      <td>0</td>\n",
       "      <td>5.0</td>\n",
       "      <td>674</td>\n",
       "      <td>2.5</td>\n",
       "      <td>Email Opened</td>\n",
       "      <td>India</td>\n",
       "      <td>Select</td>\n",
       "      <td>Select</td>\n",
       "      <td>Unemployed</td>\n",
       "      <td>Better Career Prospects</td>\n",
       "      <td>No</td>\n",
       "      <td>No</td>\n",
       "      <td>No</td>\n",
       "      <td>No</td>\n",
       "      <td>No</td>\n",
       "      <td>No</td>\n",
       "      <td>No</td>\n",
       "      <td>No</td>\n",
       "      <td>Ringing</td>\n",
       "      <td>NaN</td>\n",
       "      <td>No</td>\n",
       "      <td>No</td>\n",
       "      <td>Select</td>\n",
       "      <td>Select</td>\n",
       "      <td>02.Medium</td>\n",
       "      <td>02.Medium</td>\n",
       "      <td>15.0</td>\n",
       "      <td>15.0</td>\n",
       "      <td>No</td>\n",
       "      <td>No</td>\n",
       "      <td>Email Opened</td>\n",
       "    </tr>\n",
       "    <tr>\n",
       "      <th>2</th>\n",
       "      <td>8cc8c611-a219-4f35-ad23-fdfd2656bd8a</td>\n",
       "      <td>660727</td>\n",
       "      <td>Landing Page Submission</td>\n",
       "      <td>Direct Traffic</td>\n",
       "      <td>No</td>\n",
       "      <td>No</td>\n",
       "      <td>1</td>\n",
       "      <td>2.0</td>\n",
       "      <td>1532</td>\n",
       "      <td>2.0</td>\n",
       "      <td>Email Opened</td>\n",
       "      <td>India</td>\n",
       "      <td>Business Administration</td>\n",
       "      <td>Select</td>\n",
       "      <td>Student</td>\n",
       "      <td>Better Career Prospects</td>\n",
       "      <td>No</td>\n",
       "      <td>No</td>\n",
       "      <td>No</td>\n",
       "      <td>No</td>\n",
       "      <td>No</td>\n",
       "      <td>No</td>\n",
       "      <td>No</td>\n",
       "      <td>No</td>\n",
       "      <td>Will revert after reading the email</td>\n",
       "      <td>Might be</td>\n",
       "      <td>No</td>\n",
       "      <td>No</td>\n",
       "      <td>Potential Lead</td>\n",
       "      <td>Mumbai</td>\n",
       "      <td>02.Medium</td>\n",
       "      <td>01.High</td>\n",
       "      <td>14.0</td>\n",
       "      <td>20.0</td>\n",
       "      <td>No</td>\n",
       "      <td>Yes</td>\n",
       "      <td>Email Opened</td>\n",
       "    </tr>\n",
       "    <tr>\n",
       "      <th>3</th>\n",
       "      <td>0cc2df48-7cf4-4e39-9de9-19797f9b38cc</td>\n",
       "      <td>660719</td>\n",
       "      <td>Landing Page Submission</td>\n",
       "      <td>Direct Traffic</td>\n",
       "      <td>No</td>\n",
       "      <td>No</td>\n",
       "      <td>0</td>\n",
       "      <td>1.0</td>\n",
       "      <td>305</td>\n",
       "      <td>1.0</td>\n",
       "      <td>Unreachable</td>\n",
       "      <td>India</td>\n",
       "      <td>Media and Advertising</td>\n",
       "      <td>Word Of Mouth</td>\n",
       "      <td>Unemployed</td>\n",
       "      <td>Better Career Prospects</td>\n",
       "      <td>No</td>\n",
       "      <td>No</td>\n",
       "      <td>No</td>\n",
       "      <td>No</td>\n",
       "      <td>No</td>\n",
       "      <td>No</td>\n",
       "      <td>No</td>\n",
       "      <td>No</td>\n",
       "      <td>Ringing</td>\n",
       "      <td>Not Sure</td>\n",
       "      <td>No</td>\n",
       "      <td>No</td>\n",
       "      <td>Select</td>\n",
       "      <td>Mumbai</td>\n",
       "      <td>02.Medium</td>\n",
       "      <td>01.High</td>\n",
       "      <td>13.0</td>\n",
       "      <td>17.0</td>\n",
       "      <td>No</td>\n",
       "      <td>No</td>\n",
       "      <td>Modified</td>\n",
       "    </tr>\n",
       "    <tr>\n",
       "      <th>4</th>\n",
       "      <td>3256f628-e534-4826-9d63-4a8b88782852</td>\n",
       "      <td>660681</td>\n",
       "      <td>Landing Page Submission</td>\n",
       "      <td>Google</td>\n",
       "      <td>No</td>\n",
       "      <td>No</td>\n",
       "      <td>1</td>\n",
       "      <td>2.0</td>\n",
       "      <td>1428</td>\n",
       "      <td>1.0</td>\n",
       "      <td>Converted to Lead</td>\n",
       "      <td>India</td>\n",
       "      <td>Select</td>\n",
       "      <td>Other</td>\n",
       "      <td>Unemployed</td>\n",
       "      <td>Better Career Prospects</td>\n",
       "      <td>No</td>\n",
       "      <td>No</td>\n",
       "      <td>No</td>\n",
       "      <td>No</td>\n",
       "      <td>No</td>\n",
       "      <td>No</td>\n",
       "      <td>No</td>\n",
       "      <td>No</td>\n",
       "      <td>Will revert after reading the email</td>\n",
       "      <td>Might be</td>\n",
       "      <td>No</td>\n",
       "      <td>No</td>\n",
       "      <td>Select</td>\n",
       "      <td>Mumbai</td>\n",
       "      <td>02.Medium</td>\n",
       "      <td>01.High</td>\n",
       "      <td>15.0</td>\n",
       "      <td>18.0</td>\n",
       "      <td>No</td>\n",
       "      <td>No</td>\n",
       "      <td>Modified</td>\n",
       "    </tr>\n",
       "  </tbody>\n",
       "</table>\n",
       "</div>"
      ],
      "text/plain": [
       "                            Prospect ID  Lead Number              Lead Origin  \\\n",
       "0  7927b2df-8bba-4d29-b9a2-b6e0beafe620       660737                      API   \n",
       "1  2a272436-5132-4136-86fa-dcc88c88f482       660728                      API   \n",
       "2  8cc8c611-a219-4f35-ad23-fdfd2656bd8a       660727  Landing Page Submission   \n",
       "3  0cc2df48-7cf4-4e39-9de9-19797f9b38cc       660719  Landing Page Submission   \n",
       "4  3256f628-e534-4826-9d63-4a8b88782852       660681  Landing Page Submission   \n",
       "\n",
       "      Lead Source Do Not Email Do Not Call  Converted  TotalVisits  \\\n",
       "0      Olark Chat           No          No          0          0.0   \n",
       "1  Organic Search           No          No          0          5.0   \n",
       "2  Direct Traffic           No          No          1          2.0   \n",
       "3  Direct Traffic           No          No          0          1.0   \n",
       "4          Google           No          No          1          2.0   \n",
       "\n",
       "   Total Time Spent on Website  Page Views Per Visit            Last Activity  \\\n",
       "0                            0                   0.0  Page Visited on Website   \n",
       "1                          674                   2.5             Email Opened   \n",
       "2                         1532                   2.0             Email Opened   \n",
       "3                          305                   1.0              Unreachable   \n",
       "4                         1428                   1.0        Converted to Lead   \n",
       "\n",
       "  Country           Specialization How did you hear about X Education  \\\n",
       "0     NaN                   Select                             Select   \n",
       "1   India                   Select                             Select   \n",
       "2   India  Business Administration                             Select   \n",
       "3   India    Media and Advertising                      Word Of Mouth   \n",
       "4   India                   Select                              Other   \n",
       "\n",
       "  What is your current occupation  \\\n",
       "0                      Unemployed   \n",
       "1                      Unemployed   \n",
       "2                         Student   \n",
       "3                      Unemployed   \n",
       "4                      Unemployed   \n",
       "\n",
       "  What matters most to you in choosing a course Search Magazine  \\\n",
       "0                       Better Career Prospects     No       No   \n",
       "1                       Better Career Prospects     No       No   \n",
       "2                       Better Career Prospects     No       No   \n",
       "3                       Better Career Prospects     No       No   \n",
       "4                       Better Career Prospects     No       No   \n",
       "\n",
       "  Newspaper Article X Education Forums Newspaper Digital Advertisement  \\\n",
       "0                No                 No        No                    No   \n",
       "1                No                 No        No                    No   \n",
       "2                No                 No        No                    No   \n",
       "3                No                 No        No                    No   \n",
       "4                No                 No        No                    No   \n",
       "\n",
       "  Through Recommendations Receive More Updates About Our Courses  \\\n",
       "0                      No                                     No   \n",
       "1                      No                                     No   \n",
       "2                      No                                     No   \n",
       "3                      No                                     No   \n",
       "4                      No                                     No   \n",
       "\n",
       "                                  Tags      Lead Quality  \\\n",
       "0          Interested in other courses  Low in Relevance   \n",
       "1                              Ringing               NaN   \n",
       "2  Will revert after reading the email          Might be   \n",
       "3                              Ringing          Not Sure   \n",
       "4  Will revert after reading the email          Might be   \n",
       "\n",
       "  Update me on Supply Chain Content Get updates on DM Content    Lead Profile  \\\n",
       "0                                No                        No          Select   \n",
       "1                                No                        No          Select   \n",
       "2                                No                        No  Potential Lead   \n",
       "3                                No                        No          Select   \n",
       "4                                No                        No          Select   \n",
       "\n",
       "     City Asymmetrique Activity Index Asymmetrique Profile Index  \\\n",
       "0  Select                   02.Medium                  02.Medium   \n",
       "1  Select                   02.Medium                  02.Medium   \n",
       "2  Mumbai                   02.Medium                    01.High   \n",
       "3  Mumbai                   02.Medium                    01.High   \n",
       "4  Mumbai                   02.Medium                    01.High   \n",
       "\n",
       "   Asymmetrique Activity Score  Asymmetrique Profile Score  \\\n",
       "0                         15.0                        15.0   \n",
       "1                         15.0                        15.0   \n",
       "2                         14.0                        20.0   \n",
       "3                         13.0                        17.0   \n",
       "4                         15.0                        18.0   \n",
       "\n",
       "  I agree to pay the amount through cheque  \\\n",
       "0                                       No   \n",
       "1                                       No   \n",
       "2                                       No   \n",
       "3                                       No   \n",
       "4                                       No   \n",
       "\n",
       "  A free copy of Mastering The Interview Last Notable Activity  \n",
       "0                                     No              Modified  \n",
       "1                                     No          Email Opened  \n",
       "2                                    Yes          Email Opened  \n",
       "3                                     No              Modified  \n",
       "4                                     No              Modified  "
      ]
     },
     "execution_count": 3,
     "metadata": {},
     "output_type": "execute_result"
    }
   ],
   "source": [
    "# loading dataset\n",
    "leads_df=pd.read_csv(\"leads.csv\")\n",
    "leads_df.head()"
   ]
  },
  {
   "cell_type": "code",
   "execution_count": 4,
   "id": "86a9be90",
   "metadata": {},
   "outputs": [
    {
     "data": {
      "text/plain": [
       "(9240, 37)"
      ]
     },
     "execution_count": 4,
     "metadata": {},
     "output_type": "execute_result"
    }
   ],
   "source": [
    "#Checking shape of dataframe\n",
    "leads_df.shape"
   ]
  },
  {
   "cell_type": "markdown",
   "id": "dcb8a4ea",
   "metadata": {},
   "source": [
    "- We can see our data contains 9240 rows & 37 columns."
   ]
  },
  {
   "cell_type": "code",
   "execution_count": 5,
   "id": "8cbf46e7",
   "metadata": {},
   "outputs": [
    {
     "data": {
      "text/html": [
       "<div>\n",
       "<style scoped>\n",
       "    .dataframe tbody tr th:only-of-type {\n",
       "        vertical-align: middle;\n",
       "    }\n",
       "\n",
       "    .dataframe tbody tr th {\n",
       "        vertical-align: top;\n",
       "    }\n",
       "\n",
       "    .dataframe thead th {\n",
       "        text-align: right;\n",
       "    }\n",
       "</style>\n",
       "<table border=\"1\" class=\"dataframe\">\n",
       "  <thead>\n",
       "    <tr style=\"text-align: right;\">\n",
       "      <th></th>\n",
       "      <th>Lead Number</th>\n",
       "      <th>Converted</th>\n",
       "      <th>TotalVisits</th>\n",
       "      <th>Total Time Spent on Website</th>\n",
       "      <th>Page Views Per Visit</th>\n",
       "      <th>Asymmetrique Activity Score</th>\n",
       "      <th>Asymmetrique Profile Score</th>\n",
       "    </tr>\n",
       "  </thead>\n",
       "  <tbody>\n",
       "    <tr>\n",
       "      <th>count</th>\n",
       "      <td>9240.000000</td>\n",
       "      <td>9240.000000</td>\n",
       "      <td>9103.000000</td>\n",
       "      <td>9240.000000</td>\n",
       "      <td>9103.000000</td>\n",
       "      <td>5022.000000</td>\n",
       "      <td>5022.000000</td>\n",
       "    </tr>\n",
       "    <tr>\n",
       "      <th>mean</th>\n",
       "      <td>617188.435606</td>\n",
       "      <td>0.385390</td>\n",
       "      <td>3.445238</td>\n",
       "      <td>487.698268</td>\n",
       "      <td>2.362820</td>\n",
       "      <td>14.306252</td>\n",
       "      <td>16.344883</td>\n",
       "    </tr>\n",
       "    <tr>\n",
       "      <th>std</th>\n",
       "      <td>23405.995698</td>\n",
       "      <td>0.486714</td>\n",
       "      <td>4.854853</td>\n",
       "      <td>548.021466</td>\n",
       "      <td>2.161418</td>\n",
       "      <td>1.386694</td>\n",
       "      <td>1.811395</td>\n",
       "    </tr>\n",
       "    <tr>\n",
       "      <th>min</th>\n",
       "      <td>579533.000000</td>\n",
       "      <td>0.000000</td>\n",
       "      <td>0.000000</td>\n",
       "      <td>0.000000</td>\n",
       "      <td>0.000000</td>\n",
       "      <td>7.000000</td>\n",
       "      <td>11.000000</td>\n",
       "    </tr>\n",
       "    <tr>\n",
       "      <th>25%</th>\n",
       "      <td>596484.500000</td>\n",
       "      <td>0.000000</td>\n",
       "      <td>1.000000</td>\n",
       "      <td>12.000000</td>\n",
       "      <td>1.000000</td>\n",
       "      <td>14.000000</td>\n",
       "      <td>15.000000</td>\n",
       "    </tr>\n",
       "    <tr>\n",
       "      <th>50%</th>\n",
       "      <td>615479.000000</td>\n",
       "      <td>0.000000</td>\n",
       "      <td>3.000000</td>\n",
       "      <td>248.000000</td>\n",
       "      <td>2.000000</td>\n",
       "      <td>14.000000</td>\n",
       "      <td>16.000000</td>\n",
       "    </tr>\n",
       "    <tr>\n",
       "      <th>75%</th>\n",
       "      <td>637387.250000</td>\n",
       "      <td>1.000000</td>\n",
       "      <td>5.000000</td>\n",
       "      <td>936.000000</td>\n",
       "      <td>3.000000</td>\n",
       "      <td>15.000000</td>\n",
       "      <td>18.000000</td>\n",
       "    </tr>\n",
       "    <tr>\n",
       "      <th>max</th>\n",
       "      <td>660737.000000</td>\n",
       "      <td>1.000000</td>\n",
       "      <td>251.000000</td>\n",
       "      <td>2272.000000</td>\n",
       "      <td>55.000000</td>\n",
       "      <td>18.000000</td>\n",
       "      <td>20.000000</td>\n",
       "    </tr>\n",
       "  </tbody>\n",
       "</table>\n",
       "</div>"
      ],
      "text/plain": [
       "         Lead Number    Converted  TotalVisits  Total Time Spent on Website  \\\n",
       "count    9240.000000  9240.000000  9103.000000                  9240.000000   \n",
       "mean   617188.435606     0.385390     3.445238                   487.698268   \n",
       "std     23405.995698     0.486714     4.854853                   548.021466   \n",
       "min    579533.000000     0.000000     0.000000                     0.000000   \n",
       "25%    596484.500000     0.000000     1.000000                    12.000000   \n",
       "50%    615479.000000     0.000000     3.000000                   248.000000   \n",
       "75%    637387.250000     1.000000     5.000000                   936.000000   \n",
       "max    660737.000000     1.000000   251.000000                  2272.000000   \n",
       "\n",
       "       Page Views Per Visit  Asymmetrique Activity Score  \\\n",
       "count           9103.000000                  5022.000000   \n",
       "mean               2.362820                    14.306252   \n",
       "std                2.161418                     1.386694   \n",
       "min                0.000000                     7.000000   \n",
       "25%                1.000000                    14.000000   \n",
       "50%                2.000000                    14.000000   \n",
       "75%                3.000000                    15.000000   \n",
       "max               55.000000                    18.000000   \n",
       "\n",
       "       Asymmetrique Profile Score  \n",
       "count                 5022.000000  \n",
       "mean                    16.344883  \n",
       "std                      1.811395  \n",
       "min                     11.000000  \n",
       "25%                     15.000000  \n",
       "50%                     16.000000  \n",
       "75%                     18.000000  \n",
       "max                     20.000000  "
      ]
     },
     "execution_count": 5,
     "metadata": {},
     "output_type": "execute_result"
    }
   ],
   "source": [
    "#Checking details of dataframe\n",
    "leads_df.describe()"
   ]
  },
  {
   "cell_type": "code",
   "execution_count": 6,
   "id": "5f8b1674",
   "metadata": {},
   "outputs": [
    {
     "name": "stdout",
     "output_type": "stream",
     "text": [
      "<class 'pandas.core.frame.DataFrame'>\n",
      "RangeIndex: 9240 entries, 0 to 9239\n",
      "Data columns (total 37 columns):\n",
      " #   Column                                         Non-Null Count  Dtype  \n",
      "---  ------                                         --------------  -----  \n",
      " 0   Prospect ID                                    9240 non-null   object \n",
      " 1   Lead Number                                    9240 non-null   int64  \n",
      " 2   Lead Origin                                    9240 non-null   object \n",
      " 3   Lead Source                                    9204 non-null   object \n",
      " 4   Do Not Email                                   9240 non-null   object \n",
      " 5   Do Not Call                                    9240 non-null   object \n",
      " 6   Converted                                      9240 non-null   int64  \n",
      " 7   TotalVisits                                    9103 non-null   float64\n",
      " 8   Total Time Spent on Website                    9240 non-null   int64  \n",
      " 9   Page Views Per Visit                           9103 non-null   float64\n",
      " 10  Last Activity                                  9137 non-null   object \n",
      " 11  Country                                        6779 non-null   object \n",
      " 12  Specialization                                 7802 non-null   object \n",
      " 13  How did you hear about X Education             7033 non-null   object \n",
      " 14  What is your current occupation                6550 non-null   object \n",
      " 15  What matters most to you in choosing a course  6531 non-null   object \n",
      " 16  Search                                         9240 non-null   object \n",
      " 17  Magazine                                       9240 non-null   object \n",
      " 18  Newspaper Article                              9240 non-null   object \n",
      " 19  X Education Forums                             9240 non-null   object \n",
      " 20  Newspaper                                      9240 non-null   object \n",
      " 21  Digital Advertisement                          9240 non-null   object \n",
      " 22  Through Recommendations                        9240 non-null   object \n",
      " 23  Receive More Updates About Our Courses         9240 non-null   object \n",
      " 24  Tags                                           5887 non-null   object \n",
      " 25  Lead Quality                                   4473 non-null   object \n",
      " 26  Update me on Supply Chain Content              9240 non-null   object \n",
      " 27  Get updates on DM Content                      9240 non-null   object \n",
      " 28  Lead Profile                                   6531 non-null   object \n",
      " 29  City                                           7820 non-null   object \n",
      " 30  Asymmetrique Activity Index                    5022 non-null   object \n",
      " 31  Asymmetrique Profile Index                     5022 non-null   object \n",
      " 32  Asymmetrique Activity Score                    5022 non-null   float64\n",
      " 33  Asymmetrique Profile Score                     5022 non-null   float64\n",
      " 34  I agree to pay the amount through cheque       9240 non-null   object \n",
      " 35  A free copy of Mastering The Interview         9240 non-null   object \n",
      " 36  Last Notable Activity                          9240 non-null   object \n",
      "dtypes: float64(4), int64(3), object(30)\n",
      "memory usage: 2.6+ MB\n"
     ]
    }
   ],
   "source": [
    "leads_df.info()"
   ]
  },
  {
   "cell_type": "markdown",
   "id": "91a582a0",
   "metadata": {},
   "source": [
    "We can see that there are columns have missing values."
   ]
  },
  {
   "cell_type": "markdown",
   "id": "8937fc78",
   "metadata": {},
   "source": [
    "## Data Cleaning & EDA\n",
    "<hr/>"
   ]
  },
  {
   "cell_type": "markdown",
   "id": "21f5b01a",
   "metadata": {},
   "source": [
    "#### Treatment of columns having high null values\n",
    "<hr/>"
   ]
  },
  {
   "cell_type": "code",
   "execution_count": 7,
   "id": "60204daf",
   "metadata": {},
   "outputs": [],
   "source": [
    "#Converting 'Select' values to NaN.\n",
    "\n",
    "leads_df = leads_df.replace('Select', np.nan)"
   ]
  },
  {
   "cell_type": "code",
   "execution_count": 8,
   "id": "3983dbc9",
   "metadata": {},
   "outputs": [
    {
     "data": {
      "text/plain": [
       "Prospect ID                                       0.00\n",
       "Lead Number                                       0.00\n",
       "Lead Origin                                       0.00\n",
       "Lead Source                                       0.39\n",
       "Do Not Email                                      0.00\n",
       "Do Not Call                                       0.00\n",
       "Converted                                         0.00\n",
       "TotalVisits                                       1.48\n",
       "Total Time Spent on Website                       0.00\n",
       "Page Views Per Visit                              1.48\n",
       "Last Activity                                     1.11\n",
       "Country                                          26.63\n",
       "Specialization                                   36.58\n",
       "How did you hear about X Education               78.46\n",
       "What is your current occupation                  29.11\n",
       "What matters most to you in choosing a course    29.32\n",
       "Search                                            0.00\n",
       "Magazine                                          0.00\n",
       "Newspaper Article                                 0.00\n",
       "X Education Forums                                0.00\n",
       "Newspaper                                         0.00\n",
       "Digital Advertisement                             0.00\n",
       "Through Recommendations                           0.00\n",
       "Receive More Updates About Our Courses            0.00\n",
       "Tags                                             36.29\n",
       "Lead Quality                                     51.59\n",
       "Update me on Supply Chain Content                 0.00\n",
       "Get updates on DM Content                         0.00\n",
       "Lead Profile                                     74.19\n",
       "City                                             39.71\n",
       "Asymmetrique Activity Index                      45.65\n",
       "Asymmetrique Profile Index                       45.65\n",
       "Asymmetrique Activity Score                      45.65\n",
       "Asymmetrique Profile Score                       45.65\n",
       "I agree to pay the amount through cheque          0.00\n",
       "A free copy of Mastering The Interview            0.00\n",
       "Last Notable Activity                             0.00\n",
       "dtype: float64"
      ]
     },
     "execution_count": 8,
     "metadata": {},
     "output_type": "execute_result"
    }
   ],
   "source": [
    "# Lets see column wise Null Values %\n",
    "round((leads_df.isnull().sum()/leads_df.shape[0])*100,2)"
   ]
  },
  {
   "cell_type": "markdown",
   "id": "1cf0e180",
   "metadata": {},
   "source": [
    "- **We can see there are lots of columns which have more than 40% null values.**\n",
    "- **Hence we will drop these columns.**"
   ]
  },
  {
   "cell_type": "code",
   "execution_count": 9,
   "id": "1de001b3",
   "metadata": {},
   "outputs": [],
   "source": [
    "#dropping columns having more than 40% null values\n",
    "for i in leads_df.columns:\n",
    "    if round((leads_df[i].isnull().sum()/leads_df.shape[0])*100,2)>40:\n",
    "        leads_df.drop(i,axis=1,inplace=True)"
   ]
  },
  {
   "cell_type": "code",
   "execution_count": 10,
   "id": "8ed41871",
   "metadata": {},
   "outputs": [
    {
     "data": {
      "text/plain": [
       "Prospect ID                                       0.00\n",
       "Lead Number                                       0.00\n",
       "Lead Origin                                       0.00\n",
       "Lead Source                                       0.39\n",
       "Do Not Email                                      0.00\n",
       "Do Not Call                                       0.00\n",
       "Converted                                         0.00\n",
       "TotalVisits                                       1.48\n",
       "Total Time Spent on Website                       0.00\n",
       "Page Views Per Visit                              1.48\n",
       "Last Activity                                     1.11\n",
       "Country                                          26.63\n",
       "Specialization                                   36.58\n",
       "What is your current occupation                  29.11\n",
       "What matters most to you in choosing a course    29.32\n",
       "Search                                            0.00\n",
       "Magazine                                          0.00\n",
       "Newspaper Article                                 0.00\n",
       "X Education Forums                                0.00\n",
       "Newspaper                                         0.00\n",
       "Digital Advertisement                             0.00\n",
       "Through Recommendations                           0.00\n",
       "Receive More Updates About Our Courses            0.00\n",
       "Tags                                             36.29\n",
       "Update me on Supply Chain Content                 0.00\n",
       "Get updates on DM Content                         0.00\n",
       "City                                             39.71\n",
       "I agree to pay the amount through cheque          0.00\n",
       "A free copy of Mastering The Interview            0.00\n",
       "Last Notable Activity                             0.00\n",
       "dtype: float64"
      ]
     },
     "execution_count": 10,
     "metadata": {},
     "output_type": "execute_result"
    }
   ],
   "source": [
    "#lets recheck the dataframe for null values\n",
    "round((leads_df.isnull().sum()/leads_df.shape[0])*100,2)"
   ]
  },
  {
   "cell_type": "markdown",
   "id": "daa468e1",
   "metadata": {},
   "source": [
    "- **We dropped the columns having more than 40% null values.**"
   ]
  },
  {
   "cell_type": "code",
   "execution_count": null,
   "id": "16977503",
   "metadata": {},
   "outputs": [],
   "source": []
  },
  {
   "cell_type": "markdown",
   "id": "14ff4f97",
   "metadata": {},
   "source": [
    "Letus check columns one by one & clean them\n"
   ]
  },
  {
   "cell_type": "code",
   "execution_count": 11,
   "id": "feba54fa",
   "metadata": {},
   "outputs": [
    {
     "name": "stdout",
     "output_type": "stream",
     "text": [
      "Total Prospect ID's = 9240\n",
      "Total unique Prospect ID's = 9240\n"
     ]
    }
   ],
   "source": [
    "#Checking Prospect ID Columns\n",
    "print(\"Total Prospect ID's =\",leads_df['Prospect ID'].count())\n",
    "print(\"Total unique Prospect ID's =\" ,leads_df['Prospect ID'].nunique())\n"
   ]
  },
  {
   "cell_type": "markdown",
   "id": "b145a996",
   "metadata": {},
   "source": [
    "We can say for each record we are having unique prospect ID , hence we can drop this column.This is confirmed by data dictionary also."
   ]
  },
  {
   "cell_type": "code",
   "execution_count": 12,
   "id": "d11a826d",
   "metadata": {},
   "outputs": [],
   "source": [
    "#dropping Prospect ID columns\n",
    "leads_df.drop('Prospect ID',axis=1,inplace=True)"
   ]
  },
  {
   "cell_type": "code",
   "execution_count": 13,
   "id": "2bfc87f5",
   "metadata": {},
   "outputs": [
    {
     "name": "stdout",
     "output_type": "stream",
     "text": [
      "Total Lead Number's = 9240\n",
      "Total unique Lead Number's = 9240\n"
     ]
    }
   ],
   "source": [
    "#Checking Lead number\n",
    "print(\"Total Lead Number's =\",leads_df['Lead Number'].count())\n",
    "print(\"Total unique Lead Number's =\" ,leads_df['Lead Number'].nunique())\n"
   ]
  },
  {
   "cell_type": "markdown",
   "id": "80011abf",
   "metadata": {},
   "source": [
    "We can say for each record we are having unique Lead Number , hence we can drop this column."
   ]
  },
  {
   "cell_type": "code",
   "execution_count": 14,
   "id": "be898e58",
   "metadata": {},
   "outputs": [],
   "source": [
    "# dropping Lead Number \n",
    "leads_df.drop(\"Lead Number\",axis=1,inplace=True)"
   ]
  },
  {
   "cell_type": "code",
   "execution_count": 15,
   "id": "e607dadb",
   "metadata": {},
   "outputs": [
    {
     "data": {
      "text/plain": [
       "Landing Page Submission    4886\n",
       "API                        3580\n",
       "Lead Add Form               718\n",
       "Lead Import                  55\n",
       "Quick Add Form                1\n",
       "Name: Lead Origin, dtype: int64"
      ]
     },
     "execution_count": 15,
     "metadata": {},
     "output_type": "execute_result"
    }
   ],
   "source": [
    "# Checking Lead Origin\n",
    "leads_df['Lead Origin'].value_counts()"
   ]
  },
  {
   "cell_type": "code",
   "execution_count": 16,
   "id": "1a4ded88",
   "metadata": {},
   "outputs": [
    {
     "data": {
      "image/png": "[encoded data removed]",
      "text/plain": [
       "<Figure size 400x200 with 1 Axes>"
      ]
     },
     "metadata": {},
     "output_type": "display_data"
    }
   ],
   "source": [
    "# Lets do Univariate Analysis of Lead Origin \n",
    "plt.figure(figsize=(4,2))\n",
    "sns.countplot(x=leads_df['Lead Origin'],hue=leads_df['Converted'])\n",
    "plt.xticks(rotation=90)\n",
    "plt.show()"
   ]
  },
  {
   "cell_type": "markdown",
   "id": "f90e7e3b",
   "metadata": {},
   "source": [
    "- API and Landing Page Submission bring higher number of leads as well as conversion.\n",
    "- Lead Add Form has a very high conversion rate but count of leads are not very high.\n",
    "- Lead Import and Quick Add Form get very few leads.\n",
    "- In order to improve overall lead conversion rate, we have to improve lead converion of API and Landing Page Submission origin and generate more leads from Lead Add Form."
   ]
  },
  {
   "cell_type": "code",
   "execution_count": 17,
   "id": "7c9da263",
   "metadata": {},
   "outputs": [
    {
     "data": {
      "text/plain": [
       "Google               2868\n",
       "Direct Traffic       2543\n",
       "Olark Chat           1755\n",
       "Organic Search       1154\n",
       "Reference             534\n",
       "Welingak Website      142\n",
       "Referral Sites        125\n",
       "Facebook               55\n",
       "bing                    6\n",
       "google                  5\n",
       "Click2call              4\n",
       "Press_Release           2\n",
       "Social Media            2\n",
       "Live Chat               2\n",
       "youtubechannel          1\n",
       "testone                 1\n",
       "Pay per Click Ads       1\n",
       "welearnblog_Home        1\n",
       "WeLearn                 1\n",
       "blog                    1\n",
       "NC_EDM                  1\n",
       "Name: Lead Source, dtype: int64"
      ]
     },
     "execution_count": 17,
     "metadata": {},
     "output_type": "execute_result"
    }
   ],
   "source": [
    "# Checking lead source column\n",
    "leads_df['Lead Source'].value_counts()"
   ]
  },
  {
   "cell_type": "markdown",
   "id": "3385d1ed",
   "metadata": {},
   "source": [
    "We can see there is two type of Google is written, since python is case senstive ,it is apperings as another varible category.\n",
    "- We can change google to Google.\n",
    "- We can merge few low value count columns to others."
   ]
  },
  {
   "cell_type": "code",
   "execution_count": 18,
   "id": "ffd4b9fa",
   "metadata": {},
   "outputs": [],
   "source": [
    "leads_df['Lead Source']=leads_df['Lead Source'].replace(\"google\",\"Google\")\n",
    "leads_df['Lead Source']=leads_df['Lead Source'].replace([\"Facebook\",'youtubechannel','Live Chat'],'Social Media')\n",
    "leads_df['Lead Source']=leads_df['Lead Source'].replace([\"blog\", \"Pay per Click Ads\",\"bing\",\"WeLearn\",\"Click2call\",\"welearnblog_Home\",\"testone\",\"Press_Release\",\"NC_EDM\"],\"Others\")"
   ]
  },
  {
   "cell_type": "code",
   "execution_count": 19,
   "id": "23f5482d",
   "metadata": {},
   "outputs": [
    {
     "data": {
      "text/plain": [
       "Google              2873\n",
       "Direct Traffic      2543\n",
       "Olark Chat          1755\n",
       "Organic Search      1154\n",
       "Reference            534\n",
       "Welingak Website     142\n",
       "Referral Sites       125\n",
       "Social Media          60\n",
       "Others                18\n",
       "Name: Lead Source, dtype: int64"
      ]
     },
     "execution_count": 19,
     "metadata": {},
     "output_type": "execute_result"
    }
   ],
   "source": [
    "# Lets check Lead Source Column again\n",
    "leads_df['Lead Source'].value_counts()"
   ]
  },
  {
   "cell_type": "code",
   "execution_count": 20,
   "id": "416b25f8",
   "metadata": {},
   "outputs": [
    {
     "data": {
      "image/png": "[encoded data removed]",
      "text/plain": [
       "<Figure size 1000x500 with 1 Axes>"
      ]
     },
     "metadata": {},
     "output_type": "display_data"
    }
   ],
   "source": [
    "# Lets do Univariate Analysis of Lead Source \n",
    "plt.figure(figsize=(10,5))\n",
    "s1=sns.countplot(leads_df['Lead Source'], hue=leads_df['Converted'])\n",
    "plt.xticks(rotation=90)\n",
    "plt.legend(loc=1)\n",
    "plt.show()"
   ]
  },
  {
   "cell_type": "markdown",
   "id": "330639a3",
   "metadata": {},
   "source": [
    " - **We Can see leads of Welingak Website & Reference have very higher conversion rate.**\n",
    " - **Where as Google, Direct Traffic , Organic Search & Olark Chat has lesser conversion ratio.**"
   ]
  },
  {
   "cell_type": "code",
   "execution_count": 21,
   "id": "64b20195",
   "metadata": {},
   "outputs": [
    {
     "data": {
      "text/plain": [
       "India                   6492\n",
       "NaN                     2461\n",
       "United States             69\n",
       "United Arab Emirates      53\n",
       "Singapore                 24\n",
       "Saudi Arabia              21\n",
       "United Kingdom            15\n",
       "Australia                 13\n",
       "Qatar                     10\n",
       "Bahrain                    7\n",
       "Hong Kong                  7\n",
       "Oman                       6\n",
       "France                     6\n",
       "unknown                    5\n",
       "Kuwait                     4\n",
       "South Africa               4\n",
       "Canada                     4\n",
       "Nigeria                    4\n",
       "Germany                    4\n",
       "Sweden                     3\n",
       "Philippines                2\n",
       "Uganda                     2\n",
       "Italy                      2\n",
       "Bangladesh                 2\n",
       "Netherlands                2\n",
       "Asia/Pacific Region        2\n",
       "China                      2\n",
       "Belgium                    2\n",
       "Ghana                      2\n",
       "Kenya                      1\n",
       "Sri Lanka                  1\n",
       "Tanzania                   1\n",
       "Malaysia                   1\n",
       "Liberia                    1\n",
       "Switzerland                1\n",
       "Denmark                    1\n",
       "Russia                     1\n",
       "Vietnam                    1\n",
       "Indonesia                  1\n",
       "Name: Country, dtype: int64"
      ]
     },
     "execution_count": 21,
     "metadata": {},
     "output_type": "execute_result"
    }
   ],
   "source": [
    "# Lets check Country \n",
    "leads_df['Country'].value_counts(dropna=False)"
   ]
  },
  {
   "cell_type": "code",
   "execution_count": 22,
   "id": "821bad92",
   "metadata": {},
   "outputs": [],
   "source": [
    "# Since India is the most common occurence among the non-missing values we can impute all missing values with India\n",
    "\n",
    "leads_df['Country']=leads_df['Country'].replace(np.NaN,\"India\")"
   ]
  },
  {
   "cell_type": "code",
   "execution_count": 23,
   "id": "5e829b80",
   "metadata": {},
   "outputs": [
    {
     "data": {
      "text/plain": [
       "India                   8953\n",
       "United States             69\n",
       "United Arab Emirates      53\n",
       "Singapore                 24\n",
       "Saudi Arabia              21\n",
       "United Kingdom            15\n",
       "Australia                 13\n",
       "Qatar                     10\n",
       "Hong Kong                  7\n",
       "Bahrain                    7\n",
       "Oman                       6\n",
       "France                     6\n",
       "unknown                    5\n",
       "South Africa               4\n",
       "Nigeria                    4\n",
       "Germany                    4\n",
       "Kuwait                     4\n",
       "Canada                     4\n",
       "Sweden                     3\n",
       "China                      2\n",
       "Asia/Pacific Region        2\n",
       "Uganda                     2\n",
       "Bangladesh                 2\n",
       "Italy                      2\n",
       "Belgium                    2\n",
       "Netherlands                2\n",
       "Ghana                      2\n",
       "Philippines                2\n",
       "Russia                     1\n",
       "Switzerland                1\n",
       "Vietnam                    1\n",
       "Denmark                    1\n",
       "Tanzania                   1\n",
       "Liberia                    1\n",
       "Malaysia                   1\n",
       "Kenya                      1\n",
       "Sri Lanka                  1\n",
       "Indonesia                  1\n",
       "Name: Country, dtype: int64"
      ]
     },
     "execution_count": 23,
     "metadata": {},
     "output_type": "execute_result"
    }
   ],
   "source": [
    "#Lets check Country column again\n",
    "leads_df['Country'].value_counts()"
   ]
  },
  {
   "cell_type": "code",
   "execution_count": 24,
   "id": "b16ba805",
   "metadata": {},
   "outputs": [
    {
     "data": {
      "text/plain": [
       "India                   96.89\n",
       "United States            0.75\n",
       "United Arab Emirates     0.57\n",
       "Singapore                0.26\n",
       "Saudi Arabia             0.23\n",
       "United Kingdom           0.16\n",
       "Australia                0.14\n",
       "Qatar                    0.11\n",
       "Hong Kong                0.08\n",
       "Bahrain                  0.08\n",
       "Oman                     0.06\n",
       "France                   0.06\n",
       "unknown                  0.05\n",
       "South Africa             0.04\n",
       "Nigeria                  0.04\n",
       "Germany                  0.04\n",
       "Kuwait                   0.04\n",
       "Canada                   0.04\n",
       "Sweden                   0.03\n",
       "China                    0.02\n",
       "Asia/Pacific Region      0.02\n",
       "Uganda                   0.02\n",
       "Bangladesh               0.02\n",
       "Italy                    0.02\n",
       "Belgium                  0.02\n",
       "Netherlands              0.02\n",
       "Ghana                    0.02\n",
       "Philippines              0.02\n",
       "Russia                   0.01\n",
       "Switzerland              0.01\n",
       "Vietnam                  0.01\n",
       "Denmark                  0.01\n",
       "Tanzania                 0.01\n",
       "Liberia                  0.01\n",
       "Malaysia                 0.01\n",
       "Kenya                    0.01\n",
       "Sri Lanka                0.01\n",
       "Indonesia                0.01\n",
       "Name: Country, dtype: float64"
      ]
     },
     "execution_count": 24,
     "metadata": {},
     "output_type": "execute_result"
    }
   ],
   "source": [
    "# Lets see % wise contribution\n",
    "round((leads_df['Country'].value_counts()/leads_df['Country'].count())*100,2)"
   ]
  },
  {
   "cell_type": "markdown",
   "id": "2882a289",
   "metadata": {},
   "source": [
    "**We Can See Clearly for 96% Leads country is India Only. Therefore we can drop this column.**"
   ]
  },
  {
   "cell_type": "code",
   "execution_count": 25,
   "id": "c5e25f9c",
   "metadata": {},
   "outputs": [],
   "source": [
    "#dropping country column\n",
    "leads_df.drop(\"Country\",1,inplace=True)"
   ]
  },
  {
   "cell_type": "code",
   "execution_count": 26,
   "id": "3ec9e958",
   "metadata": {},
   "outputs": [
    {
     "data": {
      "text/plain": [
       "NaN                            3669\n",
       "Mumbai                         3222\n",
       "Thane & Outskirts               752\n",
       "Other Cities                    686\n",
       "Other Cities of Maharashtra     457\n",
       "Other Metro Cities              380\n",
       "Tier II Cities                   74\n",
       "Name: City, dtype: int64"
      ]
     },
     "execution_count": 26,
     "metadata": {},
     "output_type": "execute_result"
    }
   ],
   "source": [
    "#Letus check City Column\n",
    "leads_df['City'].value_counts(dropna=False)"
   ]
  },
  {
   "cell_type": "code",
   "execution_count": 27,
   "id": "f900e580",
   "metadata": {},
   "outputs": [],
   "source": [
    "#Since Mumbai is mode of this column values , we can replace NaN values to Mumbai\n",
    "leads_df['City']=leads_df['City'].replace(np.NaN,\"Mumbai\")"
   ]
  },
  {
   "cell_type": "code",
   "execution_count": 28,
   "id": "dcfda8bb",
   "metadata": {},
   "outputs": [
    {
     "data": {
      "image/png": "[encoded data removed]",
      "text/plain": [
       "<Figure size 600x300 with 1 Axes>"
      ]
     },
     "metadata": {},
     "output_type": "display_data"
    }
   ],
   "source": [
    "# Lets do Univariate Analysis of city \n",
    "plt.figure(figsize=(6,3))\n",
    "s1=sns.countplot(leads_df['City'], hue=leads_df['Converted'])\n",
    "plt.xticks(rotation=90)\n",
    "plt.legend(loc=1)\n",
    "plt.show()"
   ]
  },
  {
   "cell_type": "markdown",
   "id": "293dbc7a",
   "metadata": {},
   "source": [
    "Since Email Opened is mod of the column , we can replace NaN values to Email Opened .\n",
    "We can merge fewer value_counts to others\n"
   ]
  },
  {
   "cell_type": "code",
   "execution_count": 29,
   "id": "0fb001da",
   "metadata": {},
   "outputs": [],
   "source": [
    "leads_df[\"Last Activity\"]=leads_df[\"Last Activity\"].replace(np.NaN,\"Email Opened\")\n",
    "leads_df[\"Last Activity\"]=leads_df[\"Last Activity\"].replace([\"Had a Phone Conversation\",\"Approached upfront\",\"View in browser link Clicked\",\"Email Received\",\"Email Marked Spam\",\"Visited Booth in Tradeshow\",\"Resubscribed to emails\"],\"Others\")"
   ]
  },
  {
   "cell_type": "code",
   "execution_count": 30,
   "id": "21698957",
   "metadata": {},
   "outputs": [
    {
     "data": {
      "text/plain": [
       "Email Opened                 3540\n",
       "SMS Sent                     2745\n",
       "Olark Chat Conversation       973\n",
       "Page Visited on Website       640\n",
       "Converted to Lead             428\n",
       "Email Bounced                 326\n",
       "Email Link Clicked            267\n",
       "Form Submitted on Website     116\n",
       "Unreachable                    93\n",
       "Unsubscribed                   61\n",
       "Others                         51\n",
       "Name: Last Activity, dtype: int64"
      ]
     },
     "execution_count": 30,
     "metadata": {},
     "output_type": "execute_result"
    }
   ],
   "source": [
    "leads_df[\"Last Activity\"].value_counts(dropna=False)"
   ]
  },
  {
   "cell_type": "code",
   "execution_count": 31,
   "id": "9bf9c20f",
   "metadata": {},
   "outputs": [
    {
     "data": {
      "image/png": "[encoded data removed]",
      "text/plain": [
       "<Figure size 400x200 with 1 Axes>"
      ]
     },
     "metadata": {},
     "output_type": "display_data"
    }
   ],
   "source": [
    "# Lets check the spread of Last Activity\n",
    "plt.figure(figsize=(4,2))\n",
    "sns.countplot(x=leads_df[\"Last Activity\"],hue=leads_df[\"Converted\"])\n",
    "plt.xticks(rotation=90)\n",
    "plt.show()"
   ]
  },
  {
   "cell_type": "markdown",
   "id": "9228a4ff",
   "metadata": {},
   "source": [
    "**We can clearly see that SMS Sent has high conversion rate than others.**"
   ]
  },
  {
   "cell_type": "code",
   "execution_count": 32,
   "id": "d01b971b",
   "metadata": {},
   "outputs": [
    {
     "data": {
      "text/plain": [
       "NaN                                  3380\n",
       "Finance Management                    976\n",
       "Human Resource Management             848\n",
       "Marketing Management                  838\n",
       "Operations Management                 503\n",
       "Business Administration               403\n",
       "IT Projects Management                366\n",
       "Supply Chain Management               349\n",
       "Banking, Investment And Insurance     338\n",
       "Travel and Tourism                    203\n",
       "Media and Advertising                 203\n",
       "International Business                178\n",
       "Healthcare Management                 159\n",
       "Hospitality Management                114\n",
       "E-COMMERCE                            112\n",
       "Retail Management                     100\n",
       "Rural and Agribusiness                 73\n",
       "E-Business                             57\n",
       "Services Excellence                    40\n",
       "Name: Specialization, dtype: int64"
      ]
     },
     "execution_count": 32,
     "metadata": {},
     "output_type": "execute_result"
    }
   ],
   "source": [
    "# Lets check Specialization column\n",
    "leads_df[\"Specialization\"].value_counts(dropna=False)"
   ]
  },
  {
   "cell_type": "code",
   "execution_count": 33,
   "id": "683945d4",
   "metadata": {},
   "outputs": [],
   "source": [
    "# Since No column is having more counts than NaN values , we can imput Others in place of NaN values.\n",
    "leads_df[\"Specialization\"]=leads_df[\"Specialization\"].replace(np.NaN,\"Others\")"
   ]
  },
  {
   "cell_type": "code",
   "execution_count": 34,
   "id": "19cae66b",
   "metadata": {},
   "outputs": [],
   "source": [
    "# Since there are many columns having Management in common we can merge them into one.\n",
    "leads_df[\"Specialization\"]=leads_df[\"Specialization\"].replace([\"Finance Management\",\"Human Resource Management\",\n",
    "                                                               \"Marketing Management\",\n",
    "                                                               \"Operations Management\",\n",
    "                                                               \"IT Projects Management\",\"Supply Chain Management\",\n",
    "                                                              \"Healthcare Management\",\n",
    "                                                               \"Hospitality Management\",\n",
    "                                                               \"Retail Management\"],\"Management\")\n",
    "leads_df[\"Specialization\"]=leads_df[\"Specialization\"].replace([\"E-COMMERCE\",\"E-Business\"],\"E_Commerce\")"
   ]
  },
  {
   "cell_type": "code",
   "execution_count": 35,
   "id": "46d00847",
   "metadata": {},
   "outputs": [
    {
     "data": {
      "text/plain": [
       "Management                           4253\n",
       "Others                               3380\n",
       "Business Administration               403\n",
       "Banking, Investment And Insurance     338\n",
       "Media and Advertising                 203\n",
       "Travel and Tourism                    203\n",
       "International Business                178\n",
       "E_Commerce                            169\n",
       "Rural and Agribusiness                 73\n",
       "Services Excellence                    40\n",
       "Name: Specialization, dtype: int64"
      ]
     },
     "execution_count": 35,
     "metadata": {},
     "output_type": "execute_result"
    }
   ],
   "source": [
    "leads_df[\"Specialization\"].value_counts(dropna=False)"
   ]
  },
  {
   "cell_type": "code",
   "execution_count": 36,
   "id": "c6be5883",
   "metadata": {},
   "outputs": [
    {
     "data": {
      "image/png": "[encoded data removed]",
      "text/plain": [
       "<Figure size 400x200 with 1 Axes>"
      ]
     },
     "metadata": {},
     "output_type": "display_data"
    }
   ],
   "source": [
    "# Lets check spread of Specialization column\n",
    "plt.figure(figsize=(4,2))\n",
    "sns.countplot(x=leads_df[\"Specialization\"],hue=leads_df[\"Converted\"])\n",
    "plt.xticks(rotation=90)\n",
    "plt.show()"
   ]
  },
  {
   "cell_type": "code",
   "execution_count": 37,
   "id": "9f659d2c",
   "metadata": {},
   "outputs": [
    {
     "data": {
      "text/plain": [
       "Unemployed              5600\n",
       "NaN                     2690\n",
       "Working Professional     706\n",
       "Student                  210\n",
       "Other                     16\n",
       "Housewife                 10\n",
       "Businessman                8\n",
       "Name: What is your current occupation, dtype: int64"
      ]
     },
     "execution_count": 37,
     "metadata": {},
     "output_type": "execute_result"
    }
   ],
   "source": [
    "#Lets check Column-- What is your current occupation\n",
    "leads_df[\"What is your current occupation\"].value_counts(dropna=False)\n"
   ]
  },
  {
   "cell_type": "code",
   "execution_count": 38,
   "id": "c7f4220d",
   "metadata": {},
   "outputs": [],
   "source": [
    "#Changing NaN Values to Unemployed Category\n",
    "leads_df[\"What is your current occupation\"]=leads_df[\"What is your current occupation\"].replace(np.NaN,\"Unemployed\")"
   ]
  },
  {
   "cell_type": "code",
   "execution_count": 39,
   "id": "37f96317",
   "metadata": {},
   "outputs": [
    {
     "data": {
      "image/png": "[encoded data removed]",
      "text/plain": [
       "<Figure size 400x200 with 1 Axes>"
      ]
     },
     "metadata": {},
     "output_type": "display_data"
    }
   ],
   "source": [
    "#Letus check the spread of column with respect to Converted Column\n",
    "plt.figure(figsize=(4,2))\n",
    "sns.countplot(x=leads_df[\"What is your current occupation\"],hue=leads_df[\"Converted\"])\n",
    "plt.xticks(rotation=90)\n",
    "plt.show()"
   ]
  },
  {
   "cell_type": "markdown",
   "id": "5d9e5ea3",
   "metadata": {},
   "source": [
    "- **We can clearly see that Working Professional are more succesfull leads.**\n",
    "- **In terms of absolute numbers , unemployed is high.**"
   ]
  },
  {
   "cell_type": "code",
   "execution_count": 40,
   "id": "d9768852",
   "metadata": {},
   "outputs": [
    {
     "data": {
      "text/plain": [
       "Better Career Prospects      6528\n",
       "NaN                          2709\n",
       "Flexibility & Convenience       2\n",
       "Other                           1\n",
       "Name: What matters most to you in choosing a course, dtype: int64"
      ]
     },
     "execution_count": 40,
     "metadata": {},
     "output_type": "execute_result"
    }
   ],
   "source": [
    "#Lets check What matters most to you in choosing a course column\n",
    "leads_df[\"What matters most to you in choosing a course\"].value_counts(dropna=False)"
   ]
  },
  {
   "cell_type": "code",
   "execution_count": 41,
   "id": "aa71576e",
   "metadata": {},
   "outputs": [],
   "source": [
    "#We Can replace NaN values to Better Career Prospects.\n",
    "leads_df[\"What matters most to you in choosing a course\"]=leads_df[\"What matters most to you in choosing a course\"].replace(np.NaN,\"Better Career Prospects\")"
   ]
  },
  {
   "cell_type": "code",
   "execution_count": 42,
   "id": "0a20fe26",
   "metadata": {},
   "outputs": [
    {
     "data": {
      "text/plain": [
       "Better Career Prospects      9237\n",
       "Flexibility & Convenience       2\n",
       "Other                           1\n",
       "Name: What matters most to you in choosing a course, dtype: int64"
      ]
     },
     "execution_count": 42,
     "metadata": {},
     "output_type": "execute_result"
    }
   ],
   "source": [
    "# Lets check again\n",
    "leads_df[\"What matters most to you in choosing a course\"].value_counts(dropna=False)"
   ]
  },
  {
   "cell_type": "markdown",
   "id": "2bc300ef",
   "metadata": {},
   "source": [
    "Since column category is almost same as \"Better Career Prospects\". We can drop this column."
   ]
  },
  {
   "cell_type": "code",
   "execution_count": 43,
   "id": "5da82bbc",
   "metadata": {},
   "outputs": [],
   "source": [
    "Drop_Column=[]"
   ]
  },
  {
   "cell_type": "code",
   "execution_count": 44,
   "id": "d8cd5077",
   "metadata": {},
   "outputs": [],
   "source": [
    "#adding column to Dr0p_Column list\n",
    "Drop_Column.append(\"What matters most to you in choosing a course\")"
   ]
  },
  {
   "cell_type": "code",
   "execution_count": 45,
   "id": "2579aa45",
   "metadata": {},
   "outputs": [
    {
     "data": {
      "text/plain": [
       "No     9226\n",
       "Yes      14\n",
       "Name: Search, dtype: int64"
      ]
     },
     "execution_count": 45,
     "metadata": {},
     "output_type": "execute_result"
    }
   ],
   "source": [
    "#Lets check Search Column\n",
    "leads_df[\"Search\"].value_counts(dropna=False)"
   ]
  },
  {
   "cell_type": "code",
   "execution_count": 46,
   "id": "4a8c23fb",
   "metadata": {},
   "outputs": [],
   "source": [
    "#We can drop this column also . Adding to Drop_Column list\n",
    "Drop_Column.append(\"Search\")"
   ]
  },
  {
   "cell_type": "code",
   "execution_count": 47,
   "id": "c85e13c3",
   "metadata": {},
   "outputs": [
    {
     "data": {
      "text/plain": [
       "No    9240\n",
       "Name: Magazine, dtype: int64"
      ]
     },
     "execution_count": 47,
     "metadata": {},
     "output_type": "execute_result"
    }
   ],
   "source": [
    "# Lets check Magazine Column\n",
    "leads_df[\"Magazine\"].value_counts(dropna=False)"
   ]
  },
  {
   "cell_type": "code",
   "execution_count": 48,
   "id": "c94a97be",
   "metadata": {},
   "outputs": [],
   "source": [
    "#We can drop this column also . Adding to Drop_Column list\n",
    "Drop_Column.append(\"Magazine\")"
   ]
  },
  {
   "cell_type": "code",
   "execution_count": 49,
   "id": "19945156",
   "metadata": {},
   "outputs": [
    {
     "data": {
      "text/plain": [
       "No     9238\n",
       "Yes       2\n",
       "Name: Newspaper Article, dtype: int64"
      ]
     },
     "execution_count": 49,
     "metadata": {},
     "output_type": "execute_result"
    }
   ],
   "source": [
    "#Lets check Newspaper Article column\n",
    "leads_df[\"Newspaper Article\"].value_counts(dropna=False)"
   ]
  },
  {
   "cell_type": "code",
   "execution_count": 50,
   "id": "b66120b8",
   "metadata": {},
   "outputs": [],
   "source": [
    "#We can drop this column also . Adding to Drop_Column list\n",
    "Drop_Column.append(\"Newspaper Article\")"
   ]
  },
  {
   "cell_type": "code",
   "execution_count": 51,
   "id": "15def297",
   "metadata": {},
   "outputs": [
    {
     "data": {
      "text/plain": [
       "No     9239\n",
       "Yes       1\n",
       "Name: X Education Forums, dtype: int64"
      ]
     },
     "execution_count": 51,
     "metadata": {},
     "output_type": "execute_result"
    }
   ],
   "source": [
    "# Letus check X Education Forums column\n",
    "leads_df['X Education Forums'].value_counts(dropna=False)"
   ]
  },
  {
   "cell_type": "code",
   "execution_count": 52,
   "id": "460aa931",
   "metadata": {},
   "outputs": [],
   "source": [
    "#We can drop this column also . Adding to Drop_Column list\n",
    "Drop_Column.append(\"X Education Forums\")"
   ]
  },
  {
   "cell_type": "code",
   "execution_count": 53,
   "id": "4884e57f",
   "metadata": {},
   "outputs": [
    {
     "data": {
      "text/plain": [
       "No     9239\n",
       "Yes       1\n",
       "Name: Newspaper, dtype: int64"
      ]
     },
     "execution_count": 53,
     "metadata": {},
     "output_type": "execute_result"
    }
   ],
   "source": [
    "# Lets check Newspaper Column\n",
    "leads_df[\"Newspaper\"].value_counts(dropna=False)"
   ]
  },
  {
   "cell_type": "code",
   "execution_count": 54,
   "id": "3084ac43",
   "metadata": {},
   "outputs": [],
   "source": [
    "#We can drop this column also . Adding to Drop_Column list\n",
    "Drop_Column.append(\"Newspaper\")"
   ]
  },
  {
   "cell_type": "code",
   "execution_count": 55,
   "id": "4c84be9d",
   "metadata": {},
   "outputs": [
    {
     "data": {
      "text/plain": [
       "No     9236\n",
       "Yes       4\n",
       "Name: Digital Advertisement, dtype: int64"
      ]
     },
     "execution_count": 55,
     "metadata": {},
     "output_type": "execute_result"
    }
   ],
   "source": [
    "# Letus check Digital Advertisement column\n",
    "leads_df[\"Digital Advertisement\"].value_counts(dropna=False)"
   ]
  },
  {
   "cell_type": "code",
   "execution_count": 56,
   "id": "ccd72bb9",
   "metadata": {},
   "outputs": [],
   "source": [
    "# We can drop this column also . Adding to Drop_Column list\n",
    "Drop_Column.append(\"Digital Advertisement\")"
   ]
  },
  {
   "cell_type": "code",
   "execution_count": 57,
   "id": "80e0e805",
   "metadata": {},
   "outputs": [
    {
     "data": {
      "text/plain": [
       "No     9233\n",
       "Yes       7\n",
       "Name: Through Recommendations, dtype: int64"
      ]
     },
     "execution_count": 57,
     "metadata": {},
     "output_type": "execute_result"
    }
   ],
   "source": [
    "# Letus check Through Recommendations column\n",
    "leads_df[\"Through Recommendations\"].value_counts(dropna=False)"
   ]
  },
  {
   "cell_type": "code",
   "execution_count": 58,
   "id": "710b9322",
   "metadata": {},
   "outputs": [],
   "source": [
    "# We can drop this column also . Adding to Drop_Column list\n",
    "Drop_Column.append(\"Through Recommendations\")"
   ]
  },
  {
   "cell_type": "code",
   "execution_count": 59,
   "id": "85f953c8",
   "metadata": {},
   "outputs": [
    {
     "data": {
      "text/plain": [
       "No    9240\n",
       "Name: Receive More Updates About Our Courses, dtype: int64"
      ]
     },
     "execution_count": 59,
     "metadata": {},
     "output_type": "execute_result"
    }
   ],
   "source": [
    "# Letus check Receive More Updates About Our Courses column\n",
    "leads_df[\"Receive More Updates About Our Courses\"].value_counts(dropna=False)"
   ]
  },
  {
   "cell_type": "code",
   "execution_count": 60,
   "id": "379e53b8",
   "metadata": {},
   "outputs": [],
   "source": [
    "# We can drop this column also . Adding to Drop_Column list\n",
    "Drop_Column.append(\"Receive More Updates About Our Courses\")"
   ]
  },
  {
   "cell_type": "code",
   "execution_count": 61,
   "id": "ce68d103",
   "metadata": {
    "scrolled": true
   },
   "outputs": [
    {
     "data": {
      "text/plain": [
       "NaN                                                  3353\n",
       "Will revert after reading the email                  2072\n",
       "Ringing                                              1203\n",
       "Interested in other courses                           513\n",
       "Already a student                                     465\n",
       "Closed by Horizzon                                    358\n",
       "switched off                                          240\n",
       "Busy                                                  186\n",
       "Lost to EINS                                          175\n",
       "Not doing further education                           145\n",
       "Interested  in full time MBA                          117\n",
       "Graduation in progress                                111\n",
       "invalid number                                         83\n",
       "Diploma holder (Not Eligible)                          63\n",
       "wrong number given                                     47\n",
       "opp hangup                                             33\n",
       "number not provided                                    27\n",
       "in touch with EINS                                     12\n",
       "Lost to Others                                          7\n",
       "Still Thinking                                          6\n",
       "Want to take admission but has financial problems       6\n",
       "In confusion whether part time or DLP                   5\n",
       "Interested in Next batch                                5\n",
       "Lateral student                                         3\n",
       "Shall take in the next coming month                     2\n",
       "University not recognized                               2\n",
       "Recognition issue (DEC approval)                        1\n",
       "Name: Tags, dtype: int64"
      ]
     },
     "execution_count": 61,
     "metadata": {},
     "output_type": "execute_result"
    }
   ],
   "source": [
    "# Letus Check Tags column\n",
    "leads_df[\"Tags\"].value_counts(dropna=False)"
   ]
  },
  {
   "cell_type": "markdown",
   "id": "f4f810c1",
   "metadata": {},
   "source": [
    "We can convert NaN values to Will revert after reading the email.\n",
    "Also we can merge fewer value counts columns to others"
   ]
  },
  {
   "cell_type": "code",
   "execution_count": 62,
   "id": "88f25aa0",
   "metadata": {},
   "outputs": [],
   "source": [
    "leads_df['Tags']=leads_df['Tags'].replace(np.NaN,\"Will revert after reading the email\")"
   ]
  },
  {
   "cell_type": "code",
   "execution_count": 63,
   "id": "9ac4477b",
   "metadata": {},
   "outputs": [],
   "source": [
    "leads_df[\"Tags\"]=leads_df[\"Tags\"].replace([\"invalid number\",\"Diploma holder (Not Eligible)\",\n",
    "                                           \"wrong number given\",\"opp hangup\",\n",
    "                                           \"number not provided\",\"in touch with EINS\",\"Lost to Others\",\"Still Thinking\"\n",
    "                                           ,\"Want to take admission but has financial problems\",\"In confusion whether part time or DLP\",\n",
    "                                           \"Interested in Next batch\",\"Lateral student\",\"Shall take in the next coming month\",\n",
    "                                           \"University not recognized\",\"Recognition issue (DEC approval)\"],\"Others\")"
   ]
  },
  {
   "cell_type": "code",
   "execution_count": 64,
   "id": "cdab1f82",
   "metadata": {},
   "outputs": [
    {
     "data": {
      "text/plain": [
       "Will revert after reading the email    5425\n",
       "Ringing                                1203\n",
       "Interested in other courses             513\n",
       "Already a student                       465\n",
       "Closed by Horizzon                      358\n",
       "Others                                  302\n",
       "switched off                            240\n",
       "Busy                                    186\n",
       "Lost to EINS                            175\n",
       "Not doing further education             145\n",
       "Interested  in full time MBA            117\n",
       "Graduation in progress                  111\n",
       "Name: Tags, dtype: int64"
      ]
     },
     "execution_count": 64,
     "metadata": {},
     "output_type": "execute_result"
    }
   ],
   "source": [
    "# Letus check again\n",
    "leads_df[\"Tags\"].value_counts(dropna=False)"
   ]
  },
  {
   "cell_type": "code",
   "execution_count": 65,
   "id": "82a36db3",
   "metadata": {},
   "outputs": [
    {
     "data": {
      "image/png": "[encoded data removed]",
      "text/plain": [
       "<Figure size 400x200 with 1 Axes>"
      ]
     },
     "metadata": {},
     "output_type": "display_data"
    }
   ],
   "source": [
    "# Letus check spread of column with respect to  converted \n",
    "plt.figure(figsize=(4,2))\n",
    "sns.countplot(x=leads_df[\"Tags\"],hue=leads_df[\"Converted\"])\n",
    "plt.xticks(rotation=90)\n",
    "plt.show()"
   ]
  },
  {
   "cell_type": "code",
   "execution_count": 66,
   "id": "5cf4d21a",
   "metadata": {},
   "outputs": [
    {
     "data": {
      "text/plain": [
       "No    9240\n",
       "Name: Update me on Supply Chain Content, dtype: int64"
      ]
     },
     "execution_count": 66,
     "metadata": {},
     "output_type": "execute_result"
    }
   ],
   "source": [
    "# Letus check 'Update me on Supply Chain Content' column\n",
    "leads_df['Update me on Supply Chain Content'].value_counts(dropna=False)"
   ]
  },
  {
   "cell_type": "code",
   "execution_count": 67,
   "id": "ec3e8805",
   "metadata": {},
   "outputs": [],
   "source": [
    "# We can drop this column also . Adding to Drop_Column list\n",
    "Drop_Column.append(\"Update me on Supply Chain Content\")"
   ]
  },
  {
   "cell_type": "code",
   "execution_count": 68,
   "id": "1bba3482",
   "metadata": {},
   "outputs": [
    {
     "data": {
      "text/plain": [
       "No    9240\n",
       "Name: Get updates on DM Content, dtype: int64"
      ]
     },
     "execution_count": 68,
     "metadata": {},
     "output_type": "execute_result"
    }
   ],
   "source": [
    "# Letus check 'Get updates on DM Content'\n",
    "leads_df[\"Get updates on DM Content\"].value_counts(dropna=False)"
   ]
  },
  {
   "cell_type": "code",
   "execution_count": 69,
   "id": "cf03a060",
   "metadata": {},
   "outputs": [],
   "source": [
    "# We can drop this column also . Adding to Drop_Column list\n",
    "Drop_Column.append(\"Get updates on DM Content\")"
   ]
  },
  {
   "cell_type": "code",
   "execution_count": 70,
   "id": "5e40f088",
   "metadata": {},
   "outputs": [
    {
     "data": {
      "text/plain": [
       "No     9238\n",
       "Yes       2\n",
       "Name: Do Not Call, dtype: int64"
      ]
     },
     "execution_count": 70,
     "metadata": {},
     "output_type": "execute_result"
    }
   ],
   "source": [
    "# Letus check Do Not Call column\n",
    "leads_df[\"Do Not Call\"].value_counts(dropna=False)"
   ]
  },
  {
   "cell_type": "code",
   "execution_count": 71,
   "id": "7c5a51e6",
   "metadata": {},
   "outputs": [],
   "source": [
    "# We can drop this column also . Adding to Drop_Column list\n",
    "Drop_Column.append(\"Do Not Call\")"
   ]
  },
  {
   "cell_type": "code",
   "execution_count": 72,
   "id": "4c35d6a8",
   "metadata": {},
   "outputs": [
    {
     "data": {
      "text/plain": [
       "No     8506\n",
       "Yes     734\n",
       "Name: Do Not Email, dtype: int64"
      ]
     },
     "execution_count": 72,
     "metadata": {},
     "output_type": "execute_result"
    }
   ],
   "source": [
    "# Letus check Do Not Email column\n",
    "leads_df[\"Do Not Email\"].value_counts(dropna=False)"
   ]
  },
  {
   "cell_type": "code",
   "execution_count": 73,
   "id": "b4735e28",
   "metadata": {},
   "outputs": [
    {
     "data": {
      "text/plain": [
       "No    9240\n",
       "Name: I agree to pay the amount through cheque, dtype: int64"
      ]
     },
     "execution_count": 73,
     "metadata": {},
     "output_type": "execute_result"
    }
   ],
   "source": [
    "# Letus check I agree to pay the amount through cheque column\n",
    "leads_df[\"I agree to pay the amount through cheque\"].value_counts(dropna=False)"
   ]
  },
  {
   "cell_type": "code",
   "execution_count": 74,
   "id": "4b4cf062",
   "metadata": {},
   "outputs": [],
   "source": [
    "# We can drop this column also . Adding to Drop_Column list\n",
    "Drop_Column.append(\"I agree to pay the amount through cheque\")"
   ]
  },
  {
   "cell_type": "code",
   "execution_count": 75,
   "id": "b60a1977",
   "metadata": {},
   "outputs": [
    {
     "data": {
      "text/plain": [
       "No     6352\n",
       "Yes    2888\n",
       "Name: A free copy of Mastering The Interview, dtype: int64"
      ]
     },
     "execution_count": 75,
     "metadata": {},
     "output_type": "execute_result"
    }
   ],
   "source": [
    "# Letus check 'A free copy of Mastering The Interview' column\n",
    "leads_df[\"A free copy of Mastering The Interview\"].value_counts(dropna=False)"
   ]
  },
  {
   "cell_type": "code",
   "execution_count": 76,
   "id": "f72a7dfa",
   "metadata": {
    "scrolled": true
   },
   "outputs": [
    {
     "data": {
      "text/plain": [
       "Modified                        3407\n",
       "Email Opened                    2827\n",
       "SMS Sent                        2172\n",
       "Page Visited on Website          318\n",
       "Olark Chat Conversation          183\n",
       "Email Link Clicked               173\n",
       "Email Bounced                     60\n",
       "Unsubscribed                      47\n",
       "Unreachable                       32\n",
       "Had a Phone Conversation          14\n",
       "Email Marked Spam                  2\n",
       "Approached upfront                 1\n",
       "Resubscribed to emails             1\n",
       "View in browser link Clicked       1\n",
       "Form Submitted on Website          1\n",
       "Email Received                     1\n",
       "Name: Last Notable Activity, dtype: int64"
      ]
     },
     "execution_count": 76,
     "metadata": {},
     "output_type": "execute_result"
    }
   ],
   "source": [
    "# Letus check 'Last Notable Activity' column\n",
    "leads_df[\"Last Notable Activity\"].value_counts(dropna=False)"
   ]
  },
  {
   "cell_type": "code",
   "execution_count": 77,
   "id": "9fca2fb5",
   "metadata": {},
   "outputs": [],
   "source": [
    "# letus merge fewer count to Others category\n",
    "leads_df[\"Last Notable Activity\"]=leads_df[\"Last Notable Activity\"].replace([\"Email Bounced\",\"Unsubscribed\",\n",
    "                    \"Unreachable\"   ,  \"Had a Phone Conversation\" ,\"Email Marked Spam\" ,\"Approached upfront\"  ,\n",
    "                     \"Resubscribed to emails\",\"View in browser link Clicked\",\"Form Submitted on Website\",\n",
    "                \"Email Received \" ],\"Others\")"
   ]
  },
  {
   "cell_type": "code",
   "execution_count": 78,
   "id": "9270a6d3",
   "metadata": {},
   "outputs": [
    {
     "data": {
      "image/png": "[encoded data removed]",
      "text/plain": [
       "<Figure size 400x200 with 1 Axes>"
      ]
     },
     "metadata": {},
     "output_type": "display_data"
    }
   ],
   "source": [
    "# Letus check spread of the column with respect to converted\n",
    "plt.figure(figsize=(4,2))\n",
    "sns.countplot(x=leads_df[\"Last Notable Activity\"],hue=leads_df[\"Converted\"])\n",
    "plt.xticks(rotation=90)\n",
    "plt.show()"
   ]
  },
  {
   "cell_type": "code",
   "execution_count": 79,
   "id": "b42a3f95",
   "metadata": {},
   "outputs": [],
   "source": [
    "# Letus drop the columns of Drop_Column list\n",
    "leads_df.drop(Drop_Column,axis=1, inplace=True)"
   ]
  },
  {
   "cell_type": "code",
   "execution_count": 80,
   "id": "796f4b8f",
   "metadata": {},
   "outputs": [
    {
     "data": {
      "text/plain": [
       "(9240, 14)"
      ]
     },
     "execution_count": 80,
     "metadata": {},
     "output_type": "execute_result"
    }
   ],
   "source": [
    "# Letus check final dataframe\n",
    "leads_df.shape"
   ]
  },
  {
   "cell_type": "code",
   "execution_count": 81,
   "id": "a90ef22a",
   "metadata": {},
   "outputs": [
    {
     "name": "stdout",
     "output_type": "stream",
     "text": [
      "<class 'pandas.core.frame.DataFrame'>\n",
      "RangeIndex: 9240 entries, 0 to 9239\n",
      "Data columns (total 14 columns):\n",
      " #   Column                                  Non-Null Count  Dtype  \n",
      "---  ------                                  --------------  -----  \n",
      " 0   Lead Origin                             9240 non-null   object \n",
      " 1   Lead Source                             9204 non-null   object \n",
      " 2   Do Not Email                            9240 non-null   object \n",
      " 3   Converted                               9240 non-null   int64  \n",
      " 4   TotalVisits                             9103 non-null   float64\n",
      " 5   Total Time Spent on Website             9240 non-null   int64  \n",
      " 6   Page Views Per Visit                    9103 non-null   float64\n",
      " 7   Last Activity                           9240 non-null   object \n",
      " 8   Specialization                          9240 non-null   object \n",
      " 9   What is your current occupation         9240 non-null   object \n",
      " 10  Tags                                    9240 non-null   object \n",
      " 11  City                                    9240 non-null   object \n",
      " 12  A free copy of Mastering The Interview  9240 non-null   object \n",
      " 13  Last Notable Activity                   9240 non-null   object \n",
      "dtypes: float64(2), int64(2), object(10)\n",
      "memory usage: 1010.8+ KB\n"
     ]
    }
   ],
   "source": [
    "leads_df.info()"
   ]
  },
  {
   "cell_type": "code",
   "execution_count": 82,
   "id": "61c9868d",
   "metadata": {},
   "outputs": [
    {
     "data": {
      "text/plain": [
       "Lead Origin                               0.00\n",
       "Lead Source                               0.39\n",
       "Do Not Email                              0.00\n",
       "Converted                                 0.00\n",
       "TotalVisits                               1.48\n",
       "Total Time Spent on Website               0.00\n",
       "Page Views Per Visit                      1.48\n",
       "Last Activity                             0.00\n",
       "Specialization                            0.00\n",
       "What is your current occupation           0.00\n",
       "Tags                                      0.00\n",
       "City                                      0.00\n",
       "A free copy of Mastering The Interview    0.00\n",
       "Last Notable Activity                     0.00\n",
       "dtype: float64"
      ]
     },
     "execution_count": 82,
     "metadata": {},
     "output_type": "execute_result"
    }
   ],
   "source": [
    "# Letus check again for null value percentage\n",
    "round((leads_df.isnull().sum()/leads_df.shape[0])*100,2)"
   ]
  },
  {
   "cell_type": "code",
   "execution_count": 83,
   "id": "e434d4ad",
   "metadata": {},
   "outputs": [],
   "source": [
    "# Since only 1.5 % values have are missing , we can drop these rows.Lets dropp null rows\n",
    "leads_df=leads_df.dropna()"
   ]
  },
  {
   "cell_type": "code",
   "execution_count": 84,
   "id": "f25810e2",
   "metadata": {
    "scrolled": true
   },
   "outputs": [
    {
     "data": {
      "text/plain": [
       "Lead Origin                               0.0\n",
       "Lead Source                               0.0\n",
       "Do Not Email                              0.0\n",
       "Converted                                 0.0\n",
       "TotalVisits                               0.0\n",
       "Total Time Spent on Website               0.0\n",
       "Page Views Per Visit                      0.0\n",
       "Last Activity                             0.0\n",
       "Specialization                            0.0\n",
       "What is your current occupation           0.0\n",
       "Tags                                      0.0\n",
       "City                                      0.0\n",
       "A free copy of Mastering The Interview    0.0\n",
       "Last Notable Activity                     0.0\n",
       "dtype: float64"
      ]
     },
     "execution_count": 84,
     "metadata": {},
     "output_type": "execute_result"
    }
   ],
   "source": [
    "# Letus check again for null value percentage\n",
    "round((leads_df.isnull().sum()/leads_df.shape[0])*100,2)"
   ]
  },
  {
   "cell_type": "markdown",
   "id": "901499c9",
   "metadata": {},
   "source": [
    "Finally we have reduced our dataframe columns from 37 to 15 . Also we have dealt with null values."
   ]
  },
  {
   "cell_type": "markdown",
   "id": "aafb43c5",
   "metadata": {},
   "source": [
    "### Analysis of Numerical variables\n",
    "<hr/>"
   ]
  },
  {
   "cell_type": "code",
   "execution_count": 85,
   "id": "5e2742f7",
   "metadata": {},
   "outputs": [
    {
     "data": {
      "image/png": "[encoded data removed]",
      "text/plain": [
       "<Figure size 500x300 with 1 Axes>"
      ]
     },
     "metadata": {},
     "output_type": "display_data"
    }
   ],
   "source": [
    "# letus check Total Visits\n",
    "plt.figure(figsize=(5,3))\n",
    "sns.boxplot(leads_df[\"TotalVisits\"])\n",
    "plt.show()"
   ]
  },
  {
   "cell_type": "code",
   "execution_count": 86,
   "id": "9cf098ea",
   "metadata": {},
   "outputs": [
    {
     "data": {
      "text/plain": [
       "count    9074.000000\n",
       "mean        3.456028\n",
       "std         4.858802\n",
       "min         0.000000\n",
       "10%         0.000000\n",
       "25%         1.000000\n",
       "50%         3.000000\n",
       "75%         5.000000\n",
       "90%         7.000000\n",
       "99%        17.000000\n",
       "max       251.000000\n",
       "Name: TotalVisits, dtype: float64"
      ]
     },
     "execution_count": 86,
     "metadata": {},
     "output_type": "execute_result"
    }
   ],
   "source": [
    "# Seems it contains outliers .Letus check for the same.\n",
    "leads_df[\"TotalVisits\"].describe([.10,.25,.5,.75,.9,.99])"
   ]
  },
  {
   "cell_type": "markdown",
   "id": "037ff841",
   "metadata": {},
   "source": [
    "We can see that it contains outlier. Lets treat the outlier."
   ]
  },
  {
   "cell_type": "code",
   "execution_count": 87,
   "id": "96eac9f9",
   "metadata": {},
   "outputs": [],
   "source": [
    "Q3=leads_df.TotalVisits.quantile(0.99)\n",
    "Q1=leads_df.TotalVisits.quantile(0.01)\n",
    "  #lets remove 1% values from top & bottom.\n",
    "leads_df=leads_df[leads_df.TotalVisits<=Q3]\n",
    "leads_df=leads_df[leads_df.TotalVisits>=Q1]"
   ]
  },
  {
   "cell_type": "code",
   "execution_count": 88,
   "id": "f22fd40f",
   "metadata": {},
   "outputs": [
    {
     "data": {
      "image/png": "[encoded data removed]",
      "text/plain": [
       "<Figure size 500x300 with 1 Axes>"
      ]
     },
     "metadata": {},
     "output_type": "display_data"
    }
   ],
   "source": [
    "#Letus plot boxplot again to check.\n",
    "plt.figure(figsize=(5,3))\n",
    "sns.boxplot(leads_df[\"TotalVisits\"])\n",
    "plt.show()"
   ]
  },
  {
   "cell_type": "code",
   "execution_count": 89,
   "id": "3f88a69a",
   "metadata": {},
   "outputs": [
    {
     "data": {
      "image/png": "[encoded data removed]",
      "text/plain": [
       "<Figure size 500x300 with 1 Axes>"
      ]
     },
     "metadata": {},
     "output_type": "display_data"
    }
   ],
   "source": [
    "# letus check Total Time Spent on Website\n",
    "plt.figure(figsize=(5,3))\n",
    "sns.boxplot(leads_df[\"Total Time Spent on Website\"])\n",
    "plt.show()"
   ]
  },
  {
   "cell_type": "code",
   "execution_count": 90,
   "id": "b326ebcc",
   "metadata": {},
   "outputs": [
    {
     "data": {
      "text/plain": [
       "count    8991.000000\n",
       "mean      481.305973\n",
       "std       544.883763\n",
       "min         0.000000\n",
       "10%         0.000000\n",
       "25%         9.000000\n",
       "50%       245.000000\n",
       "75%       919.500000\n",
       "90%      1372.000000\n",
       "99%      1837.200000\n",
       "max      2272.000000\n",
       "Name: Total Time Spent on Website, dtype: float64"
      ]
     },
     "execution_count": 90,
     "metadata": {},
     "output_type": "execute_result"
    }
   ],
   "source": [
    "#letus check qunatiles for outliers\n",
    "leads_df[\"Total Time Spent on Website\"].describe([.10,.25,.5,.75,.9,.99])"
   ]
  },
  {
   "cell_type": "markdown",
   "id": "667ef475",
   "metadata": {},
   "source": [
    "- There are no major outliers avaliable so we can proceed."
   ]
  },
  {
   "cell_type": "code",
   "execution_count": 91,
   "id": "49e2cc0f",
   "metadata": {},
   "outputs": [
    {
     "data": {
      "image/png": "[encoded data removed]",
      "text/plain": [
       "<Figure size 500x300 with 1 Axes>"
      ]
     },
     "metadata": {},
     "output_type": "display_data"
    }
   ],
   "source": [
    "# Letus check Page Views Per Visit   \n",
    "plt.figure(figsize=(5,3))\n",
    "sns.boxplot(leads_df[\"Page Views Per Visit\"])\n",
    "plt.show()"
   ]
  },
  {
   "cell_type": "code",
   "execution_count": 92,
   "id": "ce23bd7c",
   "metadata": {},
   "outputs": [
    {
     "data": {
      "text/plain": [
       "count    8991.000000\n",
       "mean        2.344587\n",
       "std         2.061548\n",
       "min         0.000000\n",
       "10%         0.000000\n",
       "25%         1.000000\n",
       "50%         2.000000\n",
       "75%         3.000000\n",
       "90%         5.000000\n",
       "99%         9.000000\n",
       "max        16.000000\n",
       "Name: Page Views Per Visit, dtype: float64"
      ]
     },
     "execution_count": 92,
     "metadata": {},
     "output_type": "execute_result"
    }
   ],
   "source": [
    "# Seems it also contains few outliers . letus check quantile for the same.\n",
    "leads_df[\"Page Views Per Visit\"].describe([.10,.25,.5,.75,.9,.99])"
   ]
  },
  {
   "cell_type": "code",
   "execution_count": 93,
   "id": "21d3609b",
   "metadata": {},
   "outputs": [],
   "source": [
    "Q3=leads_df['Page Views Per Visit'].quantile(0.99)\n",
    "Q1=leads_df['Page Views Per Visit'].quantile(0.01)\n",
    "  #lets remove 1% values from top & bottom.\n",
    "leads_df=leads_df[leads_df['Page Views Per Visit']<=Q3]\n",
    "leads_df=leads_df[leads_df['Page Views Per Visit']>=Q1]"
   ]
  },
  {
   "cell_type": "code",
   "execution_count": 94,
   "id": "159f38c7",
   "metadata": {},
   "outputs": [
    {
     "data": {
      "image/png": "[encoded data removed]",
      "text/plain": [
       "<Figure size 500x300 with 1 Axes>"
      ]
     },
     "metadata": {},
     "output_type": "display_data"
    }
   ],
   "source": [
    "#Letus plot boxplot again to check.\n",
    "plt.figure(figsize=(5,3))\n",
    "sns.boxplot(leads_df[\"Page Views Per Visit\"])\n",
    "plt.show()"
   ]
  },
  {
   "cell_type": "code",
   "execution_count": 95,
   "id": "15999eca",
   "metadata": {},
   "outputs": [
    {
     "data": {
      "image/png": "[encoded data removed]",
      "text/plain": [
       "<Figure size 1500x400 with 3 Axes>"
      ]
     },
     "metadata": {},
     "output_type": "display_data"
    }
   ],
   "source": [
    "plt.figure(figsize=(15,4))\n",
    "plt.subplot(1,3,1)\n",
    "sns.boxplot(y=leads_df[\"TotalVisits\"],x=leads_df[\"Converted\"])\n",
    "plt.ylabel(\"TotalVisits Vs Converted\")\n",
    "\n",
    "plt.subplot(1,3,2)\n",
    "sns.boxplot(y=leads_df['Page Views Per Visit'],x=leads_df[\"Converted\"])\n",
    "plt.ylabel(\"Page Views Per Visit Vs Converted\")\n",
    "\n",
    "\n",
    "plt.subplot(1,3,3)\n",
    "sns.boxplot(y=leads_df['Total Time Spent on Website'],x=leads_df[\"Converted\"])\n",
    "plt.ylabel(\"Total Time Spent on Website Vs Converted\")\n",
    "\n",
    "plt.show()"
   ]
  },
  {
   "cell_type": "markdown",
   "id": "d02c4786",
   "metadata": {},
   "source": [
    "- We can see & clearly say that leads spending higher times on website have higher convrsion rate."
   ]
  },
  {
   "cell_type": "code",
   "execution_count": 96,
   "id": "5d335a5d",
   "metadata": {},
   "outputs": [
    {
     "data": {
      "text/plain": [
       "(8924, 14)"
      ]
     },
     "execution_count": 96,
     "metadata": {},
     "output_type": "execute_result"
    }
   ],
   "source": [
    "# Lets us check our final dataframe shape\n",
    "leads_df.shape"
   ]
  },
  {
   "cell_type": "markdown",
   "id": "0d84c4a3",
   "metadata": {},
   "source": [
    "### Dummy Variable creation\n",
    "<hr/>"
   ]
  },
  {
   "cell_type": "code",
   "execution_count": 97,
   "id": "2023990d",
   "metadata": {},
   "outputs": [
    {
     "data": {
      "text/plain": [
       "['Lead Origin',\n",
       " 'Lead Source',\n",
       " 'Do Not Email',\n",
       " 'Last Activity',\n",
       " 'Specialization',\n",
       " 'What is your current occupation',\n",
       " 'Tags',\n",
       " 'City',\n",
       " 'A free copy of Mastering The Interview',\n",
       " 'Last Notable Activity']"
      ]
     },
     "execution_count": 97,
     "metadata": {},
     "output_type": "execute_result"
    }
   ],
   "source": [
    "Categorical_columns=list(leads_df.select_dtypes(include=['object']).columns)\n",
    "Categorical_columns"
   ]
  },
  {
   "cell_type": "code",
   "execution_count": 98,
   "id": "c4106ef2",
   "metadata": {},
   "outputs": [],
   "source": [
    "leads_df[\"A free copy of Mastering The Interview\"]=leads_df[\"A free copy of Mastering The Interview\"].apply(lambda x: 1 if x ==\"Yes\" else 0)\n",
    "\n",
    "leads_df[\"Do Not Email\"]=leads_df[\"Do Not Email\"].apply(lambda x: 1 if x ==\"Yes\" else 0)"
   ]
  },
  {
   "cell_type": "code",
   "execution_count": 99,
   "id": "8c6e09dc",
   "metadata": {},
   "outputs": [],
   "source": [
    "#getting dummies and dropping the first column and adding the results to the master dataframe\n",
    "dummy = pd.get_dummies(leads_df[['Lead Origin','What is your current occupation',\n",
    "                             'City']], drop_first=True)\n",
    "\n",
    "leads_df = pd.concat([leads_df,dummy],1)"
   ]
  },
  {
   "cell_type": "code",
   "execution_count": 100,
   "id": "85f5497b",
   "metadata": {},
   "outputs": [],
   "source": [
    "dummy = pd.get_dummies(leads_df['Specialization'], prefix  = 'Specialization')\n",
    "dummy = dummy.drop(['Specialization_Others'], 1)\n",
    "leads_df = pd.concat([leads_df, dummy], axis = 1)"
   ]
  },
  {
   "cell_type": "code",
   "execution_count": 101,
   "id": "0b384466",
   "metadata": {},
   "outputs": [],
   "source": [
    "dummy = pd.get_dummies(leads_df['Lead Source'], prefix  = 'Lead Source')\n",
    "dummy = dummy.drop(['Lead Source_Others'], 1)\n",
    "leads_df = pd.concat([leads_df, dummy], axis = 1)"
   ]
  },
  {
   "cell_type": "code",
   "execution_count": 102,
   "id": "ae9f95b7",
   "metadata": {},
   "outputs": [],
   "source": [
    "dummy = pd.get_dummies(leads_df['Last Activity'], prefix  = 'Last Activity')\n",
    "dummy = dummy.drop(['Last Activity_Others'], 1)\n",
    "leads_df = pd.concat([leads_df, dummy], axis = 1)"
   ]
  },
  {
   "cell_type": "code",
   "execution_count": 103,
   "id": "5a0d8ef3",
   "metadata": {},
   "outputs": [],
   "source": [
    "dummy = pd.get_dummies(leads_df['Tags'], prefix  = 'Tags')\n",
    "dummy = dummy.drop(['Tags_Others'], 1)\n",
    "leads_df = pd.concat([leads_df, dummy], axis = 1)"
   ]
  },
  {
   "cell_type": "code",
   "execution_count": 104,
   "id": "6b06e989",
   "metadata": {},
   "outputs": [],
   "source": [
    "dummy = pd.get_dummies(leads_df['Last Notable Activity'], prefix  = 'Last Notable Activity')\n",
    "dummy = dummy.drop(['Last Notable Activity_Others'], 1)\n",
    "leads_df = pd.concat([leads_df, dummy], axis = 1)"
   ]
  },
  {
   "cell_type": "code",
   "execution_count": 105,
   "id": "2a5e003b",
   "metadata": {},
   "outputs": [],
   "source": [
    "Categorical_columns.remove(\"A free copy of Mastering The Interview\")"
   ]
  },
  {
   "cell_type": "code",
   "execution_count": 106,
   "id": "ff6649b3",
   "metadata": {},
   "outputs": [],
   "source": [
    "Categorical_columns.remove(\"Do Not Email\")"
   ]
  },
  {
   "cell_type": "code",
   "execution_count": 107,
   "id": "ca96f868",
   "metadata": {},
   "outputs": [],
   "source": [
    "# Dropping original columns from data frame\n",
    "leads_df.drop(Categorical_columns,1,inplace=True)"
   ]
  },
  {
   "cell_type": "code",
   "execution_count": 108,
   "id": "24d22ee9",
   "metadata": {},
   "outputs": [
    {
     "data": {
      "text/html": [
       "<div>\n",
       "<style scoped>\n",
       "    .dataframe tbody tr th:only-of-type {\n",
       "        vertical-align: middle;\n",
       "    }\n",
       "\n",
       "    .dataframe tbody tr th {\n",
       "        vertical-align: top;\n",
       "    }\n",
       "\n",
       "    .dataframe thead th {\n",
       "        text-align: right;\n",
       "    }\n",
       "</style>\n",
       "<table border=\"1\" class=\"dataframe\">\n",
       "  <thead>\n",
       "    <tr style=\"text-align: right;\">\n",
       "      <th></th>\n",
       "      <th>Do Not Email</th>\n",
       "      <th>Converted</th>\n",
       "      <th>TotalVisits</th>\n",
       "      <th>Total Time Spent on Website</th>\n",
       "      <th>Page Views Per Visit</th>\n",
       "      <th>A free copy of Mastering The Interview</th>\n",
       "      <th>Lead Origin_Landing Page Submission</th>\n",
       "      <th>Lead Origin_Lead Add Form</th>\n",
       "      <th>Lead Origin_Lead Import</th>\n",
       "      <th>What is your current occupation_Housewife</th>\n",
       "      <th>What is your current occupation_Other</th>\n",
       "      <th>What is your current occupation_Student</th>\n",
       "      <th>What is your current occupation_Unemployed</th>\n",
       "      <th>What is your current occupation_Working Professional</th>\n",
       "      <th>City_Other Cities</th>\n",
       "      <th>City_Other Cities of Maharashtra</th>\n",
       "      <th>City_Other Metro Cities</th>\n",
       "      <th>City_Thane &amp; Outskirts</th>\n",
       "      <th>City_Tier II Cities</th>\n",
       "      <th>Specialization_Banking, Investment And Insurance</th>\n",
       "      <th>Specialization_Business Administration</th>\n",
       "      <th>...</th>\n",
       "      <th>Last Activity_SMS Sent</th>\n",
       "      <th>Last Activity_Unreachable</th>\n",
       "      <th>Last Activity_Unsubscribed</th>\n",
       "      <th>Tags_Already a student</th>\n",
       "      <th>Tags_Busy</th>\n",
       "      <th>Tags_Closed by Horizzon</th>\n",
       "      <th>Tags_Graduation in progress</th>\n",
       "      <th>Tags_Interested  in full time MBA</th>\n",
       "      <th>Tags_Interested in other courses</th>\n",
       "      <th>Tags_Lost to EINS</th>\n",
       "      <th>Tags_Not doing further education</th>\n",
       "      <th>Tags_Ringing</th>\n",
       "      <th>Tags_Will revert after reading the email</th>\n",
       "      <th>Tags_switched off</th>\n",
       "      <th>Last Notable Activity_Email Link Clicked</th>\n",
       "      <th>Last Notable Activity_Email Opened</th>\n",
       "      <th>Last Notable Activity_Email Received</th>\n",
       "      <th>Last Notable Activity_Modified</th>\n",
       "      <th>Last Notable Activity_Olark Chat Conversation</th>\n",
       "      <th>Last Notable Activity_Page Visited on Website</th>\n",
       "      <th>Last Notable Activity_SMS Sent</th>\n",
       "    </tr>\n",
       "  </thead>\n",
       "  <tbody>\n",
       "    <tr>\n",
       "      <th>0</th>\n",
       "      <td>0</td>\n",
       "      <td>0</td>\n",
       "      <td>0.0</td>\n",
       "      <td>0</td>\n",
       "      <td>0.0</td>\n",
       "      <td>0</td>\n",
       "      <td>0</td>\n",
       "      <td>0</td>\n",
       "      <td>0</td>\n",
       "      <td>0</td>\n",
       "      <td>0</td>\n",
       "      <td>0</td>\n",
       "      <td>1</td>\n",
       "      <td>0</td>\n",
       "      <td>0</td>\n",
       "      <td>0</td>\n",
       "      <td>0</td>\n",
       "      <td>0</td>\n",
       "      <td>0</td>\n",
       "      <td>0</td>\n",
       "      <td>0</td>\n",
       "      <td>...</td>\n",
       "      <td>0</td>\n",
       "      <td>0</td>\n",
       "      <td>0</td>\n",
       "      <td>0</td>\n",
       "      <td>0</td>\n",
       "      <td>0</td>\n",
       "      <td>0</td>\n",
       "      <td>0</td>\n",
       "      <td>1</td>\n",
       "      <td>0</td>\n",
       "      <td>0</td>\n",
       "      <td>0</td>\n",
       "      <td>0</td>\n",
       "      <td>0</td>\n",
       "      <td>0</td>\n",
       "      <td>0</td>\n",
       "      <td>0</td>\n",
       "      <td>1</td>\n",
       "      <td>0</td>\n",
       "      <td>0</td>\n",
       "      <td>0</td>\n",
       "    </tr>\n",
       "    <tr>\n",
       "      <th>1</th>\n",
       "      <td>0</td>\n",
       "      <td>0</td>\n",
       "      <td>5.0</td>\n",
       "      <td>674</td>\n",
       "      <td>2.5</td>\n",
       "      <td>0</td>\n",
       "      <td>0</td>\n",
       "      <td>0</td>\n",
       "      <td>0</td>\n",
       "      <td>0</td>\n",
       "      <td>0</td>\n",
       "      <td>0</td>\n",
       "      <td>1</td>\n",
       "      <td>0</td>\n",
       "      <td>0</td>\n",
       "      <td>0</td>\n",
       "      <td>0</td>\n",
       "      <td>0</td>\n",
       "      <td>0</td>\n",
       "      <td>0</td>\n",
       "      <td>0</td>\n",
       "      <td>...</td>\n",
       "      <td>0</td>\n",
       "      <td>0</td>\n",
       "      <td>0</td>\n",
       "      <td>0</td>\n",
       "      <td>0</td>\n",
       "      <td>0</td>\n",
       "      <td>0</td>\n",
       "      <td>0</td>\n",
       "      <td>0</td>\n",
       "      <td>0</td>\n",
       "      <td>0</td>\n",
       "      <td>1</td>\n",
       "      <td>0</td>\n",
       "      <td>0</td>\n",
       "      <td>0</td>\n",
       "      <td>1</td>\n",
       "      <td>0</td>\n",
       "      <td>0</td>\n",
       "      <td>0</td>\n",
       "      <td>0</td>\n",
       "      <td>0</td>\n",
       "    </tr>\n",
       "    <tr>\n",
       "      <th>2</th>\n",
       "      <td>0</td>\n",
       "      <td>1</td>\n",
       "      <td>2.0</td>\n",
       "      <td>1532</td>\n",
       "      <td>2.0</td>\n",
       "      <td>1</td>\n",
       "      <td>1</td>\n",
       "      <td>0</td>\n",
       "      <td>0</td>\n",
       "      <td>0</td>\n",
       "      <td>0</td>\n",
       "      <td>1</td>\n",
       "      <td>0</td>\n",
       "      <td>0</td>\n",
       "      <td>0</td>\n",
       "      <td>0</td>\n",
       "      <td>0</td>\n",
       "      <td>0</td>\n",
       "      <td>0</td>\n",
       "      <td>0</td>\n",
       "      <td>1</td>\n",
       "      <td>...</td>\n",
       "      <td>0</td>\n",
       "      <td>0</td>\n",
       "      <td>0</td>\n",
       "      <td>0</td>\n",
       "      <td>0</td>\n",
       "      <td>0</td>\n",
       "      <td>0</td>\n",
       "      <td>0</td>\n",
       "      <td>0</td>\n",
       "      <td>0</td>\n",
       "      <td>0</td>\n",
       "      <td>0</td>\n",
       "      <td>1</td>\n",
       "      <td>0</td>\n",
       "      <td>0</td>\n",
       "      <td>1</td>\n",
       "      <td>0</td>\n",
       "      <td>0</td>\n",
       "      <td>0</td>\n",
       "      <td>0</td>\n",
       "      <td>0</td>\n",
       "    </tr>\n",
       "    <tr>\n",
       "      <th>3</th>\n",
       "      <td>0</td>\n",
       "      <td>0</td>\n",
       "      <td>1.0</td>\n",
       "      <td>305</td>\n",
       "      <td>1.0</td>\n",
       "      <td>0</td>\n",
       "      <td>1</td>\n",
       "      <td>0</td>\n",
       "      <td>0</td>\n",
       "      <td>0</td>\n",
       "      <td>0</td>\n",
       "      <td>0</td>\n",
       "      <td>1</td>\n",
       "      <td>0</td>\n",
       "      <td>0</td>\n",
       "      <td>0</td>\n",
       "      <td>0</td>\n",
       "      <td>0</td>\n",
       "      <td>0</td>\n",
       "      <td>0</td>\n",
       "      <td>0</td>\n",
       "      <td>...</td>\n",
       "      <td>0</td>\n",
       "      <td>1</td>\n",
       "      <td>0</td>\n",
       "      <td>0</td>\n",
       "      <td>0</td>\n",
       "      <td>0</td>\n",
       "      <td>0</td>\n",
       "      <td>0</td>\n",
       "      <td>0</td>\n",
       "      <td>0</td>\n",
       "      <td>0</td>\n",
       "      <td>1</td>\n",
       "      <td>0</td>\n",
       "      <td>0</td>\n",
       "      <td>0</td>\n",
       "      <td>0</td>\n",
       "      <td>0</td>\n",
       "      <td>1</td>\n",
       "      <td>0</td>\n",
       "      <td>0</td>\n",
       "      <td>0</td>\n",
       "    </tr>\n",
       "    <tr>\n",
       "      <th>4</th>\n",
       "      <td>0</td>\n",
       "      <td>1</td>\n",
       "      <td>2.0</td>\n",
       "      <td>1428</td>\n",
       "      <td>1.0</td>\n",
       "      <td>0</td>\n",
       "      <td>1</td>\n",
       "      <td>0</td>\n",
       "      <td>0</td>\n",
       "      <td>0</td>\n",
       "      <td>0</td>\n",
       "      <td>0</td>\n",
       "      <td>1</td>\n",
       "      <td>0</td>\n",
       "      <td>0</td>\n",
       "      <td>0</td>\n",
       "      <td>0</td>\n",
       "      <td>0</td>\n",
       "      <td>0</td>\n",
       "      <td>0</td>\n",
       "      <td>0</td>\n",
       "      <td>...</td>\n",
       "      <td>0</td>\n",
       "      <td>0</td>\n",
       "      <td>0</td>\n",
       "      <td>0</td>\n",
       "      <td>0</td>\n",
       "      <td>0</td>\n",
       "      <td>0</td>\n",
       "      <td>0</td>\n",
       "      <td>0</td>\n",
       "      <td>0</td>\n",
       "      <td>0</td>\n",
       "      <td>0</td>\n",
       "      <td>1</td>\n",
       "      <td>0</td>\n",
       "      <td>0</td>\n",
       "      <td>0</td>\n",
       "      <td>0</td>\n",
       "      <td>1</td>\n",
       "      <td>0</td>\n",
       "      <td>0</td>\n",
       "      <td>0</td>\n",
       "    </tr>\n",
       "  </tbody>\n",
       "</table>\n",
       "<p>5 rows × 64 columns</p>\n",
       "</div>"
      ],
      "text/plain": [
       "   Do Not Email  Converted  TotalVisits  Total Time Spent on Website  \\\n",
       "0             0          0          0.0                            0   \n",
       "1             0          0          5.0                          674   \n",
       "2             0          1          2.0                         1532   \n",
       "3             0          0          1.0                          305   \n",
       "4             0          1          2.0                         1428   \n",
       "\n",
       "   Page Views Per Visit  A free copy of Mastering The Interview  \\\n",
       "0                   0.0                                       0   \n",
       "1                   2.5                                       0   \n",
       "2                   2.0                                       1   \n",
       "3                   1.0                                       0   \n",
       "4                   1.0                                       0   \n",
       "\n",
       "   Lead Origin_Landing Page Submission  Lead Origin_Lead Add Form  \\\n",
       "0                                    0                          0   \n",
       "1                                    0                          0   \n",
       "2                                    1                          0   \n",
       "3                                    1                          0   \n",
       "4                                    1                          0   \n",
       "\n",
       "   Lead Origin_Lead Import  What is your current occupation_Housewife  \\\n",
       "0                        0                                          0   \n",
       "1                        0                                          0   \n",
       "2                        0                                          0   \n",
       "3                        0                                          0   \n",
       "4                        0                                          0   \n",
       "\n",
       "   What is your current occupation_Other  \\\n",
       "0                                      0   \n",
       "1                                      0   \n",
       "2                                      0   \n",
       "3                                      0   \n",
       "4                                      0   \n",
       "\n",
       "   What is your current occupation_Student  \\\n",
       "0                                        0   \n",
       "1                                        0   \n",
       "2                                        1   \n",
       "3                                        0   \n",
       "4                                        0   \n",
       "\n",
       "   What is your current occupation_Unemployed  \\\n",
       "0                                           1   \n",
       "1                                           1   \n",
       "2                                           0   \n",
       "3                                           1   \n",
       "4                                           1   \n",
       "\n",
       "   What is your current occupation_Working Professional  City_Other Cities  \\\n",
       "0                                                  0                     0   \n",
       "1                                                  0                     0   \n",
       "2                                                  0                     0   \n",
       "3                                                  0                     0   \n",
       "4                                                  0                     0   \n",
       "\n",
       "   City_Other Cities of Maharashtra  City_Other Metro Cities  \\\n",
       "0                                 0                        0   \n",
       "1                                 0                        0   \n",
       "2                                 0                        0   \n",
       "3                                 0                        0   \n",
       "4                                 0                        0   \n",
       "\n",
       "   City_Thane & Outskirts  City_Tier II Cities  \\\n",
       "0                       0                    0   \n",
       "1                       0                    0   \n",
       "2                       0                    0   \n",
       "3                       0                    0   \n",
       "4                       0                    0   \n",
       "\n",
       "   Specialization_Banking, Investment And Insurance  \\\n",
       "0                                                 0   \n",
       "1                                                 0   \n",
       "2                                                 0   \n",
       "3                                                 0   \n",
       "4                                                 0   \n",
       "\n",
       "   Specialization_Business Administration  ...  Last Activity_SMS Sent  \\\n",
       "0                                       0  ...                       0   \n",
       "1                                       0  ...                       0   \n",
       "2                                       1  ...                       0   \n",
       "3                                       0  ...                       0   \n",
       "4                                       0  ...                       0   \n",
       "\n",
       "   Last Activity_Unreachable  Last Activity_Unsubscribed  \\\n",
       "0                          0                           0   \n",
       "1                          0                           0   \n",
       "2                          0                           0   \n",
       "3                          1                           0   \n",
       "4                          0                           0   \n",
       "\n",
       "   Tags_Already a student  Tags_Busy  Tags_Closed by Horizzon  \\\n",
       "0                       0          0                        0   \n",
       "1                       0          0                        0   \n",
       "2                       0          0                        0   \n",
       "3                       0          0                        0   \n",
       "4                       0          0                        0   \n",
       "\n",
       "   Tags_Graduation in progress  Tags_Interested  in full time MBA  \\\n",
       "0                            0                                  0   \n",
       "1                            0                                  0   \n",
       "2                            0                                  0   \n",
       "3                            0                                  0   \n",
       "4                            0                                  0   \n",
       "\n",
       "   Tags_Interested in other courses  Tags_Lost to EINS  \\\n",
       "0                                 1                  0   \n",
       "1                                 0                  0   \n",
       "2                                 0                  0   \n",
       "3                                 0                  0   \n",
       "4                                 0                  0   \n",
       "\n",
       "   Tags_Not doing further education  Tags_Ringing  \\\n",
       "0                                 0             0   \n",
       "1                                 0             1   \n",
       "2                                 0             0   \n",
       "3                                 0             1   \n",
       "4                                 0             0   \n",
       "\n",
       "   Tags_Will revert after reading the email  Tags_switched off  \\\n",
       "0                                         0                  0   \n",
       "1                                         0                  0   \n",
       "2                                         1                  0   \n",
       "3                                         0                  0   \n",
       "4                                         1                  0   \n",
       "\n",
       "   Last Notable Activity_Email Link Clicked  \\\n",
       "0                                         0   \n",
       "1                                         0   \n",
       "2                                         0   \n",
       "3                                         0   \n",
       "4                                         0   \n",
       "\n",
       "   Last Notable Activity_Email Opened  Last Notable Activity_Email Received  \\\n",
       "0                                   0                                     0   \n",
       "1                                   1                                     0   \n",
       "2                                   1                                     0   \n",
       "3                                   0                                     0   \n",
       "4                                   0                                     0   \n",
       "\n",
       "   Last Notable Activity_Modified  \\\n",
       "0                               1   \n",
       "1                               0   \n",
       "2                               0   \n",
       "3                               1   \n",
       "4                               1   \n",
       "\n",
       "   Last Notable Activity_Olark Chat Conversation  \\\n",
       "0                                              0   \n",
       "1                                              0   \n",
       "2                                              0   \n",
       "3                                              0   \n",
       "4                                              0   \n",
       "\n",
       "   Last Notable Activity_Page Visited on Website  \\\n",
       "0                                              0   \n",
       "1                                              0   \n",
       "2                                              0   \n",
       "3                                              0   \n",
       "4                                              0   \n",
       "\n",
       "   Last Notable Activity_SMS Sent  \n",
       "0                               0  \n",
       "1                               0  \n",
       "2                               0  \n",
       "3                               0  \n",
       "4                               0  \n",
       "\n",
       "[5 rows x 64 columns]"
      ]
     },
     "execution_count": 108,
     "metadata": {},
     "output_type": "execute_result"
    }
   ],
   "source": [
    "# Final dataframe after dummy creation\n",
    "leads_df.head()"
   ]
  },
  {
   "cell_type": "code",
   "execution_count": 109,
   "id": "1b0d344a",
   "metadata": {},
   "outputs": [
    {
     "name": "stdout",
     "output_type": "stream",
     "text": [
      "<class 'pandas.core.frame.DataFrame'>\n",
      "Int64Index: 8924 entries, 0 to 9239\n",
      "Data columns (total 64 columns):\n",
      " #   Column                                                Non-Null Count  Dtype  \n",
      "---  ------                                                --------------  -----  \n",
      " 0   Do Not Email                                          8924 non-null   int64  \n",
      " 1   Converted                                             8924 non-null   int64  \n",
      " 2   TotalVisits                                           8924 non-null   float64\n",
      " 3   Total Time Spent on Website                           8924 non-null   int64  \n",
      " 4   Page Views Per Visit                                  8924 non-null   float64\n",
      " 5   A free copy of Mastering The Interview                8924 non-null   int64  \n",
      " 6   Lead Origin_Landing Page Submission                   8924 non-null   uint8  \n",
      " 7   Lead Origin_Lead Add Form                             8924 non-null   uint8  \n",
      " 8   Lead Origin_Lead Import                               8924 non-null   uint8  \n",
      " 9   What is your current occupation_Housewife             8924 non-null   uint8  \n",
      " 10  What is your current occupation_Other                 8924 non-null   uint8  \n",
      " 11  What is your current occupation_Student               8924 non-null   uint8  \n",
      " 12  What is your current occupation_Unemployed            8924 non-null   uint8  \n",
      " 13  What is your current occupation_Working Professional  8924 non-null   uint8  \n",
      " 14  City_Other Cities                                     8924 non-null   uint8  \n",
      " 15  City_Other Cities of Maharashtra                      8924 non-null   uint8  \n",
      " 16  City_Other Metro Cities                               8924 non-null   uint8  \n",
      " 17  City_Thane & Outskirts                                8924 non-null   uint8  \n",
      " 18  City_Tier II Cities                                   8924 non-null   uint8  \n",
      " 19  Specialization_Banking, Investment And Insurance      8924 non-null   uint8  \n",
      " 20  Specialization_Business Administration                8924 non-null   uint8  \n",
      " 21  Specialization_E_Commerce                             8924 non-null   uint8  \n",
      " 22  Specialization_International Business                 8924 non-null   uint8  \n",
      " 23  Specialization_Management                             8924 non-null   uint8  \n",
      " 24  Specialization_Media and Advertising                  8924 non-null   uint8  \n",
      " 25  Specialization_Rural and Agribusiness                 8924 non-null   uint8  \n",
      " 26  Specialization_Services Excellence                    8924 non-null   uint8  \n",
      " 27  Specialization_Travel and Tourism                     8924 non-null   uint8  \n",
      " 28  Lead Source_Direct Traffic                            8924 non-null   uint8  \n",
      " 29  Lead Source_Google                                    8924 non-null   uint8  \n",
      " 30  Lead Source_Olark Chat                                8924 non-null   uint8  \n",
      " 31  Lead Source_Organic Search                            8924 non-null   uint8  \n",
      " 32  Lead Source_Reference                                 8924 non-null   uint8  \n",
      " 33  Lead Source_Referral Sites                            8924 non-null   uint8  \n",
      " 34  Lead Source_Social Media                              8924 non-null   uint8  \n",
      " 35  Lead Source_Welingak Website                          8924 non-null   uint8  \n",
      " 36  Last Activity_Converted to Lead                       8924 non-null   uint8  \n",
      " 37  Last Activity_Email Bounced                           8924 non-null   uint8  \n",
      " 38  Last Activity_Email Link Clicked                      8924 non-null   uint8  \n",
      " 39  Last Activity_Email Opened                            8924 non-null   uint8  \n",
      " 40  Last Activity_Form Submitted on Website               8924 non-null   uint8  \n",
      " 41  Last Activity_Olark Chat Conversation                 8924 non-null   uint8  \n",
      " 42  Last Activity_Page Visited on Website                 8924 non-null   uint8  \n",
      " 43  Last Activity_SMS Sent                                8924 non-null   uint8  \n",
      " 44  Last Activity_Unreachable                             8924 non-null   uint8  \n",
      " 45  Last Activity_Unsubscribed                            8924 non-null   uint8  \n",
      " 46  Tags_Already a student                                8924 non-null   uint8  \n",
      " 47  Tags_Busy                                             8924 non-null   uint8  \n",
      " 48  Tags_Closed by Horizzon                               8924 non-null   uint8  \n",
      " 49  Tags_Graduation in progress                           8924 non-null   uint8  \n",
      " 50  Tags_Interested  in full time MBA                     8924 non-null   uint8  \n",
      " 51  Tags_Interested in other courses                      8924 non-null   uint8  \n",
      " 52  Tags_Lost to EINS                                     8924 non-null   uint8  \n",
      " 53  Tags_Not doing further education                      8924 non-null   uint8  \n",
      " 54  Tags_Ringing                                          8924 non-null   uint8  \n",
      " 55  Tags_Will revert after reading the email              8924 non-null   uint8  \n",
      " 56  Tags_switched off                                     8924 non-null   uint8  \n",
      " 57  Last Notable Activity_Email Link Clicked              8924 non-null   uint8  \n",
      " 58  Last Notable Activity_Email Opened                    8924 non-null   uint8  \n",
      " 59  Last Notable Activity_Email Received                  8924 non-null   uint8  \n",
      " 60  Last Notable Activity_Modified                        8924 non-null   uint8  \n",
      " 61  Last Notable Activity_Olark Chat Conversation         8924 non-null   uint8  \n",
      " 62  Last Notable Activity_Page Visited on Website         8924 non-null   uint8  \n",
      " 63  Last Notable Activity_SMS Sent                        8924 non-null   uint8  \n",
      "dtypes: float64(2), int64(4), uint8(58)\n",
      "memory usage: 993.5 KB\n"
     ]
    }
   ],
   "source": [
    "leads_df.info()"
   ]
  },
  {
   "cell_type": "markdown",
   "id": "91198242",
   "metadata": {},
   "source": [
    "### Train-Test Split\n",
    "<hr/>"
   ]
  },
  {
   "cell_type": "code",
   "execution_count": 110,
   "id": "e61d814d",
   "metadata": {},
   "outputs": [],
   "source": [
    "import sklearn\n",
    "from sklearn.model_selection import train_test_split"
   ]
  },
  {
   "cell_type": "code",
   "execution_count": 111,
   "id": "02c635b9",
   "metadata": {},
   "outputs": [],
   "source": [
    "# Putting response variable to y\n",
    "y = leads_df['Converted']\n",
    "\n",
    "X=leads_df.drop('Converted', axis=1)"
   ]
  },
  {
   "cell_type": "code",
   "execution_count": 112,
   "id": "74ad9ba9",
   "metadata": {},
   "outputs": [
    {
     "name": "stdout",
     "output_type": "stream",
     "text": [
      "(8924,)\n",
      "(8924, 63)\n"
     ]
    }
   ],
   "source": [
    "print(y.shape)\n",
    "print(X.shape)"
   ]
  },
  {
   "cell_type": "code",
   "execution_count": 113,
   "id": "5ebb3a28",
   "metadata": {},
   "outputs": [],
   "source": [
    "X_train,X_test,y_train,y_test=train_test_split(X,y,train_size=.70,random_state=1)"
   ]
  },
  {
   "cell_type": "code",
   "execution_count": 114,
   "id": "4fd2b142",
   "metadata": {},
   "outputs": [
    {
     "name": "stdout",
     "output_type": "stream",
     "text": [
      "(6246, 63)\n",
      "(2678,)\n"
     ]
    }
   ],
   "source": [
    "print(X_train.shape)\n",
    "print(y_test.shape)"
   ]
  },
  {
   "cell_type": "markdown",
   "id": "0f3c82fb",
   "metadata": {},
   "source": [
    "### Scaling the variables\n",
    "<hr/>"
   ]
  },
  {
   "cell_type": "code",
   "execution_count": 115,
   "id": "c3d26a7e",
   "metadata": {},
   "outputs": [
    {
     "data": {
      "text/html": [
       "<div>\n",
       "<style scoped>\n",
       "    .dataframe tbody tr th:only-of-type {\n",
       "        vertical-align: middle;\n",
       "    }\n",
       "\n",
       "    .dataframe tbody tr th {\n",
       "        vertical-align: top;\n",
       "    }\n",
       "\n",
       "    .dataframe thead th {\n",
       "        text-align: right;\n",
       "    }\n",
       "</style>\n",
       "<table border=\"1\" class=\"dataframe\">\n",
       "  <thead>\n",
       "    <tr style=\"text-align: right;\">\n",
       "      <th></th>\n",
       "      <th>Do Not Email</th>\n",
       "      <th>TotalVisits</th>\n",
       "      <th>Total Time Spent on Website</th>\n",
       "      <th>Page Views Per Visit</th>\n",
       "      <th>A free copy of Mastering The Interview</th>\n",
       "      <th>Lead Origin_Landing Page Submission</th>\n",
       "      <th>Lead Origin_Lead Add Form</th>\n",
       "      <th>Lead Origin_Lead Import</th>\n",
       "      <th>What is your current occupation_Housewife</th>\n",
       "      <th>What is your current occupation_Other</th>\n",
       "      <th>What is your current occupation_Student</th>\n",
       "      <th>What is your current occupation_Unemployed</th>\n",
       "      <th>What is your current occupation_Working Professional</th>\n",
       "      <th>City_Other Cities</th>\n",
       "      <th>City_Other Cities of Maharashtra</th>\n",
       "      <th>City_Other Metro Cities</th>\n",
       "      <th>City_Thane &amp; Outskirts</th>\n",
       "      <th>City_Tier II Cities</th>\n",
       "      <th>Specialization_Banking, Investment And Insurance</th>\n",
       "      <th>Specialization_Business Administration</th>\n",
       "      <th>Specialization_E_Commerce</th>\n",
       "      <th>...</th>\n",
       "      <th>Last Activity_SMS Sent</th>\n",
       "      <th>Last Activity_Unreachable</th>\n",
       "      <th>Last Activity_Unsubscribed</th>\n",
       "      <th>Tags_Already a student</th>\n",
       "      <th>Tags_Busy</th>\n",
       "      <th>Tags_Closed by Horizzon</th>\n",
       "      <th>Tags_Graduation in progress</th>\n",
       "      <th>Tags_Interested  in full time MBA</th>\n",
       "      <th>Tags_Interested in other courses</th>\n",
       "      <th>Tags_Lost to EINS</th>\n",
       "      <th>Tags_Not doing further education</th>\n",
       "      <th>Tags_Ringing</th>\n",
       "      <th>Tags_Will revert after reading the email</th>\n",
       "      <th>Tags_switched off</th>\n",
       "      <th>Last Notable Activity_Email Link Clicked</th>\n",
       "      <th>Last Notable Activity_Email Opened</th>\n",
       "      <th>Last Notable Activity_Email Received</th>\n",
       "      <th>Last Notable Activity_Modified</th>\n",
       "      <th>Last Notable Activity_Olark Chat Conversation</th>\n",
       "      <th>Last Notable Activity_Page Visited on Website</th>\n",
       "      <th>Last Notable Activity_SMS Sent</th>\n",
       "    </tr>\n",
       "  </thead>\n",
       "  <tbody>\n",
       "    <tr>\n",
       "      <th>5423</th>\n",
       "      <td>-0.291768</td>\n",
       "      <td>-0.043456</td>\n",
       "      <td>1.746462</td>\n",
       "      <td>-0.667244</td>\n",
       "      <td>1.496538</td>\n",
       "      <td>0</td>\n",
       "      <td>1</td>\n",
       "      <td>0</td>\n",
       "      <td>0</td>\n",
       "      <td>0</td>\n",
       "      <td>0</td>\n",
       "      <td>1</td>\n",
       "      <td>0</td>\n",
       "      <td>0</td>\n",
       "      <td>0</td>\n",
       "      <td>0</td>\n",
       "      <td>0</td>\n",
       "      <td>0</td>\n",
       "      <td>0</td>\n",
       "      <td>0</td>\n",
       "      <td>0</td>\n",
       "      <td>...</td>\n",
       "      <td>0</td>\n",
       "      <td>0</td>\n",
       "      <td>0</td>\n",
       "      <td>0</td>\n",
       "      <td>0</td>\n",
       "      <td>1</td>\n",
       "      <td>0</td>\n",
       "      <td>0</td>\n",
       "      <td>0</td>\n",
       "      <td>0</td>\n",
       "      <td>0</td>\n",
       "      <td>0</td>\n",
       "      <td>0</td>\n",
       "      <td>0</td>\n",
       "      <td>0</td>\n",
       "      <td>0</td>\n",
       "      <td>0</td>\n",
       "      <td>0</td>\n",
       "      <td>0</td>\n",
       "      <td>1</td>\n",
       "      <td>0</td>\n",
       "    </tr>\n",
       "    <tr>\n",
       "      <th>8220</th>\n",
       "      <td>-0.291768</td>\n",
       "      <td>0.645441</td>\n",
       "      <td>1.667493</td>\n",
       "      <td>1.465942</td>\n",
       "      <td>-0.668209</td>\n",
       "      <td>1</td>\n",
       "      <td>0</td>\n",
       "      <td>0</td>\n",
       "      <td>0</td>\n",
       "      <td>0</td>\n",
       "      <td>0</td>\n",
       "      <td>1</td>\n",
       "      <td>0</td>\n",
       "      <td>0</td>\n",
       "      <td>0</td>\n",
       "      <td>1</td>\n",
       "      <td>0</td>\n",
       "      <td>0</td>\n",
       "      <td>0</td>\n",
       "      <td>1</td>\n",
       "      <td>0</td>\n",
       "      <td>...</td>\n",
       "      <td>1</td>\n",
       "      <td>0</td>\n",
       "      <td>0</td>\n",
       "      <td>0</td>\n",
       "      <td>0</td>\n",
       "      <td>0</td>\n",
       "      <td>0</td>\n",
       "      <td>0</td>\n",
       "      <td>0</td>\n",
       "      <td>0</td>\n",
       "      <td>0</td>\n",
       "      <td>0</td>\n",
       "      <td>1</td>\n",
       "      <td>0</td>\n",
       "      <td>0</td>\n",
       "      <td>0</td>\n",
       "      <td>0</td>\n",
       "      <td>0</td>\n",
       "      <td>0</td>\n",
       "      <td>0</td>\n",
       "      <td>1</td>\n",
       "    </tr>\n",
       "    <tr>\n",
       "      <th>7643</th>\n",
       "      <td>3.427381</td>\n",
       "      <td>-0.732353</td>\n",
       "      <td>-0.461019</td>\n",
       "      <td>-0.667244</td>\n",
       "      <td>-0.668209</td>\n",
       "      <td>1</td>\n",
       "      <td>0</td>\n",
       "      <td>0</td>\n",
       "      <td>0</td>\n",
       "      <td>0</td>\n",
       "      <td>0</td>\n",
       "      <td>1</td>\n",
       "      <td>0</td>\n",
       "      <td>0</td>\n",
       "      <td>0</td>\n",
       "      <td>1</td>\n",
       "      <td>0</td>\n",
       "      <td>0</td>\n",
       "      <td>0</td>\n",
       "      <td>0</td>\n",
       "      <td>0</td>\n",
       "      <td>...</td>\n",
       "      <td>0</td>\n",
       "      <td>0</td>\n",
       "      <td>0</td>\n",
       "      <td>0</td>\n",
       "      <td>0</td>\n",
       "      <td>0</td>\n",
       "      <td>0</td>\n",
       "      <td>0</td>\n",
       "      <td>0</td>\n",
       "      <td>0</td>\n",
       "      <td>1</td>\n",
       "      <td>0</td>\n",
       "      <td>0</td>\n",
       "      <td>0</td>\n",
       "      <td>0</td>\n",
       "      <td>0</td>\n",
       "      <td>0</td>\n",
       "      <td>0</td>\n",
       "      <td>0</td>\n",
       "      <td>0</td>\n",
       "      <td>0</td>\n",
       "    </tr>\n",
       "    <tr>\n",
       "      <th>1313</th>\n",
       "      <td>-0.291768</td>\n",
       "      <td>0.989889</td>\n",
       "      <td>1.177145</td>\n",
       "      <td>-0.133947</td>\n",
       "      <td>1.496538</td>\n",
       "      <td>1</td>\n",
       "      <td>0</td>\n",
       "      <td>0</td>\n",
       "      <td>0</td>\n",
       "      <td>0</td>\n",
       "      <td>0</td>\n",
       "      <td>1</td>\n",
       "      <td>0</td>\n",
       "      <td>1</td>\n",
       "      <td>0</td>\n",
       "      <td>0</td>\n",
       "      <td>0</td>\n",
       "      <td>0</td>\n",
       "      <td>0</td>\n",
       "      <td>0</td>\n",
       "      <td>0</td>\n",
       "      <td>...</td>\n",
       "      <td>0</td>\n",
       "      <td>0</td>\n",
       "      <td>0</td>\n",
       "      <td>0</td>\n",
       "      <td>0</td>\n",
       "      <td>0</td>\n",
       "      <td>0</td>\n",
       "      <td>0</td>\n",
       "      <td>0</td>\n",
       "      <td>0</td>\n",
       "      <td>0</td>\n",
       "      <td>0</td>\n",
       "      <td>1</td>\n",
       "      <td>0</td>\n",
       "      <td>0</td>\n",
       "      <td>1</td>\n",
       "      <td>0</td>\n",
       "      <td>0</td>\n",
       "      <td>0</td>\n",
       "      <td>0</td>\n",
       "      <td>0</td>\n",
       "    </tr>\n",
       "    <tr>\n",
       "      <th>3840</th>\n",
       "      <td>-0.291768</td>\n",
       "      <td>0.300993</td>\n",
       "      <td>1.439766</td>\n",
       "      <td>-0.133947</td>\n",
       "      <td>1.496538</td>\n",
       "      <td>1</td>\n",
       "      <td>0</td>\n",
       "      <td>0</td>\n",
       "      <td>0</td>\n",
       "      <td>0</td>\n",
       "      <td>0</td>\n",
       "      <td>1</td>\n",
       "      <td>0</td>\n",
       "      <td>0</td>\n",
       "      <td>0</td>\n",
       "      <td>0</td>\n",
       "      <td>0</td>\n",
       "      <td>1</td>\n",
       "      <td>0</td>\n",
       "      <td>0</td>\n",
       "      <td>0</td>\n",
       "      <td>...</td>\n",
       "      <td>1</td>\n",
       "      <td>0</td>\n",
       "      <td>0</td>\n",
       "      <td>0</td>\n",
       "      <td>0</td>\n",
       "      <td>0</td>\n",
       "      <td>0</td>\n",
       "      <td>0</td>\n",
       "      <td>0</td>\n",
       "      <td>0</td>\n",
       "      <td>0</td>\n",
       "      <td>0</td>\n",
       "      <td>1</td>\n",
       "      <td>0</td>\n",
       "      <td>0</td>\n",
       "      <td>0</td>\n",
       "      <td>0</td>\n",
       "      <td>0</td>\n",
       "      <td>0</td>\n",
       "      <td>0</td>\n",
       "      <td>1</td>\n",
       "    </tr>\n",
       "  </tbody>\n",
       "</table>\n",
       "<p>5 rows × 63 columns</p>\n",
       "</div>"
      ],
      "text/plain": [
       "      Do Not Email  TotalVisits  Total Time Spent on Website  \\\n",
       "5423     -0.291768    -0.043456                     1.746462   \n",
       "8220     -0.291768     0.645441                     1.667493   \n",
       "7643      3.427381    -0.732353                    -0.461019   \n",
       "1313     -0.291768     0.989889                     1.177145   \n",
       "3840     -0.291768     0.300993                     1.439766   \n",
       "\n",
       "      Page Views Per Visit  A free copy of Mastering The Interview  \\\n",
       "5423             -0.667244                                1.496538   \n",
       "8220              1.465942                               -0.668209   \n",
       "7643             -0.667244                               -0.668209   \n",
       "1313             -0.133947                                1.496538   \n",
       "3840             -0.133947                                1.496538   \n",
       "\n",
       "      Lead Origin_Landing Page Submission  Lead Origin_Lead Add Form  \\\n",
       "5423                                    0                          1   \n",
       "8220                                    1                          0   \n",
       "7643                                    1                          0   \n",
       "1313                                    1                          0   \n",
       "3840                                    1                          0   \n",
       "\n",
       "      Lead Origin_Lead Import  What is your current occupation_Housewife  \\\n",
       "5423                        0                                          0   \n",
       "8220                        0                                          0   \n",
       "7643                        0                                          0   \n",
       "1313                        0                                          0   \n",
       "3840                        0                                          0   \n",
       "\n",
       "      What is your current occupation_Other  \\\n",
       "5423                                      0   \n",
       "8220                                      0   \n",
       "7643                                      0   \n",
       "1313                                      0   \n",
       "3840                                      0   \n",
       "\n",
       "      What is your current occupation_Student  \\\n",
       "5423                                        0   \n",
       "8220                                        0   \n",
       "7643                                        0   \n",
       "1313                                        0   \n",
       "3840                                        0   \n",
       "\n",
       "      What is your current occupation_Unemployed  \\\n",
       "5423                                           1   \n",
       "8220                                           1   \n",
       "7643                                           1   \n",
       "1313                                           1   \n",
       "3840                                           1   \n",
       "\n",
       "      What is your current occupation_Working Professional  City_Other Cities  \\\n",
       "5423                                                  0                     0   \n",
       "8220                                                  0                     0   \n",
       "7643                                                  0                     0   \n",
       "1313                                                  0                     1   \n",
       "3840                                                  0                     0   \n",
       "\n",
       "      City_Other Cities of Maharashtra  City_Other Metro Cities  \\\n",
       "5423                                 0                        0   \n",
       "8220                                 0                        1   \n",
       "7643                                 0                        1   \n",
       "1313                                 0                        0   \n",
       "3840                                 0                        0   \n",
       "\n",
       "      City_Thane & Outskirts  City_Tier II Cities  \\\n",
       "5423                       0                    0   \n",
       "8220                       0                    0   \n",
       "7643                       0                    0   \n",
       "1313                       0                    0   \n",
       "3840                       0                    1   \n",
       "\n",
       "      Specialization_Banking, Investment And Insurance  \\\n",
       "5423                                                 0   \n",
       "8220                                                 0   \n",
       "7643                                                 0   \n",
       "1313                                                 0   \n",
       "3840                                                 0   \n",
       "\n",
       "      Specialization_Business Administration  Specialization_E_Commerce  ...  \\\n",
       "5423                                       0                          0  ...   \n",
       "8220                                       1                          0  ...   \n",
       "7643                                       0                          0  ...   \n",
       "1313                                       0                          0  ...   \n",
       "3840                                       0                          0  ...   \n",
       "\n",
       "      Last Activity_SMS Sent  Last Activity_Unreachable  \\\n",
       "5423                       0                          0   \n",
       "8220                       1                          0   \n",
       "7643                       0                          0   \n",
       "1313                       0                          0   \n",
       "3840                       1                          0   \n",
       "\n",
       "      Last Activity_Unsubscribed  Tags_Already a student  Tags_Busy  \\\n",
       "5423                           0                       0          0   \n",
       "8220                           0                       0          0   \n",
       "7643                           0                       0          0   \n",
       "1313                           0                       0          0   \n",
       "3840                           0                       0          0   \n",
       "\n",
       "      Tags_Closed by Horizzon  Tags_Graduation in progress  \\\n",
       "5423                        1                            0   \n",
       "8220                        0                            0   \n",
       "7643                        0                            0   \n",
       "1313                        0                            0   \n",
       "3840                        0                            0   \n",
       "\n",
       "      Tags_Interested  in full time MBA  Tags_Interested in other courses  \\\n",
       "5423                                  0                                 0   \n",
       "8220                                  0                                 0   \n",
       "7643                                  0                                 0   \n",
       "1313                                  0                                 0   \n",
       "3840                                  0                                 0   \n",
       "\n",
       "      Tags_Lost to EINS  Tags_Not doing further education  Tags_Ringing  \\\n",
       "5423                  0                                 0             0   \n",
       "8220                  0                                 0             0   \n",
       "7643                  0                                 1             0   \n",
       "1313                  0                                 0             0   \n",
       "3840                  0                                 0             0   \n",
       "\n",
       "      Tags_Will revert after reading the email  Tags_switched off  \\\n",
       "5423                                         0                  0   \n",
       "8220                                         1                  0   \n",
       "7643                                         0                  0   \n",
       "1313                                         1                  0   \n",
       "3840                                         1                  0   \n",
       "\n",
       "      Last Notable Activity_Email Link Clicked  \\\n",
       "5423                                         0   \n",
       "8220                                         0   \n",
       "7643                                         0   \n",
       "1313                                         0   \n",
       "3840                                         0   \n",
       "\n",
       "      Last Notable Activity_Email Opened  \\\n",
       "5423                                   0   \n",
       "8220                                   0   \n",
       "7643                                   0   \n",
       "1313                                   1   \n",
       "3840                                   0   \n",
       "\n",
       "      Last Notable Activity_Email Received  Last Notable Activity_Modified  \\\n",
       "5423                                     0                               0   \n",
       "8220                                     0                               0   \n",
       "7643                                     0                               0   \n",
       "1313                                     0                               0   \n",
       "3840                                     0                               0   \n",
       "\n",
       "      Last Notable Activity_Olark Chat Conversation  \\\n",
       "5423                                              0   \n",
       "8220                                              0   \n",
       "7643                                              0   \n",
       "1313                                              0   \n",
       "3840                                              0   \n",
       "\n",
       "      Last Notable Activity_Page Visited on Website  \\\n",
       "5423                                              1   \n",
       "8220                                              0   \n",
       "7643                                              0   \n",
       "1313                                              0   \n",
       "3840                                              0   \n",
       "\n",
       "      Last Notable Activity_SMS Sent  \n",
       "5423                               0  \n",
       "8220                               1  \n",
       "7643                               0  \n",
       "1313                               0  \n",
       "3840                               1  \n",
       "\n",
       "[5 rows x 63 columns]"
      ]
     },
     "execution_count": 115,
     "metadata": {},
     "output_type": "execute_result"
    }
   ],
   "source": [
    "from sklearn.preprocessing import StandardScaler\n",
    "\n",
    "scaler = StandardScaler()\n",
    "\n",
    "num_cols=X_train.select_dtypes(include=['float64', 'int64']).columns\n",
    "\n",
    "X_train[num_cols] = scaler.fit_transform(X_train[num_cols])\n",
    "\n",
    "X_train.head()"
   ]
  },
  {
   "cell_type": "markdown",
   "id": "fb5ab69f",
   "metadata": {},
   "source": [
    "## Model Building using Stats Model & RFE\n",
    "<hr/>"
   ]
  },
  {
   "cell_type": "code",
   "execution_count": 116,
   "id": "d3459343",
   "metadata": {},
   "outputs": [],
   "source": [
    "import statsmodels.api as sm"
   ]
  },
  {
   "cell_type": "code",
   "execution_count": 117,
   "id": "fe91d5e8",
   "metadata": {},
   "outputs": [],
   "source": [
    "from sklearn.linear_model import LogisticRegression\n",
    "logreg=LogisticRegression()\n",
    "\n",
    "from sklearn.feature_selection import RFE\n",
    "rfe = RFE(logreg,n_features_to_select=15)             # running RFE with 15 variables as output\n",
    "rfe = rfe.fit(X_train, y_train)"
   ]
  },
  {
   "cell_type": "code",
   "execution_count": 118,
   "id": "975e5914",
   "metadata": {},
   "outputs": [
    {
     "data": {
      "text/plain": [
       "array([False, False,  True, False, False, False,  True, False, False,\n",
       "       False, False,  True,  True, False, False, False, False, False,\n",
       "       False, False, False, False, False, False, False, False, False,\n",
       "       False, False, False, False, False, False, False, False, False,\n",
       "        True, False, False, False,  True, False, False, False, False,\n",
       "        True,  True,  True, False, False, False,  True,  True,  True,\n",
       "        True,  True, False, False, False, False, False, False,  True])"
      ]
     },
     "execution_count": 118,
     "metadata": {},
     "output_type": "execute_result"
    }
   ],
   "source": [
    "rfe.support_"
   ]
  },
  {
   "cell_type": "code",
   "execution_count": 119,
   "id": "6b839190",
   "metadata": {},
   "outputs": [
    {
     "data": {
      "text/plain": [
       "[('Do Not Email', False, 30),\n",
       " ('TotalVisits', False, 39),\n",
       " ('Total Time Spent on Website', True, 1),\n",
       " ('Page Views Per Visit', False, 40),\n",
       " ('A free copy of Mastering The Interview', False, 42),\n",
       " ('Lead Origin_Landing Page Submission', False, 7),\n",
       " ('Lead Origin_Lead Add Form', True, 1),\n",
       " ('Lead Origin_Lead Import', False, 26),\n",
       " ('What is your current occupation_Housewife', False, 31),\n",
       " ('What is your current occupation_Other', False, 46),\n",
       " ('What is your current occupation_Student', False, 48),\n",
       " ('What is your current occupation_Unemployed', True, 1),\n",
       " ('What is your current occupation_Working Professional', True, 1),\n",
       " ('City_Other Cities', False, 45),\n",
       " ('City_Other Cities of Maharashtra', False, 32),\n",
       " ('City_Other Metro Cities', False, 44),\n",
       " ('City_Thane & Outskirts', False, 43),\n",
       " ('City_Tier II Cities', False, 15),\n",
       " ('Specialization_Banking, Investment And Insurance', False, 5),\n",
       " ('Specialization_Business Administration', False, 8),\n",
       " ('Specialization_E_Commerce', False, 12),\n",
       " ('Specialization_International Business', False, 22),\n",
       " ('Specialization_Management', False, 10),\n",
       " ('Specialization_Media and Advertising', False, 9),\n",
       " ('Specialization_Rural and Agribusiness', False, 6),\n",
       " ('Specialization_Services Excellence', False, 47),\n",
       " ('Specialization_Travel and Tourism', False, 21),\n",
       " ('Lead Source_Direct Traffic', False, 33),\n",
       " ('Lead Source_Google', False, 35),\n",
       " ('Lead Source_Olark Chat', False, 14),\n",
       " ('Lead Source_Organic Search', False, 36),\n",
       " ('Lead Source_Reference', False, 13),\n",
       " ('Lead Source_Referral Sites', False, 34),\n",
       " ('Lead Source_Social Media', False, 25),\n",
       " ('Lead Source_Welingak Website', False, 4),\n",
       " ('Last Activity_Converted to Lead', False, 23),\n",
       " ('Last Activity_Email Bounced', True, 1),\n",
       " ('Last Activity_Email Link Clicked', False, 41),\n",
       " ('Last Activity_Email Opened', False, 38),\n",
       " ('Last Activity_Form Submitted on Website', False, 37),\n",
       " ('Last Activity_Olark Chat Conversation', True, 1),\n",
       " ('Last Activity_Page Visited on Website', False, 11),\n",
       " ('Last Activity_SMS Sent', False, 19),\n",
       " ('Last Activity_Unreachable', False, 20),\n",
       " ('Last Activity_Unsubscribed', False, 27),\n",
       " ('Tags_Already a student', True, 1),\n",
       " ('Tags_Busy', True, 1),\n",
       " ('Tags_Closed by Horizzon', True, 1),\n",
       " ('Tags_Graduation in progress', False, 24),\n",
       " ('Tags_Interested  in full time MBA', False, 2),\n",
       " ('Tags_Interested in other courses', False, 3),\n",
       " ('Tags_Lost to EINS', True, 1),\n",
       " ('Tags_Not doing further education', True, 1),\n",
       " ('Tags_Ringing', True, 1),\n",
       " ('Tags_Will revert after reading the email', True, 1),\n",
       " ('Tags_switched off', True, 1),\n",
       " ('Last Notable Activity_Email Link Clicked', False, 16),\n",
       " ('Last Notable Activity_Email Opened', False, 29),\n",
       " ('Last Notable Activity_Email Received', False, 49),\n",
       " ('Last Notable Activity_Modified', False, 17),\n",
       " ('Last Notable Activity_Olark Chat Conversation', False, 18),\n",
       " ('Last Notable Activity_Page Visited on Website', False, 28),\n",
       " ('Last Notable Activity_SMS Sent', True, 1)]"
      ]
     },
     "execution_count": 119,
     "metadata": {},
     "output_type": "execute_result"
    }
   ],
   "source": [
    "list(zip(X_train.columns,rfe.support_,rfe.ranking_))"
   ]
  },
  {
   "cell_type": "code",
   "execution_count": 120,
   "id": "6ad66809",
   "metadata": {},
   "outputs": [],
   "source": [
    "#list of RFE supported columns\n",
    "col = X_train.columns[rfe.support_]"
   ]
  },
  {
   "cell_type": "code",
   "execution_count": 121,
   "id": "989d7ddf",
   "metadata": {},
   "outputs": [
    {
     "data": {
      "text/plain": [
       "Index(['Do Not Email', 'TotalVisits', 'Page Views Per Visit',\n",
       "       'A free copy of Mastering The Interview',\n",
       "       'Lead Origin_Landing Page Submission', 'Lead Origin_Lead Import',\n",
       "       'What is your current occupation_Housewife',\n",
       "       'What is your current occupation_Other',\n",
       "       'What is your current occupation_Student', 'City_Other Cities',\n",
       "       'City_Other Cities of Maharashtra', 'City_Other Metro Cities',\n",
       "       'City_Thane & Outskirts', 'City_Tier II Cities',\n",
       "       'Specialization_Banking, Investment And Insurance',\n",
       "       'Specialization_Business Administration', 'Specialization_E_Commerce',\n",
       "       'Specialization_International Business', 'Specialization_Management',\n",
       "       'Specialization_Media and Advertising',\n",
       "       'Specialization_Rural and Agribusiness',\n",
       "       'Specialization_Services Excellence',\n",
       "       'Specialization_Travel and Tourism', 'Lead Source_Direct Traffic',\n",
       "       'Lead Source_Google', 'Lead Source_Olark Chat',\n",
       "       'Lead Source_Organic Search', 'Lead Source_Reference',\n",
       "       'Lead Source_Referral Sites', 'Lead Source_Social Media',\n",
       "       'Lead Source_Welingak Website', 'Last Activity_Converted to Lead',\n",
       "       'Last Activity_Email Link Clicked', 'Last Activity_Email Opened',\n",
       "       'Last Activity_Form Submitted on Website',\n",
       "       'Last Activity_Page Visited on Website', 'Last Activity_SMS Sent',\n",
       "       'Last Activity_Unreachable', 'Last Activity_Unsubscribed',\n",
       "       'Tags_Graduation in progress', 'Tags_Interested  in full time MBA',\n",
       "       'Tags_Interested in other courses',\n",
       "       'Last Notable Activity_Email Link Clicked',\n",
       "       'Last Notable Activity_Email Opened',\n",
       "       'Last Notable Activity_Email Received',\n",
       "       'Last Notable Activity_Modified',\n",
       "       'Last Notable Activity_Olark Chat Conversation',\n",
       "       'Last Notable Activity_Page Visited on Website'],\n",
       "      dtype='object')"
      ]
     },
     "execution_count": 121,
     "metadata": {},
     "output_type": "execute_result"
    }
   ],
   "source": [
    "# Columns dropped during rfe\n",
    "X_train.columns[~rfe.support_]"
   ]
  },
  {
   "cell_type": "code",
   "execution_count": 122,
   "id": "0c05a5af",
   "metadata": {},
   "outputs": [
    {
     "name": "stderr",
     "output_type": "stream",
     "text": [
      "C:\\ProgramData\\Anaconda3\\lib\\site-packages\\statsmodels\\base\\model.py:127: ValueWarning: unknown kwargs ['familiy']\n",
      "  warnings.warn(msg, ValueWarning)\n"
     ]
    },
    {
     "data": {
      "text/html": [
       "<table class=\"simpletable\">\n",
       "<caption>Generalized Linear Model Regression Results</caption>\n",
       "<tr>\n",
       "  <th>Dep. Variable:</th>       <td>Converted</td>    <th>  No. Observations:  </th>  <td>  6246</td> \n",
       "</tr>\n",
       "<tr>\n",
       "  <th>Model:</th>                  <td>GLM</td>       <th>  Df Residuals:      </th>  <td>  6230</td> \n",
       "</tr>\n",
       "<tr>\n",
       "  <th>Model Family:</th>        <td>Gaussian</td>     <th>  Df Model:          </th>  <td>    15</td> \n",
       "</tr>\n",
       "<tr>\n",
       "  <th>Link Function:</th>       <td>identity</td>     <th>  Scale:             </th> <td> 0.10338</td>\n",
       "</tr>\n",
       "<tr>\n",
       "  <th>Method:</th>                <td>IRLS</td>       <th>  Log-Likelihood:    </th> <td> -1767.5</td>\n",
       "</tr>\n",
       "<tr>\n",
       "  <th>Date:</th>            <td>Sun, 22 Jan 2023</td> <th>  Deviance:          </th> <td>  644.05</td>\n",
       "</tr>\n",
       "<tr>\n",
       "  <th>Time:</th>                <td>19:48:29</td>     <th>  Pearson chi2:      </th>  <td>  644.</td> \n",
       "</tr>\n",
       "<tr>\n",
       "  <th>No. Iterations:</th>          <td>3</td>        <th>  Pseudo R-squ. (CS):</th>  <td>0.7237</td> \n",
       "</tr>\n",
       "<tr>\n",
       "  <th>Covariance Type:</th>     <td>nonrobust</td>    <th>                     </th>     <td> </td>   \n",
       "</tr>\n",
       "</table>\n",
       "<table class=\"simpletable\">\n",
       "<tr>\n",
       "                            <td></td>                              <th>coef</th>     <th>std err</th>      <th>z</th>      <th>P>|z|</th>  <th>[0.025</th>    <th>0.975]</th>  \n",
       "</tr>\n",
       "<tr>\n",
       "  <th>const</th>                                                <td>    0.2014</td> <td>    0.028</td> <td>    7.192</td> <td> 0.000</td> <td>    0.147</td> <td>    0.256</td>\n",
       "</tr>\n",
       "<tr>\n",
       "  <th>Total Time Spent on Website</th>                          <td>    0.1262</td> <td>    0.004</td> <td>   28.676</td> <td> 0.000</td> <td>    0.118</td> <td>    0.135</td>\n",
       "</tr>\n",
       "<tr>\n",
       "  <th>Lead Origin_Lead Add Form</th>                            <td>    0.3598</td> <td>    0.019</td> <td>   19.443</td> <td> 0.000</td> <td>    0.324</td> <td>    0.396</td>\n",
       "</tr>\n",
       "<tr>\n",
       "  <th>What is your current occupation_Unemployed</th>           <td>   -0.1381</td> <td>    0.026</td> <td>   -5.376</td> <td> 0.000</td> <td>   -0.188</td> <td>   -0.088</td>\n",
       "</tr>\n",
       "<tr>\n",
       "  <th>What is your current occupation_Working Professional</th> <td>    0.0973</td> <td>    0.030</td> <td>    3.268</td> <td> 0.001</td> <td>    0.039</td> <td>    0.156</td>\n",
       "</tr>\n",
       "<tr>\n",
       "  <th>Last Activity_Email Bounced</th>                          <td>   -0.1740</td> <td>    0.023</td> <td>   -7.681</td> <td> 0.000</td> <td>   -0.218</td> <td>   -0.130</td>\n",
       "</tr>\n",
       "<tr>\n",
       "  <th>Last Activity_Olark Chat Conversation</th>                <td>   -0.1366</td> <td>    0.014</td> <td>   -9.829</td> <td> 0.000</td> <td>   -0.164</td> <td>   -0.109</td>\n",
       "</tr>\n",
       "<tr>\n",
       "  <th>Tags_Already a student</th>                               <td>   -0.0123</td> <td>    0.022</td> <td>   -0.554</td> <td> 0.580</td> <td>   -0.056</td> <td>    0.031</td>\n",
       "</tr>\n",
       "<tr>\n",
       "  <th>Tags_Busy</th>                                            <td>    0.3521</td> <td>    0.032</td> <td>   10.974</td> <td> 0.000</td> <td>    0.289</td> <td>    0.415</td>\n",
       "</tr>\n",
       "<tr>\n",
       "  <th>Tags_Closed by Horizzon</th>                              <td>    0.6901</td> <td>    0.027</td> <td>   25.304</td> <td> 0.000</td> <td>    0.637</td> <td>    0.744</td>\n",
       "</tr>\n",
       "<tr>\n",
       "  <th>Tags_Lost to EINS</th>                                    <td>    0.7965</td> <td>    0.032</td> <td>   24.918</td> <td> 0.000</td> <td>    0.734</td> <td>    0.859</td>\n",
       "</tr>\n",
       "<tr>\n",
       "  <th>Tags_Not doing further education</th>                     <td>   -0.0009</td> <td>    0.036</td> <td>   -0.026</td> <td> 0.979</td> <td>   -0.071</td> <td>    0.069</td>\n",
       "</tr>\n",
       "<tr>\n",
       "  <th>Tags_Ringing</th>                                         <td>   -0.1078</td> <td>    0.017</td> <td>   -6.421</td> <td> 0.000</td> <td>   -0.141</td> <td>   -0.075</td>\n",
       "</tr>\n",
       "<tr>\n",
       "  <th>Tags_Will revert after reading the email</th>             <td>    0.3306</td> <td>    0.014</td> <td>   24.311</td> <td> 0.000</td> <td>    0.304</td> <td>    0.357</td>\n",
       "</tr>\n",
       "<tr>\n",
       "  <th>Tags_switched off</th>                                    <td>   -0.1435</td> <td>    0.029</td> <td>   -4.935</td> <td> 0.000</td> <td>   -0.200</td> <td>   -0.087</td>\n",
       "</tr>\n",
       "<tr>\n",
       "  <th>Last Notable Activity_SMS Sent</th>                       <td>    0.3075</td> <td>    0.010</td> <td>   29.538</td> <td> 0.000</td> <td>    0.287</td> <td>    0.328</td>\n",
       "</tr>\n",
       "</table>"
      ],
      "text/plain": [
       "<class 'statsmodels.iolib.summary.Summary'>\n",
       "\"\"\"\n",
       "                 Generalized Linear Model Regression Results                  \n",
       "==============================================================================\n",
       "Dep. Variable:              Converted   No. Observations:                 6246\n",
       "Model:                            GLM   Df Residuals:                     6230\n",
       "Model Family:                Gaussian   Df Model:                           15\n",
       "Link Function:               identity   Scale:                         0.10338\n",
       "Method:                          IRLS   Log-Likelihood:                -1767.5\n",
       "Date:                Sun, 22 Jan 2023   Deviance:                       644.05\n",
       "Time:                        19:48:29   Pearson chi2:                     644.\n",
       "No. Iterations:                     3   Pseudo R-squ. (CS):             0.7237\n",
       "Covariance Type:            nonrobust                                         \n",
       "========================================================================================================================\n",
       "                                                           coef    std err          z      P>|z|      [0.025      0.975]\n",
       "------------------------------------------------------------------------------------------------------------------------\n",
       "const                                                    0.2014      0.028      7.192      0.000       0.147       0.256\n",
       "Total Time Spent on Website                              0.1262      0.004     28.676      0.000       0.118       0.135\n",
       "Lead Origin_Lead Add Form                                0.3598      0.019     19.443      0.000       0.324       0.396\n",
       "What is your current occupation_Unemployed              -0.1381      0.026     -5.376      0.000      -0.188      -0.088\n",
       "What is your current occupation_Working Professional     0.0973      0.030      3.268      0.001       0.039       0.156\n",
       "Last Activity_Email Bounced                             -0.1740      0.023     -7.681      0.000      -0.218      -0.130\n",
       "Last Activity_Olark Chat Conversation                   -0.1366      0.014     -9.829      0.000      -0.164      -0.109\n",
       "Tags_Already a student                                  -0.0123      0.022     -0.554      0.580      -0.056       0.031\n",
       "Tags_Busy                                                0.3521      0.032     10.974      0.000       0.289       0.415\n",
       "Tags_Closed by Horizzon                                  0.6901      0.027     25.304      0.000       0.637       0.744\n",
       "Tags_Lost to EINS                                        0.7965      0.032     24.918      0.000       0.734       0.859\n",
       "Tags_Not doing further education                        -0.0009      0.036     -0.026      0.979      -0.071       0.069\n",
       "Tags_Ringing                                            -0.1078      0.017     -6.421      0.000      -0.141      -0.075\n",
       "Tags_Will revert after reading the email                 0.3306      0.014     24.311      0.000       0.304       0.357\n",
       "Tags_switched off                                       -0.1435      0.029     -4.935      0.000      -0.200      -0.087\n",
       "Last Notable Activity_SMS Sent                           0.3075      0.010     29.538      0.000       0.287       0.328\n",
       "========================================================================================================================\n",
       "\"\"\""
      ]
     },
     "execution_count": 122,
     "metadata": {},
     "output_type": "execute_result"
    }
   ],
   "source": [
    "# Lets build first model\n",
    "X_train_sm=sm.add_constant(X_train[col])\n",
    "log1=sm.GLM(y_train,X_train_sm,familiy=sm.families.Binomial())\n",
    "res=log1.fit()\n",
    "res.summary()"
   ]
  },
  {
   "cell_type": "code",
   "execution_count": 123,
   "id": "4e3d5b8e",
   "metadata": {},
   "outputs": [],
   "source": [
    "# P Value of Tags_Not doing further Education is high. So we can dropp this\n",
    "\n",
    "col=col.drop('Tags_Not doing further education',1)"
   ]
  },
  {
   "cell_type": "code",
   "execution_count": 124,
   "id": "6255598b",
   "metadata": {},
   "outputs": [
    {
     "name": "stderr",
     "output_type": "stream",
     "text": [
      "C:\\ProgramData\\Anaconda3\\lib\\site-packages\\statsmodels\\base\\model.py:127: ValueWarning: unknown kwargs ['familiy']\n",
      "  warnings.warn(msg, ValueWarning)\n"
     ]
    },
    {
     "data": {
      "text/html": [
       "<table class=\"simpletable\">\n",
       "<caption>Generalized Linear Model Regression Results</caption>\n",
       "<tr>\n",
       "  <th>Dep. Variable:</th>       <td>Converted</td>    <th>  No. Observations:  </th>  <td>  6246</td> \n",
       "</tr>\n",
       "<tr>\n",
       "  <th>Model:</th>                  <td>GLM</td>       <th>  Df Residuals:      </th>  <td>  6231</td> \n",
       "</tr>\n",
       "<tr>\n",
       "  <th>Model Family:</th>        <td>Gaussian</td>     <th>  Df Model:          </th>  <td>    14</td> \n",
       "</tr>\n",
       "<tr>\n",
       "  <th>Link Function:</th>       <td>identity</td>     <th>  Scale:             </th> <td> 0.10336</td>\n",
       "</tr>\n",
       "<tr>\n",
       "  <th>Method:</th>                <td>IRLS</td>       <th>  Log-Likelihood:    </th> <td> -1767.5</td>\n",
       "</tr>\n",
       "<tr>\n",
       "  <th>Date:</th>            <td>Sun, 22 Jan 2023</td> <th>  Deviance:          </th> <td>  644.05</td>\n",
       "</tr>\n",
       "<tr>\n",
       "  <th>Time:</th>                <td>19:48:29</td>     <th>  Pearson chi2:      </th>  <td>  644.</td> \n",
       "</tr>\n",
       "<tr>\n",
       "  <th>No. Iterations:</th>          <td>3</td>        <th>  Pseudo R-squ. (CS):</th>  <td>0.7237</td> \n",
       "</tr>\n",
       "<tr>\n",
       "  <th>Covariance Type:</th>     <td>nonrobust</td>    <th>                     </th>     <td> </td>   \n",
       "</tr>\n",
       "</table>\n",
       "<table class=\"simpletable\">\n",
       "<tr>\n",
       "                            <td></td>                              <th>coef</th>     <th>std err</th>      <th>z</th>      <th>P>|z|</th>  <th>[0.025</th>    <th>0.975]</th>  \n",
       "</tr>\n",
       "<tr>\n",
       "  <th>const</th>                                                <td>    0.2013</td> <td>    0.028</td> <td>    7.288</td> <td> 0.000</td> <td>    0.147</td> <td>    0.255</td>\n",
       "</tr>\n",
       "<tr>\n",
       "  <th>Total Time Spent on Website</th>                          <td>    0.1262</td> <td>    0.004</td> <td>   28.679</td> <td> 0.000</td> <td>    0.118</td> <td>    0.135</td>\n",
       "</tr>\n",
       "<tr>\n",
       "  <th>Lead Origin_Lead Add Form</th>                            <td>    0.3598</td> <td>    0.019</td> <td>   19.444</td> <td> 0.000</td> <td>    0.324</td> <td>    0.396</td>\n",
       "</tr>\n",
       "<tr>\n",
       "  <th>What is your current occupation_Unemployed</th>           <td>   -0.1381</td> <td>    0.026</td> <td>   -5.376</td> <td> 0.000</td> <td>   -0.188</td> <td>   -0.088</td>\n",
       "</tr>\n",
       "<tr>\n",
       "  <th>What is your current occupation_Working Professional</th> <td>    0.0974</td> <td>    0.030</td> <td>    3.269</td> <td> 0.001</td> <td>    0.039</td> <td>    0.156</td>\n",
       "</tr>\n",
       "<tr>\n",
       "  <th>Last Activity_Email Bounced</th>                          <td>   -0.1741</td> <td>    0.022</td> <td>   -7.770</td> <td> 0.000</td> <td>   -0.218</td> <td>   -0.130</td>\n",
       "</tr>\n",
       "<tr>\n",
       "  <th>Last Activity_Olark Chat Conversation</th>                <td>   -0.1366</td> <td>    0.014</td> <td>   -9.832</td> <td> 0.000</td> <td>   -0.164</td> <td>   -0.109</td>\n",
       "</tr>\n",
       "<tr>\n",
       "  <th>Tags_Already a student</th>                               <td>   -0.0122</td> <td>    0.022</td> <td>   -0.560</td> <td> 0.576</td> <td>   -0.055</td> <td>    0.030</td>\n",
       "</tr>\n",
       "<tr>\n",
       "  <th>Tags_Busy</th>                                            <td>    0.3522</td> <td>    0.032</td> <td>   11.069</td> <td> 0.000</td> <td>    0.290</td> <td>    0.415</td>\n",
       "</tr>\n",
       "<tr>\n",
       "  <th>Tags_Closed by Horizzon</th>                              <td>    0.6902</td> <td>    0.027</td> <td>   25.607</td> <td> 0.000</td> <td>    0.637</td> <td>    0.743</td>\n",
       "</tr>\n",
       "<tr>\n",
       "  <th>Tags_Lost to EINS</th>                                    <td>    0.7966</td> <td>    0.032</td> <td>   25.138</td> <td> 0.000</td> <td>    0.734</td> <td>    0.859</td>\n",
       "</tr>\n",
       "<tr>\n",
       "  <th>Tags_Ringing</th>                                         <td>   -0.1077</td> <td>    0.016</td> <td>   -6.617</td> <td> 0.000</td> <td>   -0.140</td> <td>   -0.076</td>\n",
       "</tr>\n",
       "<tr>\n",
       "  <th>Tags_Will revert after reading the email</th>             <td>    0.3307</td> <td>    0.013</td> <td>   25.546</td> <td> 0.000</td> <td>    0.305</td> <td>    0.356</td>\n",
       "</tr>\n",
       "<tr>\n",
       "  <th>Tags_switched off</th>                                    <td>   -0.1434</td> <td>    0.029</td> <td>   -4.984</td> <td> 0.000</td> <td>   -0.200</td> <td>   -0.087</td>\n",
       "</tr>\n",
       "<tr>\n",
       "  <th>Last Notable Activity_SMS Sent</th>                       <td>    0.3075</td> <td>    0.010</td> <td>   29.541</td> <td> 0.000</td> <td>    0.287</td> <td>    0.328</td>\n",
       "</tr>\n",
       "</table>"
      ],
      "text/plain": [
       "<class 'statsmodels.iolib.summary.Summary'>\n",
       "\"\"\"\n",
       "                 Generalized Linear Model Regression Results                  \n",
       "==============================================================================\n",
       "Dep. Variable:              Converted   No. Observations:                 6246\n",
       "Model:                            GLM   Df Residuals:                     6231\n",
       "Model Family:                Gaussian   Df Model:                           14\n",
       "Link Function:               identity   Scale:                         0.10336\n",
       "Method:                          IRLS   Log-Likelihood:                -1767.5\n",
       "Date:                Sun, 22 Jan 2023   Deviance:                       644.05\n",
       "Time:                        19:48:29   Pearson chi2:                     644.\n",
       "No. Iterations:                     3   Pseudo R-squ. (CS):             0.7237\n",
       "Covariance Type:            nonrobust                                         \n",
       "========================================================================================================================\n",
       "                                                           coef    std err          z      P>|z|      [0.025      0.975]\n",
       "------------------------------------------------------------------------------------------------------------------------\n",
       "const                                                    0.2013      0.028      7.288      0.000       0.147       0.255\n",
       "Total Time Spent on Website                              0.1262      0.004     28.679      0.000       0.118       0.135\n",
       "Lead Origin_Lead Add Form                                0.3598      0.019     19.444      0.000       0.324       0.396\n",
       "What is your current occupation_Unemployed              -0.1381      0.026     -5.376      0.000      -0.188      -0.088\n",
       "What is your current occupation_Working Professional     0.0974      0.030      3.269      0.001       0.039       0.156\n",
       "Last Activity_Email Bounced                             -0.1741      0.022     -7.770      0.000      -0.218      -0.130\n",
       "Last Activity_Olark Chat Conversation                   -0.1366      0.014     -9.832      0.000      -0.164      -0.109\n",
       "Tags_Already a student                                  -0.0122      0.022     -0.560      0.576      -0.055       0.030\n",
       "Tags_Busy                                                0.3522      0.032     11.069      0.000       0.290       0.415\n",
       "Tags_Closed by Horizzon                                  0.6902      0.027     25.607      0.000       0.637       0.743\n",
       "Tags_Lost to EINS                                        0.7966      0.032     25.138      0.000       0.734       0.859\n",
       "Tags_Ringing                                            -0.1077      0.016     -6.617      0.000      -0.140      -0.076\n",
       "Tags_Will revert after reading the email                 0.3307      0.013     25.546      0.000       0.305       0.356\n",
       "Tags_switched off                                       -0.1434      0.029     -4.984      0.000      -0.200      -0.087\n",
       "Last Notable Activity_SMS Sent                           0.3075      0.010     29.541      0.000       0.287       0.328\n",
       "========================================================================================================================\n",
       "\"\"\""
      ]
     },
     "execution_count": 124,
     "metadata": {},
     "output_type": "execute_result"
    }
   ],
   "source": [
    "#Building IInd Model\n",
    "\n",
    "X_train_sm=sm.add_constant(X_train[col])\n",
    "log2=sm.GLM(y_train,X_train_sm,familiy=sm.families.Binomial())\n",
    "res=log2.fit()\n",
    "res.summary()"
   ]
  },
  {
   "cell_type": "code",
   "execution_count": 125,
   "id": "59c5c5da",
   "metadata": {},
   "outputs": [],
   "source": [
    "# Tags_Already a Student has high p value , lets dropp it also\n",
    "col=col.drop(\"Tags_Already a student\",1)"
   ]
  },
  {
   "cell_type": "code",
   "execution_count": 126,
   "id": "a5c492e8",
   "metadata": {},
   "outputs": [
    {
     "data": {
      "text/html": [
       "<table class=\"simpletable\">\n",
       "<caption>Generalized Linear Model Regression Results</caption>\n",
       "<tr>\n",
       "  <th>Dep. Variable:</th>       <td>Converted</td>    <th>  No. Observations:  </th>  <td>  6246</td> \n",
       "</tr>\n",
       "<tr>\n",
       "  <th>Model:</th>                  <td>GLM</td>       <th>  Df Residuals:      </th>  <td>  6232</td> \n",
       "</tr>\n",
       "<tr>\n",
       "  <th>Model Family:</th>        <td>Binomial</td>     <th>  Df Model:          </th>  <td>    13</td> \n",
       "</tr>\n",
       "<tr>\n",
       "  <th>Link Function:</th>         <td>Logit</td>      <th>  Scale:             </th> <td>  1.0000</td>\n",
       "</tr>\n",
       "<tr>\n",
       "  <th>Method:</th>                <td>IRLS</td>       <th>  Log-Likelihood:    </th> <td> -1754.3</td>\n",
       "</tr>\n",
       "<tr>\n",
       "  <th>Date:</th>            <td>Sun, 22 Jan 2023</td> <th>  Deviance:          </th> <td>  3508.7</td>\n",
       "</tr>\n",
       "<tr>\n",
       "  <th>Time:</th>                <td>19:48:30</td>     <th>  Pearson chi2:      </th> <td>9.39e+03</td>\n",
       "</tr>\n",
       "<tr>\n",
       "  <th>No. Iterations:</th>         <td>24</td>        <th>  Pseudo R-squ. (CS):</th>  <td>0.5362</td> \n",
       "</tr>\n",
       "<tr>\n",
       "  <th>Covariance Type:</th>     <td>nonrobust</td>    <th>                     </th>     <td> </td>   \n",
       "</tr>\n",
       "</table>\n",
       "<table class=\"simpletable\">\n",
       "<tr>\n",
       "                            <td></td>                              <th>coef</th>     <th>std err</th>      <th>z</th>      <th>P>|z|</th>  <th>[0.025</th>    <th>0.975]</th>  \n",
       "</tr>\n",
       "<tr>\n",
       "  <th>const</th>                                                <td>   -3.0640</td> <td>    0.335</td> <td>   -9.137</td> <td> 0.000</td> <td>   -3.721</td> <td>   -2.407</td>\n",
       "</tr>\n",
       "<tr>\n",
       "  <th>Total Time Spent on Website</th>                          <td>    0.9973</td> <td>    0.045</td> <td>   21.930</td> <td> 0.000</td> <td>    0.908</td> <td>    1.086</td>\n",
       "</tr>\n",
       "<tr>\n",
       "  <th>Lead Origin_Lead Add Form</th>                            <td>    3.5063</td> <td>    0.275</td> <td>   12.764</td> <td> 0.000</td> <td>    2.968</td> <td>    4.045</td>\n",
       "</tr>\n",
       "<tr>\n",
       "  <th>What is your current occupation_Unemployed</th>           <td>   -1.3621</td> <td>    0.310</td> <td>   -4.399</td> <td> 0.000</td> <td>   -1.969</td> <td>   -0.755</td>\n",
       "</tr>\n",
       "<tr>\n",
       "  <th>What is your current occupation_Working Professional</th> <td>    1.4388</td> <td>    0.393</td> <td>    3.658</td> <td> 0.000</td> <td>    0.668</td> <td>    2.210</td>\n",
       "</tr>\n",
       "<tr>\n",
       "  <th>Last Activity_Email Bounced</th>                          <td>   -2.2767</td> <td>    0.392</td> <td>   -5.810</td> <td> 0.000</td> <td>   -3.045</td> <td>   -1.509</td>\n",
       "</tr>\n",
       "<tr>\n",
       "  <th>Last Activity_Olark Chat Conversation</th>                <td>   -1.0809</td> <td>    0.173</td> <td>   -6.258</td> <td> 0.000</td> <td>   -1.419</td> <td>   -0.742</td>\n",
       "</tr>\n",
       "<tr>\n",
       "  <th>Tags_Busy</th>                                            <td>    3.5853</td> <td>    0.313</td> <td>   11.441</td> <td> 0.000</td> <td>    2.971</td> <td>    4.200</td>\n",
       "</tr>\n",
       "<tr>\n",
       "  <th>Tags_Closed by Horizzon</th>                              <td>   28.7594</td> <td> 1.26e+04</td> <td>    0.002</td> <td> 0.998</td> <td>-2.46e+04</td> <td> 2.47e+04</td>\n",
       "</tr>\n",
       "<tr>\n",
       "  <th>Tags_Lost to EINS</th>                                    <td>    7.8161</td> <td>    0.579</td> <td>   13.510</td> <td> 0.000</td> <td>    6.682</td> <td>    8.950</td>\n",
       "</tr>\n",
       "<tr>\n",
       "  <th>Tags_Ringing</th>                                         <td>   -0.8778</td> <td>    0.309</td> <td>   -2.843</td> <td> 0.004</td> <td>   -1.483</td> <td>   -0.273</td>\n",
       "</tr>\n",
       "<tr>\n",
       "  <th>Tags_Will revert after reading the email</th>             <td>    3.7358</td> <td>    0.216</td> <td>   17.322</td> <td> 0.000</td> <td>    3.313</td> <td>    4.159</td>\n",
       "</tr>\n",
       "<tr>\n",
       "  <th>Tags_switched off</th>                                    <td>   -1.3995</td> <td>    0.642</td> <td>   -2.181</td> <td> 0.029</td> <td>   -2.657</td> <td>   -0.142</td>\n",
       "</tr>\n",
       "<tr>\n",
       "  <th>Last Notable Activity_SMS Sent</th>                       <td>    2.4504</td> <td>    0.116</td> <td>   21.148</td> <td> 0.000</td> <td>    2.223</td> <td>    2.678</td>\n",
       "</tr>\n",
       "</table>"
      ],
      "text/plain": [
       "<class 'statsmodels.iolib.summary.Summary'>\n",
       "\"\"\"\n",
       "                 Generalized Linear Model Regression Results                  \n",
       "==============================================================================\n",
       "Dep. Variable:              Converted   No. Observations:                 6246\n",
       "Model:                            GLM   Df Residuals:                     6232\n",
       "Model Family:                Binomial   Df Model:                           13\n",
       "Link Function:                  Logit   Scale:                          1.0000\n",
       "Method:                          IRLS   Log-Likelihood:                -1754.3\n",
       "Date:                Sun, 22 Jan 2023   Deviance:                       3508.7\n",
       "Time:                        19:48:30   Pearson chi2:                 9.39e+03\n",
       "No. Iterations:                    24   Pseudo R-squ. (CS):             0.5362\n",
       "Covariance Type:            nonrobust                                         \n",
       "========================================================================================================================\n",
       "                                                           coef    std err          z      P>|z|      [0.025      0.975]\n",
       "------------------------------------------------------------------------------------------------------------------------\n",
       "const                                                   -3.0640      0.335     -9.137      0.000      -3.721      -2.407\n",
       "Total Time Spent on Website                              0.9973      0.045     21.930      0.000       0.908       1.086\n",
       "Lead Origin_Lead Add Form                                3.5063      0.275     12.764      0.000       2.968       4.045\n",
       "What is your current occupation_Unemployed              -1.3621      0.310     -4.399      0.000      -1.969      -0.755\n",
       "What is your current occupation_Working Professional     1.4388      0.393      3.658      0.000       0.668       2.210\n",
       "Last Activity_Email Bounced                             -2.2767      0.392     -5.810      0.000      -3.045      -1.509\n",
       "Last Activity_Olark Chat Conversation                   -1.0809      0.173     -6.258      0.000      -1.419      -0.742\n",
       "Tags_Busy                                                3.5853      0.313     11.441      0.000       2.971       4.200\n",
       "Tags_Closed by Horizzon                                 28.7594   1.26e+04      0.002      0.998   -2.46e+04    2.47e+04\n",
       "Tags_Lost to EINS                                        7.8161      0.579     13.510      0.000       6.682       8.950\n",
       "Tags_Ringing                                            -0.8778      0.309     -2.843      0.004      -1.483      -0.273\n",
       "Tags_Will revert after reading the email                 3.7358      0.216     17.322      0.000       3.313       4.159\n",
       "Tags_switched off                                       -1.3995      0.642     -2.181      0.029      -2.657      -0.142\n",
       "Last Notable Activity_SMS Sent                           2.4504      0.116     21.148      0.000       2.223       2.678\n",
       "========================================================================================================================\n",
       "\"\"\""
      ]
     },
     "execution_count": 126,
     "metadata": {},
     "output_type": "execute_result"
    }
   ],
   "source": [
    "# Building IIIrd Model\n",
    "X_train_sm=sm.add_constant(X_train[col])\n",
    "log3=sm.GLM(y_train,X_train_sm,family=sm.families.Binomial())\n",
    "res=log3.fit()\n",
    "res.summary()"
   ]
  },
  {
   "cell_type": "code",
   "execution_count": 127,
   "id": "7c41ee01",
   "metadata": {},
   "outputs": [],
   "source": [
    "# Tags_Closed by Horizzon has high p value , lets dropp it also\n",
    "col=col.drop(\"Tags_Closed by Horizzon\",1)"
   ]
  },
  {
   "cell_type": "code",
   "execution_count": 128,
   "id": "ba72ba28",
   "metadata": {},
   "outputs": [
    {
     "data": {
      "text/html": [
       "<table class=\"simpletable\">\n",
       "<caption>Generalized Linear Model Regression Results</caption>\n",
       "<tr>\n",
       "  <th>Dep. Variable:</th>       <td>Converted</td>    <th>  No. Observations:  </th>  <td>  6246</td> \n",
       "</tr>\n",
       "<tr>\n",
       "  <th>Model:</th>                  <td>GLM</td>       <th>  Df Residuals:      </th>  <td>  6233</td> \n",
       "</tr>\n",
       "<tr>\n",
       "  <th>Model Family:</th>        <td>Binomial</td>     <th>  Df Model:          </th>  <td>    12</td> \n",
       "</tr>\n",
       "<tr>\n",
       "  <th>Link Function:</th>         <td>Logit</td>      <th>  Scale:             </th> <td>  1.0000</td>\n",
       "</tr>\n",
       "<tr>\n",
       "  <th>Method:</th>                <td>IRLS</td>       <th>  Log-Likelihood:    </th> <td> -2029.7</td>\n",
       "</tr>\n",
       "<tr>\n",
       "  <th>Date:</th>            <td>Sun, 22 Jan 2023</td> <th>  Deviance:          </th> <td>  4059.4</td>\n",
       "</tr>\n",
       "<tr>\n",
       "  <th>Time:</th>                <td>19:48:30</td>     <th>  Pearson chi2:      </th> <td>1.04e+04</td>\n",
       "</tr>\n",
       "<tr>\n",
       "  <th>No. Iterations:</th>          <td>7</td>        <th>  Pseudo R-squ. (CS):</th>  <td>0.4935</td> \n",
       "</tr>\n",
       "<tr>\n",
       "  <th>Covariance Type:</th>     <td>nonrobust</td>    <th>                     </th>     <td> </td>   \n",
       "</tr>\n",
       "</table>\n",
       "<table class=\"simpletable\">\n",
       "<tr>\n",
       "                            <td></td>                              <th>coef</th>     <th>std err</th>      <th>z</th>      <th>P>|z|</th>  <th>[0.025</th>    <th>0.975]</th>  \n",
       "</tr>\n",
       "<tr>\n",
       "  <th>const</th>                                                <td>   -1.7833</td> <td>    0.246</td> <td>   -7.253</td> <td> 0.000</td> <td>   -2.265</td> <td>   -1.301</td>\n",
       "</tr>\n",
       "<tr>\n",
       "  <th>Total Time Spent on Website</th>                          <td>    0.9927</td> <td>    0.042</td> <td>   23.815</td> <td> 0.000</td> <td>    0.911</td> <td>    1.074</td>\n",
       "</tr>\n",
       "<tr>\n",
       "  <th>Lead Origin_Lead Add Form</th>                            <td>    4.6063</td> <td>    0.254</td> <td>   18.155</td> <td> 0.000</td> <td>    4.109</td> <td>    5.104</td>\n",
       "</tr>\n",
       "<tr>\n",
       "  <th>What is your current occupation_Unemployed</th>           <td>   -0.6677</td> <td>    0.244</td> <td>   -2.739</td> <td> 0.006</td> <td>   -1.146</td> <td>   -0.190</td>\n",
       "</tr>\n",
       "<tr>\n",
       "  <th>What is your current occupation_Working Professional</th> <td>    1.9868</td> <td>    0.316</td> <td>    6.285</td> <td> 0.000</td> <td>    1.367</td> <td>    2.606</td>\n",
       "</tr>\n",
       "<tr>\n",
       "  <th>Last Activity_Email Bounced</th>                          <td>   -2.3535</td> <td>    0.384</td> <td>   -6.132</td> <td> 0.000</td> <td>   -3.106</td> <td>   -1.601</td>\n",
       "</tr>\n",
       "<tr>\n",
       "  <th>Last Activity_Olark Chat Conversation</th>                <td>   -1.0967</td> <td>    0.161</td> <td>   -6.805</td> <td> 0.000</td> <td>   -1.413</td> <td>   -0.781</td>\n",
       "</tr>\n",
       "<tr>\n",
       "  <th>Tags_Busy</th>                                            <td>    1.6882</td> <td>    0.252</td> <td>    6.706</td> <td> 0.000</td> <td>    1.195</td> <td>    2.182</td>\n",
       "</tr>\n",
       "<tr>\n",
       "  <th>Tags_Lost to EINS</th>                                    <td>    5.8570</td> <td>    0.548</td> <td>   10.691</td> <td> 0.000</td> <td>    4.783</td> <td>    6.931</td>\n",
       "</tr>\n",
       "<tr>\n",
       "  <th>Tags_Ringing</th>                                         <td>   -2.8102</td> <td>    0.258</td> <td>  -10.881</td> <td> 0.000</td> <td>   -3.316</td> <td>   -2.304</td>\n",
       "</tr>\n",
       "<tr>\n",
       "  <th>Tags_Will revert after reading the email</th>             <td>    1.7978</td> <td>    0.114</td> <td>   15.827</td> <td> 0.000</td> <td>    1.575</td> <td>    2.020</td>\n",
       "</tr>\n",
       "<tr>\n",
       "  <th>Tags_switched off</th>                                    <td>   -3.1845</td> <td>    0.616</td> <td>   -5.167</td> <td> 0.000</td> <td>   -4.392</td> <td>   -1.976</td>\n",
       "</tr>\n",
       "<tr>\n",
       "  <th>Last Notable Activity_SMS Sent</th>                       <td>    2.2437</td> <td>    0.109</td> <td>   20.633</td> <td> 0.000</td> <td>    2.031</td> <td>    2.457</td>\n",
       "</tr>\n",
       "</table>"
      ],
      "text/plain": [
       "<class 'statsmodels.iolib.summary.Summary'>\n",
       "\"\"\"\n",
       "                 Generalized Linear Model Regression Results                  \n",
       "==============================================================================\n",
       "Dep. Variable:              Converted   No. Observations:                 6246\n",
       "Model:                            GLM   Df Residuals:                     6233\n",
       "Model Family:                Binomial   Df Model:                           12\n",
       "Link Function:                  Logit   Scale:                          1.0000\n",
       "Method:                          IRLS   Log-Likelihood:                -2029.7\n",
       "Date:                Sun, 22 Jan 2023   Deviance:                       4059.4\n",
       "Time:                        19:48:30   Pearson chi2:                 1.04e+04\n",
       "No. Iterations:                     7   Pseudo R-squ. (CS):             0.4935\n",
       "Covariance Type:            nonrobust                                         \n",
       "========================================================================================================================\n",
       "                                                           coef    std err          z      P>|z|      [0.025      0.975]\n",
       "------------------------------------------------------------------------------------------------------------------------\n",
       "const                                                   -1.7833      0.246     -7.253      0.000      -2.265      -1.301\n",
       "Total Time Spent on Website                              0.9927      0.042     23.815      0.000       0.911       1.074\n",
       "Lead Origin_Lead Add Form                                4.6063      0.254     18.155      0.000       4.109       5.104\n",
       "What is your current occupation_Unemployed              -0.6677      0.244     -2.739      0.006      -1.146      -0.190\n",
       "What is your current occupation_Working Professional     1.9868      0.316      6.285      0.000       1.367       2.606\n",
       "Last Activity_Email Bounced                             -2.3535      0.384     -6.132      0.000      -3.106      -1.601\n",
       "Last Activity_Olark Chat Conversation                   -1.0967      0.161     -6.805      0.000      -1.413      -0.781\n",
       "Tags_Busy                                                1.6882      0.252      6.706      0.000       1.195       2.182\n",
       "Tags_Lost to EINS                                        5.8570      0.548     10.691      0.000       4.783       6.931\n",
       "Tags_Ringing                                            -2.8102      0.258    -10.881      0.000      -3.316      -2.304\n",
       "Tags_Will revert after reading the email                 1.7978      0.114     15.827      0.000       1.575       2.020\n",
       "Tags_switched off                                       -3.1845      0.616     -5.167      0.000      -4.392      -1.976\n",
       "Last Notable Activity_SMS Sent                           2.2437      0.109     20.633      0.000       2.031       2.457\n",
       "========================================================================================================================\n",
       "\"\"\""
      ]
     },
     "execution_count": 128,
     "metadata": {},
     "output_type": "execute_result"
    }
   ],
   "source": [
    "# Building IVth Model\n",
    "X_train_sm=sm.add_constant(X_train[col])\n",
    "log4=sm.GLM(y_train,X_train_sm,family=sm.families.Binomial())\n",
    "res=log4.fit()\n",
    "res.summary()"
   ]
  },
  {
   "cell_type": "code",
   "execution_count": 129,
   "id": "26317b5a",
   "metadata": {},
   "outputs": [],
   "source": [
    "# Check for the VIF values of the feature variables. \n",
    "from statsmodels.stats.outliers_influence import variance_inflation_factor"
   ]
  },
  {
   "cell_type": "code",
   "execution_count": 130,
   "id": "c4dfdb33",
   "metadata": {},
   "outputs": [
    {
     "data": {
      "text/html": [
       "<div>\n",
       "<style scoped>\n",
       "    .dataframe tbody tr th:only-of-type {\n",
       "        vertical-align: middle;\n",
       "    }\n",
       "\n",
       "    .dataframe tbody tr th {\n",
       "        vertical-align: top;\n",
       "    }\n",
       "\n",
       "    .dataframe thead th {\n",
       "        text-align: right;\n",
       "    }\n",
       "</style>\n",
       "<table border=\"1\" class=\"dataframe\">\n",
       "  <thead>\n",
       "    <tr style=\"text-align: right;\">\n",
       "      <th></th>\n",
       "      <th>Features</th>\n",
       "      <th>VIF</th>\n",
       "    </tr>\n",
       "  </thead>\n",
       "  <tbody>\n",
       "    <tr>\n",
       "      <th>2</th>\n",
       "      <td>What is your current occupation_Unemployed</td>\n",
       "      <td>4.86</td>\n",
       "    </tr>\n",
       "    <tr>\n",
       "      <th>9</th>\n",
       "      <td>Tags_Will revert after reading the email</td>\n",
       "      <td>3.99</td>\n",
       "    </tr>\n",
       "    <tr>\n",
       "      <th>8</th>\n",
       "      <td>Tags_Ringing</td>\n",
       "      <td>1.75</td>\n",
       "    </tr>\n",
       "    <tr>\n",
       "      <th>11</th>\n",
       "      <td>Last Notable Activity_SMS Sent</td>\n",
       "      <td>1.53</td>\n",
       "    </tr>\n",
       "    <tr>\n",
       "      <th>3</th>\n",
       "      <td>What is your current occupation_Working Profes...</td>\n",
       "      <td>1.45</td>\n",
       "    </tr>\n",
       "    <tr>\n",
       "      <th>5</th>\n",
       "      <td>Last Activity_Olark Chat Conversation</td>\n",
       "      <td>1.25</td>\n",
       "    </tr>\n",
       "    <tr>\n",
       "      <th>1</th>\n",
       "      <td>Lead Origin_Lead Add Form</td>\n",
       "      <td>1.21</td>\n",
       "    </tr>\n",
       "    <tr>\n",
       "      <th>0</th>\n",
       "      <td>Total Time Spent on Website</td>\n",
       "      <td>1.15</td>\n",
       "    </tr>\n",
       "    <tr>\n",
       "      <th>10</th>\n",
       "      <td>Tags_switched off</td>\n",
       "      <td>1.14</td>\n",
       "    </tr>\n",
       "    <tr>\n",
       "      <th>6</th>\n",
       "      <td>Tags_Busy</td>\n",
       "      <td>1.13</td>\n",
       "    </tr>\n",
       "    <tr>\n",
       "      <th>7</th>\n",
       "      <td>Tags_Lost to EINS</td>\n",
       "      <td>1.10</td>\n",
       "    </tr>\n",
       "    <tr>\n",
       "      <th>4</th>\n",
       "      <td>Last Activity_Email Bounced</td>\n",
       "      <td>1.07</td>\n",
       "    </tr>\n",
       "  </tbody>\n",
       "</table>\n",
       "</div>"
      ],
      "text/plain": [
       "                                             Features   VIF\n",
       "2          What is your current occupation_Unemployed  4.86\n",
       "9            Tags_Will revert after reading the email  3.99\n",
       "8                                        Tags_Ringing  1.75\n",
       "11                     Last Notable Activity_SMS Sent  1.53\n",
       "3   What is your current occupation_Working Profes...  1.45\n",
       "5               Last Activity_Olark Chat Conversation  1.25\n",
       "1                           Lead Origin_Lead Add Form  1.21\n",
       "0                         Total Time Spent on Website  1.15\n",
       "10                                  Tags_switched off  1.14\n",
       "6                                           Tags_Busy  1.13\n",
       "7                                   Tags_Lost to EINS  1.10\n",
       "4                         Last Activity_Email Bounced  1.07"
      ]
     },
     "execution_count": 130,
     "metadata": {},
     "output_type": "execute_result"
    }
   ],
   "source": [
    "# Create a dataframe that will contain the names of all the feature variables and their respective VIFs\n",
    "vif = pd.DataFrame()\n",
    "vif['Features'] = X_train[col].columns\n",
    "vif['VIF'] = [variance_inflation_factor(X_train[col].values, i) for i in range(X_train[col].shape[1])]\n",
    "vif['VIF'] = round(vif['VIF'], 2)\n",
    "vif = vif.sort_values(by = \"VIF\", ascending = False)\n",
    "vif"
   ]
  },
  {
   "cell_type": "markdown",
   "id": "cb00835f",
   "metadata": {},
   "source": [
    "So the Values all seem to be in order so now, Moving on to derive the Probabilities, Lead Score, Predictions on Train Data:"
   ]
  },
  {
   "cell_type": "code",
   "execution_count": 131,
   "id": "b55a4823",
   "metadata": {},
   "outputs": [
    {
     "data": {
      "text/plain": [
       "5423    0.979946\n",
       "8220    0.962527\n",
       "7643    0.005158\n",
       "1313    0.626078\n",
       "3840    0.953463\n",
       "5384    0.067547\n",
       "6281    0.389108\n",
       "8376    0.306727\n",
       "1930    0.712410\n",
       "4107    0.040547\n",
       "dtype: float64"
      ]
     },
     "execution_count": 131,
     "metadata": {},
     "output_type": "execute_result"
    }
   ],
   "source": [
    "# Getting the Predicted values on the train set\n",
    "y_train_pred=res.predict(X_train_sm)\n",
    "y_train_pred[:10]"
   ]
  },
  {
   "cell_type": "code",
   "execution_count": 132,
   "id": "673a4abd",
   "metadata": {},
   "outputs": [
    {
     "data": {
      "text/plain": [
       "array([0.979946  , 0.96252669, 0.00515752, ..., 0.64507724, 0.93675138,\n",
       "       0.01371506])"
      ]
     },
     "execution_count": 132,
     "metadata": {},
     "output_type": "execute_result"
    }
   ],
   "source": [
    "y_train_pred=y_train_pred.values.reshape(-1)\n",
    "y_train_pred"
   ]
  },
  {
   "cell_type": "code",
   "execution_count": 134,
   "id": "3a86b775",
   "metadata": {},
   "outputs": [],
   "source": [
    "y_train_pred_Final=pd.DataFrame({'Converted':y_train.values,\"Converted_Prob\":y_train_pred})\n",
    "y_train_pred_Final[\"Prospect ID\"]=y_train.index"
   ]
  },
  {
   "cell_type": "code",
   "execution_count": 135,
   "id": "a3e246c2",
   "metadata": {},
   "outputs": [
    {
     "data": {
      "text/html": [
       "<div>\n",
       "<style scoped>\n",
       "    .dataframe tbody tr th:only-of-type {\n",
       "        vertical-align: middle;\n",
       "    }\n",
       "\n",
       "    .dataframe tbody tr th {\n",
       "        vertical-align: top;\n",
       "    }\n",
       "\n",
       "    .dataframe thead th {\n",
       "        text-align: right;\n",
       "    }\n",
       "</style>\n",
       "<table border=\"1\" class=\"dataframe\">\n",
       "  <thead>\n",
       "    <tr style=\"text-align: right;\">\n",
       "      <th></th>\n",
       "      <th>Converted</th>\n",
       "      <th>Converted_Prob</th>\n",
       "      <th>Prospect ID</th>\n",
       "    </tr>\n",
       "  </thead>\n",
       "  <tbody>\n",
       "    <tr>\n",
       "      <th>0</th>\n",
       "      <td>1</td>\n",
       "      <td>0.979946</td>\n",
       "      <td>5423</td>\n",
       "    </tr>\n",
       "    <tr>\n",
       "      <th>1</th>\n",
       "      <td>1</td>\n",
       "      <td>0.962527</td>\n",
       "      <td>8220</td>\n",
       "    </tr>\n",
       "    <tr>\n",
       "      <th>2</th>\n",
       "      <td>0</td>\n",
       "      <td>0.005158</td>\n",
       "      <td>7643</td>\n",
       "    </tr>\n",
       "    <tr>\n",
       "      <th>3</th>\n",
       "      <td>1</td>\n",
       "      <td>0.626078</td>\n",
       "      <td>1313</td>\n",
       "    </tr>\n",
       "    <tr>\n",
       "      <th>4</th>\n",
       "      <td>1</td>\n",
       "      <td>0.953463</td>\n",
       "      <td>3840</td>\n",
       "    </tr>\n",
       "  </tbody>\n",
       "</table>\n",
       "</div>"
      ],
      "text/plain": [
       "   Converted  Converted_Prob  Prospect ID\n",
       "0          1        0.979946         5423\n",
       "1          1        0.962527         8220\n",
       "2          0        0.005158         7643\n",
       "3          1        0.626078         1313\n",
       "4          1        0.953463         3840"
      ]
     },
     "execution_count": 135,
     "metadata": {},
     "output_type": "execute_result"
    }
   ],
   "source": [
    "y_train_pred_Final.head()"
   ]
  },
  {
   "cell_type": "code",
   "execution_count": 136,
   "id": "8c3f4230",
   "metadata": {},
   "outputs": [],
   "source": [
    "y_train_pred_Final[\"Predicted\"]=y_train_pred_Final[\"Converted_Prob\"].map(lambda x: 1 if x>0.5 else 0)"
   ]
  },
  {
   "cell_type": "code",
   "execution_count": 137,
   "id": "4d09dca9",
   "metadata": {},
   "outputs": [
    {
     "data": {
      "text/html": [
       "<div>\n",
       "<style scoped>\n",
       "    .dataframe tbody tr th:only-of-type {\n",
       "        vertical-align: middle;\n",
       "    }\n",
       "\n",
       "    .dataframe tbody tr th {\n",
       "        vertical-align: top;\n",
       "    }\n",
       "\n",
       "    .dataframe thead th {\n",
       "        text-align: right;\n",
       "    }\n",
       "</style>\n",
       "<table border=\"1\" class=\"dataframe\">\n",
       "  <thead>\n",
       "    <tr style=\"text-align: right;\">\n",
       "      <th></th>\n",
       "      <th>Converted</th>\n",
       "      <th>Converted_Prob</th>\n",
       "      <th>Prospect ID</th>\n",
       "      <th>Predicted</th>\n",
       "    </tr>\n",
       "  </thead>\n",
       "  <tbody>\n",
       "    <tr>\n",
       "      <th>0</th>\n",
       "      <td>1</td>\n",
       "      <td>0.979946</td>\n",
       "      <td>5423</td>\n",
       "      <td>1</td>\n",
       "    </tr>\n",
       "    <tr>\n",
       "      <th>1</th>\n",
       "      <td>1</td>\n",
       "      <td>0.962527</td>\n",
       "      <td>8220</td>\n",
       "      <td>1</td>\n",
       "    </tr>\n",
       "    <tr>\n",
       "      <th>2</th>\n",
       "      <td>0</td>\n",
       "      <td>0.005158</td>\n",
       "      <td>7643</td>\n",
       "      <td>0</td>\n",
       "    </tr>\n",
       "    <tr>\n",
       "      <th>3</th>\n",
       "      <td>1</td>\n",
       "      <td>0.626078</td>\n",
       "      <td>1313</td>\n",
       "      <td>1</td>\n",
       "    </tr>\n",
       "    <tr>\n",
       "      <th>4</th>\n",
       "      <td>1</td>\n",
       "      <td>0.953463</td>\n",
       "      <td>3840</td>\n",
       "      <td>1</td>\n",
       "    </tr>\n",
       "  </tbody>\n",
       "</table>\n",
       "</div>"
      ],
      "text/plain": [
       "   Converted  Converted_Prob  Prospect ID  Predicted\n",
       "0          1        0.979946         5423          1\n",
       "1          1        0.962527         8220          1\n",
       "2          0        0.005158         7643          0\n",
       "3          1        0.626078         1313          1\n",
       "4          1        0.953463         3840          1"
      ]
     },
     "execution_count": 137,
     "metadata": {},
     "output_type": "execute_result"
    }
   ],
   "source": [
    "y_train_pred_Final.head()"
   ]
  },
  {
   "cell_type": "code",
   "execution_count": 153,
   "id": "35a40938",
   "metadata": {},
   "outputs": [
    {
     "data": {
      "text/plain": [
       "array([[3550,  310],\n",
       "       [ 465, 1921]], dtype=int64)"
      ]
     },
     "execution_count": 153,
     "metadata": {},
     "output_type": "execute_result"
    }
   ],
   "source": [
    "from sklearn.metrics import confusion_matrix\n",
    "from sklearn.metrics import accuracy_score\n",
    "from sklearn.metrics import precision_score\n",
    "from sklearn.metrics import recall_score\n",
    "from sklearn.metrics import roc_curve\n",
    "from sklearn.metrics import roc_auc_score\n",
    "\n",
    "# Checking confusion metrix\n",
    "\n",
    "confusion_matrix=confusion_matrix(y_train_pred_Final.Converted,y_train_pred_Final.Predicted)\n",
    "confusion_matrix"
   ]
  },
  {
   "cell_type": "code",
   "execution_count": 139,
   "id": "d85a655e",
   "metadata": {},
   "outputs": [],
   "source": [
    "TP = confusion_matrix[1,1] # true positive \n",
    "TN = confusion_matrix[0,0] # true negatives\n",
    "FP = confusion_matrix[0,1] # false positives\n",
    "FN = confusion_matrix[1,0] # false negatives"
   ]
  },
  {
   "cell_type": "code",
   "execution_count": 140,
   "id": "fd793da6",
   "metadata": {},
   "outputs": [
    {
     "name": "stdout",
     "output_type": "stream",
     "text": [
      "0.8759205891770733\n"
     ]
    }
   ],
   "source": [
    "# Let's check the overall accuracy.\n",
    "print(accuracy_score(y_train_pred_Final.Converted, y_train_pred_Final.Predicted))"
   ]
  },
  {
   "cell_type": "code",
   "execution_count": 141,
   "id": "00fb2ad1",
   "metadata": {},
   "outputs": [
    {
     "data": {
      "text/plain": [
       "0.8051131601005868"
      ]
     },
     "execution_count": 141,
     "metadata": {},
     "output_type": "execute_result"
    }
   ],
   "source": [
    "# Let's see the sensitivity of our logistic regression model\n",
    "TP / float(TP+FN)"
   ]
  },
  {
   "cell_type": "code",
   "execution_count": 142,
   "id": "3bee42e3",
   "metadata": {},
   "outputs": [
    {
     "data": {
      "text/plain": [
       "0.9196891191709845"
      ]
     },
     "execution_count": 142,
     "metadata": {},
     "output_type": "execute_result"
    }
   ],
   "source": [
    "# Let us calculate specificity\n",
    "TN / float(TN+FP)"
   ]
  },
  {
   "cell_type": "code",
   "execution_count": 143,
   "id": "04ff150a",
   "metadata": {},
   "outputs": [
    {
     "name": "stdout",
     "output_type": "stream",
     "text": [
      "0.08031088082901554\n"
     ]
    }
   ],
   "source": [
    "# Calculate False Postive Rate - predicting conversion when customer does not have convert\n",
    "print(FP/ float(TN+FP))"
   ]
  },
  {
   "cell_type": "code",
   "execution_count": 144,
   "id": "f3b6cf2f",
   "metadata": {},
   "outputs": [
    {
     "name": "stdout",
     "output_type": "stream",
     "text": [
      "0.8610488570147916\n"
     ]
    }
   ],
   "source": [
    "# positive predictive value \n",
    "print (TP / float(TP+FP))"
   ]
  },
  {
   "cell_type": "code",
   "execution_count": 145,
   "id": "103f7b0c",
   "metadata": {},
   "outputs": [
    {
     "name": "stdout",
     "output_type": "stream",
     "text": [
      "0.8841843088418431\n"
     ]
    }
   ],
   "source": [
    "# Negative predictive value\n",
    "print (TN / float(TN+ FN))"
   ]
  },
  {
   "cell_type": "markdown",
   "id": "15543880",
   "metadata": {},
   "source": [
    "### PLOTTING ROC CURVE\n",
    "<hr/>\n",
    "An ROC curve demonstrates several things:\n",
    "\n",
    "- It shows the tradeoff between sensitivity and specificity (any increase in sensitivity will be accompanied by a decrease in specificity).\n",
    "- The closer the curve follows the left-hand border and then the top border of the ROC space, the more accurate the test.\n",
    "- The closer the curve comes to the 45-degree diagonal of the ROC space, the less accurate the test."
   ]
  },
  {
   "cell_type": "code",
   "execution_count": 147,
   "id": "a5851932",
   "metadata": {},
   "outputs": [],
   "source": [
    "def draw_roc( actual, probs ):\n",
    "    fpr, tpr, thresholds = roc_curve( actual, probs,\n",
    "                                              drop_intermediate = False )\n",
    "    auc_score = roc_auc_score( actual, probs )\n",
    "    plt.figure(figsize=(5, 5))\n",
    "    plt.plot( fpr, tpr, label='ROC curve (area = %0.2f)' % auc_score )\n",
    "    plt.plot([0, 1], [0, 1], 'k--')\n",
    "    plt.xlim([0.0, 1.0])\n",
    "    plt.ylim([0.0, 1.05])\n",
    "    plt.xlabel('False Positive Rate or [1 - True Negative Rate]')\n",
    "    plt.ylabel('True Positive Rate')\n",
    "    plt.title('Receiver operating characteristic example')\n",
    "    plt.legend(loc=\"lower right\")\n",
    "    plt.show()\n",
    "\n",
    "    return None"
   ]
  },
  {
   "cell_type": "code",
   "execution_count": 150,
   "id": "f483d4db",
   "metadata": {},
   "outputs": [],
   "source": [
    "fpr, tpr, thresholds = roc_curve( y_train_pred_Final.Converted,\n",
    "                                         y_train_pred_Final.Converted_Prob, drop_intermediate = False )"
   ]
  },
  {
   "cell_type": "code",
   "execution_count": 154,
   "id": "6aca787c",
   "metadata": {},
   "outputs": [
    {
     "data": {
      "image/png": "[encoded data removed]",
      "text/plain": [
       "<Figure size 500x500 with 1 Axes>"
      ]
     },
     "metadata": {},
     "output_type": "display_data"
    }
   ],
   "source": [
    "draw_roc(y_train_pred_Final.Converted, y_train_pred_Final.Converted_Prob)"
   ]
  },
  {
   "cell_type": "markdown",
   "id": "dd085c3f",
   "metadata": {},
   "source": [
    "- The ROC Curve should be a value close to 1. \n",
    "- We are getting a good value of 0.93 indicating a good predictive model."
   ]
  },
  {
   "cell_type": "markdown",
   "id": "8c2d9653",
   "metadata": {},
   "source": [
    "### Finding Optimal Cutoff Point"
   ]
  },
  {
   "cell_type": "markdown",
   "id": "a9be38b8",
   "metadata": {},
   "source": [
    "Above we had chosen an arbitrary cut-off value of 0.5. \n",
    "We need to determine the best cut-off value and the below section deals with that."
   ]
  },
  {
   "cell_type": "code",
   "execution_count": 157,
   "id": "71a79a35",
   "metadata": {},
   "outputs": [
    {
     "data": {
      "text/html": [
       "<div>\n",
       "<style scoped>\n",
       "    .dataframe tbody tr th:only-of-type {\n",
       "        vertical-align: middle;\n",
       "    }\n",
       "\n",
       "    .dataframe tbody tr th {\n",
       "        vertical-align: top;\n",
       "    }\n",
       "\n",
       "    .dataframe thead th {\n",
       "        text-align: right;\n",
       "    }\n",
       "</style>\n",
       "<table border=\"1\" class=\"dataframe\">\n",
       "  <thead>\n",
       "    <tr style=\"text-align: right;\">\n",
       "      <th></th>\n",
       "      <th>Converted</th>\n",
       "      <th>Converted_Prob</th>\n",
       "      <th>Prospect ID</th>\n",
       "      <th>Predicted</th>\n",
       "      <th>0.0</th>\n",
       "      <th>0.1</th>\n",
       "      <th>0.2</th>\n",
       "      <th>0.3</th>\n",
       "      <th>0.4</th>\n",
       "      <th>0.5</th>\n",
       "      <th>0.6</th>\n",
       "      <th>0.7</th>\n",
       "      <th>0.8</th>\n",
       "      <th>0.9</th>\n",
       "    </tr>\n",
       "  </thead>\n",
       "  <tbody>\n",
       "    <tr>\n",
       "      <th>0</th>\n",
       "      <td>1</td>\n",
       "      <td>0.979946</td>\n",
       "      <td>5423</td>\n",
       "      <td>1</td>\n",
       "      <td>1</td>\n",
       "      <td>1</td>\n",
       "      <td>1</td>\n",
       "      <td>1</td>\n",
       "      <td>1</td>\n",
       "      <td>1</td>\n",
       "      <td>1</td>\n",
       "      <td>1</td>\n",
       "      <td>1</td>\n",
       "      <td>1</td>\n",
       "    </tr>\n",
       "    <tr>\n",
       "      <th>1</th>\n",
       "      <td>1</td>\n",
       "      <td>0.962527</td>\n",
       "      <td>8220</td>\n",
       "      <td>1</td>\n",
       "      <td>1</td>\n",
       "      <td>1</td>\n",
       "      <td>1</td>\n",
       "      <td>1</td>\n",
       "      <td>1</td>\n",
       "      <td>1</td>\n",
       "      <td>1</td>\n",
       "      <td>1</td>\n",
       "      <td>1</td>\n",
       "      <td>1</td>\n",
       "    </tr>\n",
       "    <tr>\n",
       "      <th>2</th>\n",
       "      <td>0</td>\n",
       "      <td>0.005158</td>\n",
       "      <td>7643</td>\n",
       "      <td>0</td>\n",
       "      <td>1</td>\n",
       "      <td>0</td>\n",
       "      <td>0</td>\n",
       "      <td>0</td>\n",
       "      <td>0</td>\n",
       "      <td>0</td>\n",
       "      <td>0</td>\n",
       "      <td>0</td>\n",
       "      <td>0</td>\n",
       "      <td>0</td>\n",
       "    </tr>\n",
       "    <tr>\n",
       "      <th>3</th>\n",
       "      <td>1</td>\n",
       "      <td>0.626078</td>\n",
       "      <td>1313</td>\n",
       "      <td>1</td>\n",
       "      <td>1</td>\n",
       "      <td>1</td>\n",
       "      <td>1</td>\n",
       "      <td>1</td>\n",
       "      <td>1</td>\n",
       "      <td>1</td>\n",
       "      <td>1</td>\n",
       "      <td>0</td>\n",
       "      <td>0</td>\n",
       "      <td>0</td>\n",
       "    </tr>\n",
       "    <tr>\n",
       "      <th>4</th>\n",
       "      <td>1</td>\n",
       "      <td>0.953463</td>\n",
       "      <td>3840</td>\n",
       "      <td>1</td>\n",
       "      <td>1</td>\n",
       "      <td>1</td>\n",
       "      <td>1</td>\n",
       "      <td>1</td>\n",
       "      <td>1</td>\n",
       "      <td>1</td>\n",
       "      <td>1</td>\n",
       "      <td>1</td>\n",
       "      <td>1</td>\n",
       "      <td>1</td>\n",
       "    </tr>\n",
       "  </tbody>\n",
       "</table>\n",
       "</div>"
      ],
      "text/plain": [
       "   Converted  Converted_Prob  Prospect ID  Predicted  0.0  0.1  0.2  0.3  0.4  \\\n",
       "0          1        0.979946         5423          1    1    1    1    1    1   \n",
       "1          1        0.962527         8220          1    1    1    1    1    1   \n",
       "2          0        0.005158         7643          0    1    0    0    0    0   \n",
       "3          1        0.626078         1313          1    1    1    1    1    1   \n",
       "4          1        0.953463         3840          1    1    1    1    1    1   \n",
       "\n",
       "   0.5  0.6  0.7  0.8  0.9  \n",
       "0    1    1    1    1    1  \n",
       "1    1    1    1    1    1  \n",
       "2    0    0    0    0    0  \n",
       "3    1    1    0    0    0  \n",
       "4    1    1    1    1    1  "
      ]
     },
     "execution_count": 157,
     "metadata": {},
     "output_type": "execute_result"
    }
   ],
   "source": [
    "# Let's create columns with different probability cutoffs \n",
    "numbers = [float(x)/10 for x in range(10)]\n",
    "for i in numbers:\n",
    "    y_train_pred_Final[i]= y_train_pred_Final.Converted_Prob.map(lambda x: 1 if x > i else 0)\n",
    "y_train_pred_Final.head()"
   ]
  },
  {
   "cell_type": "code",
   "execution_count": 160,
   "id": "6f83b4ce",
   "metadata": {},
   "outputs": [
    {
     "name": "stdout",
     "output_type": "stream",
     "text": [
      "     prob  accuracy     sensi     speci\n",
      "0.0   0.0  0.382004  1.000000  0.000000\n",
      "0.1   0.1  0.722703  0.967309  0.571503\n",
      "0.2   0.2  0.779859  0.900251  0.705440\n",
      "0.3   0.3  0.850464  0.856664  0.846632\n",
      "0.4   0.4  0.873679  0.832775  0.898964\n",
      "0.5   0.5  0.875921  0.805113  0.919689\n",
      "0.6   0.6  0.868716  0.764878  0.932902\n",
      "0.7   0.7  0.840378  0.648785  0.958808\n",
      "0.8   0.8  0.808678  0.529757  0.981088\n",
      "0.9   0.9  0.784822  0.451802  0.990674\n"
     ]
    }
   ],
   "source": [
    "# Now let's calculate accuracy sensitivity and specificity for various probability cutoffs.\n",
    "cutoff_df = pd.DataFrame( columns = ['prob','accuracy','sensi','speci'])\n",
    "from sklearn.metrics import confusion_matrix\n",
    "from sklearn import metrics\n",
    "\n",
    "# TP = confusion[1,1] # true positive \n",
    "# TN = confusion[0,0] # true negatives\n",
    "# FP = confusion[0,1] # false positives\n",
    "# FN = confusion[1,0] # false negatives\n",
    "\n",
    "num = [0.0,0.1,0.2,0.3,0.4,0.5,0.6,0.7,0.8,0.9]\n",
    "for i in num:\n",
    "    cm1 = metrics.confusion_matrix(y_train_pred_Final.Converted, y_train_pred_Final[i] )\n",
    "    total1=sum(sum(cm1))\n",
    "    accuracy = (cm1[0,0]+cm1[1,1])/total1\n",
    "    \n",
    "    speci = cm1[0,0]/(cm1[0,0]+cm1[0,1])\n",
    "    sensi = cm1[1,1]/(cm1[1,0]+cm1[1,1])\n",
    "    cutoff_df.loc[i] =[ i ,accuracy,sensi,speci]\n",
    "print(cutoff_df)"
   ]
  },
  {
   "cell_type": "code",
   "execution_count": 161,
   "id": "0bd16795",
   "metadata": {},
   "outputs": [
    {
     "data": {
      "image/png": "[encoded data removed]",
      "text/plain": [
       "<Figure size 640x480 with 1 Axes>"
      ]
     },
     "metadata": {},
     "output_type": "display_data"
    }
   ],
   "source": [
    "# Let's plot accuracy sensitivity and specificity for various probabilities.\n",
    "cutoff_df.plot.line(x='prob', y=['accuracy','sensi','speci'])\n",
    "plt.show()"
   ]
  },
  {
   "cell_type": "code",
   "execution_count": 169,
   "id": "181fc1b7",
   "metadata": {},
   "outputs": [
    {
     "data": {
      "text/html": [
       "<div>\n",
       "<style scoped>\n",
       "    .dataframe tbody tr th:only-of-type {\n",
       "        vertical-align: middle;\n",
       "    }\n",
       "\n",
       "    .dataframe tbody tr th {\n",
       "        vertical-align: top;\n",
       "    }\n",
       "\n",
       "    .dataframe thead th {\n",
       "        text-align: right;\n",
       "    }\n",
       "</style>\n",
       "<table border=\"1\" class=\"dataframe\">\n",
       "  <thead>\n",
       "    <tr style=\"text-align: right;\">\n",
       "      <th></th>\n",
       "      <th>Converted</th>\n",
       "      <th>Converted_Prob</th>\n",
       "      <th>Prospect ID</th>\n",
       "      <th>Predicted</th>\n",
       "      <th>0.0</th>\n",
       "      <th>0.1</th>\n",
       "      <th>0.2</th>\n",
       "      <th>0.3</th>\n",
       "      <th>0.4</th>\n",
       "      <th>0.5</th>\n",
       "      <th>0.6</th>\n",
       "      <th>0.7</th>\n",
       "      <th>0.8</th>\n",
       "      <th>0.9</th>\n",
       "      <th>final_Predicted</th>\n",
       "      <th>Lead_Score</th>\n",
       "      <th>Final_Predicted</th>\n",
       "    </tr>\n",
       "  </thead>\n",
       "  <tbody>\n",
       "    <tr>\n",
       "      <th>0</th>\n",
       "      <td>1</td>\n",
       "      <td>0.979946</td>\n",
       "      <td>5423</td>\n",
       "      <td>1</td>\n",
       "      <td>1</td>\n",
       "      <td>1</td>\n",
       "      <td>1</td>\n",
       "      <td>1</td>\n",
       "      <td>1</td>\n",
       "      <td>1</td>\n",
       "      <td>1</td>\n",
       "      <td>1</td>\n",
       "      <td>1</td>\n",
       "      <td>1</td>\n",
       "      <td>1</td>\n",
       "      <td>98</td>\n",
       "      <td>1</td>\n",
       "    </tr>\n",
       "    <tr>\n",
       "      <th>1</th>\n",
       "      <td>1</td>\n",
       "      <td>0.962527</td>\n",
       "      <td>8220</td>\n",
       "      <td>1</td>\n",
       "      <td>1</td>\n",
       "      <td>1</td>\n",
       "      <td>1</td>\n",
       "      <td>1</td>\n",
       "      <td>1</td>\n",
       "      <td>1</td>\n",
       "      <td>1</td>\n",
       "      <td>1</td>\n",
       "      <td>1</td>\n",
       "      <td>1</td>\n",
       "      <td>1</td>\n",
       "      <td>96</td>\n",
       "      <td>1</td>\n",
       "    </tr>\n",
       "    <tr>\n",
       "      <th>2</th>\n",
       "      <td>0</td>\n",
       "      <td>0.005158</td>\n",
       "      <td>7643</td>\n",
       "      <td>0</td>\n",
       "      <td>1</td>\n",
       "      <td>0</td>\n",
       "      <td>0</td>\n",
       "      <td>0</td>\n",
       "      <td>0</td>\n",
       "      <td>0</td>\n",
       "      <td>0</td>\n",
       "      <td>0</td>\n",
       "      <td>0</td>\n",
       "      <td>0</td>\n",
       "      <td>0</td>\n",
       "      <td>1</td>\n",
       "      <td>0</td>\n",
       "    </tr>\n",
       "    <tr>\n",
       "      <th>3</th>\n",
       "      <td>1</td>\n",
       "      <td>0.626078</td>\n",
       "      <td>1313</td>\n",
       "      <td>1</td>\n",
       "      <td>1</td>\n",
       "      <td>1</td>\n",
       "      <td>1</td>\n",
       "      <td>1</td>\n",
       "      <td>1</td>\n",
       "      <td>1</td>\n",
       "      <td>1</td>\n",
       "      <td>0</td>\n",
       "      <td>0</td>\n",
       "      <td>0</td>\n",
       "      <td>1</td>\n",
       "      <td>63</td>\n",
       "      <td>1</td>\n",
       "    </tr>\n",
       "    <tr>\n",
       "      <th>4</th>\n",
       "      <td>1</td>\n",
       "      <td>0.953463</td>\n",
       "      <td>3840</td>\n",
       "      <td>1</td>\n",
       "      <td>1</td>\n",
       "      <td>1</td>\n",
       "      <td>1</td>\n",
       "      <td>1</td>\n",
       "      <td>1</td>\n",
       "      <td>1</td>\n",
       "      <td>1</td>\n",
       "      <td>1</td>\n",
       "      <td>1</td>\n",
       "      <td>1</td>\n",
       "      <td>1</td>\n",
       "      <td>95</td>\n",
       "      <td>1</td>\n",
       "    </tr>\n",
       "  </tbody>\n",
       "</table>\n",
       "</div>"
      ],
      "text/plain": [
       "   Converted  Converted_Prob  Prospect ID  Predicted  0.0  0.1  0.2  0.3  0.4  \\\n",
       "0          1        0.979946         5423          1    1    1    1    1    1   \n",
       "1          1        0.962527         8220          1    1    1    1    1    1   \n",
       "2          0        0.005158         7643          0    1    0    0    0    0   \n",
       "3          1        0.626078         1313          1    1    1    1    1    1   \n",
       "4          1        0.953463         3840          1    1    1    1    1    1   \n",
       "\n",
       "   0.5  0.6  0.7  0.8  0.9  final_Predicted  Lead_Score  Final_Predicted  \n",
       "0    1    1    1    1    1                1          98                1  \n",
       "1    1    1    1    1    1                1          96                1  \n",
       "2    0    0    0    0    0                0           1                0  \n",
       "3    1    1    0    0    0                1          63                1  \n",
       "4    1    1    1    1    1                1          95                1  "
      ]
     },
     "execution_count": 169,
     "metadata": {},
     "output_type": "execute_result"
    }
   ],
   "source": [
    "#### From the curve above, 0.3 is the optimum point to take it as a cutoff probability.\n",
    "\n",
    "y_train_pred_Final['Final_Predicted'] = y_train_pred_Final.Converted_Prob.map( lambda x: 1 if x > 0.3 else 0)\n",
    "\n",
    "y_train_pred_Final.head()"
   ]
  },
  {
   "cell_type": "code",
   "execution_count": 170,
   "id": "27b92068",
   "metadata": {},
   "outputs": [
    {
     "data": {
      "text/html": [
       "<div>\n",
       "<style scoped>\n",
       "    .dataframe tbody tr th:only-of-type {\n",
       "        vertical-align: middle;\n",
       "    }\n",
       "\n",
       "    .dataframe tbody tr th {\n",
       "        vertical-align: top;\n",
       "    }\n",
       "\n",
       "    .dataframe thead th {\n",
       "        text-align: right;\n",
       "    }\n",
       "</style>\n",
       "<table border=\"1\" class=\"dataframe\">\n",
       "  <thead>\n",
       "    <tr style=\"text-align: right;\">\n",
       "      <th></th>\n",
       "      <th>Converted</th>\n",
       "      <th>Converted_Prob</th>\n",
       "      <th>Prospect ID</th>\n",
       "      <th>Final_Predicted</th>\n",
       "      <th>Lead_Score</th>\n",
       "    </tr>\n",
       "  </thead>\n",
       "  <tbody>\n",
       "    <tr>\n",
       "      <th>0</th>\n",
       "      <td>1</td>\n",
       "      <td>0.979946</td>\n",
       "      <td>5423</td>\n",
       "      <td>1</td>\n",
       "      <td>98</td>\n",
       "    </tr>\n",
       "    <tr>\n",
       "      <th>1</th>\n",
       "      <td>1</td>\n",
       "      <td>0.962527</td>\n",
       "      <td>8220</td>\n",
       "      <td>1</td>\n",
       "      <td>96</td>\n",
       "    </tr>\n",
       "    <tr>\n",
       "      <th>2</th>\n",
       "      <td>0</td>\n",
       "      <td>0.005158</td>\n",
       "      <td>7643</td>\n",
       "      <td>0</td>\n",
       "      <td>1</td>\n",
       "    </tr>\n",
       "    <tr>\n",
       "      <th>3</th>\n",
       "      <td>1</td>\n",
       "      <td>0.626078</td>\n",
       "      <td>1313</td>\n",
       "      <td>1</td>\n",
       "      <td>63</td>\n",
       "    </tr>\n",
       "    <tr>\n",
       "      <th>4</th>\n",
       "      <td>1</td>\n",
       "      <td>0.953463</td>\n",
       "      <td>3840</td>\n",
       "      <td>1</td>\n",
       "      <td>95</td>\n",
       "    </tr>\n",
       "  </tbody>\n",
       "</table>\n",
       "</div>"
      ],
      "text/plain": [
       "   Converted  Converted_Prob  Prospect ID  Final_Predicted  Lead_Score\n",
       "0          1        0.979946         5423                1          98\n",
       "1          1        0.962527         8220                1          96\n",
       "2          0        0.005158         7643                0           1\n",
       "3          1        0.626078         1313                1          63\n",
       "4          1        0.953463         3840                1          95"
      ]
     },
     "execution_count": 170,
     "metadata": {},
     "output_type": "execute_result"
    }
   ],
   "source": [
    "y_train_pred_Final['Lead_Score'] = y_train_pred_Final.Converted_Prob.map(lambda x: round(x*100))\n",
    "\n",
    "y_train_pred_Final[['Converted','Converted_Prob','Prospect ID','Final_Predicted','Lead_Score']].head()"
   ]
  },
  {
   "cell_type": "code",
   "execution_count": 171,
   "id": "e5c07d9a",
   "metadata": {},
   "outputs": [
    {
     "data": {
      "text/plain": [
       "0.8504642971501761"
      ]
     },
     "execution_count": 171,
     "metadata": {},
     "output_type": "execute_result"
    }
   ],
   "source": [
    "# Let's check the overall accuracy.\n",
    "metrics.accuracy_score(y_train_pred_Final.Converted, y_train_pred_Final.Final_Predicted)"
   ]
  },
  {
   "cell_type": "code",
   "execution_count": 172,
   "id": "f1a6409e",
   "metadata": {},
   "outputs": [
    {
     "data": {
      "text/plain": [
       "array([[3268,  592],\n",
       "       [ 342, 2044]], dtype=int64)"
      ]
     },
     "execution_count": 172,
     "metadata": {},
     "output_type": "execute_result"
    }
   ],
   "source": [
    "confusion2 = metrics.confusion_matrix(y_train_pred_Final.Converted, y_train_pred_Final.Final_Predicted )\n",
    "confusion2"
   ]
  },
  {
   "cell_type": "code",
   "execution_count": 173,
   "id": "7ab3140a",
   "metadata": {},
   "outputs": [],
   "source": [
    "TP = confusion2[1,1] # true positive \n",
    "TN = confusion2[0,0] # true negatives\n",
    "FP = confusion2[0,1] # false positives\n",
    "FN = confusion2[1,0] # false negatives"
   ]
  },
  {
   "cell_type": "code",
   "execution_count": 174,
   "id": "bdcf5818",
   "metadata": {},
   "outputs": [
    {
     "data": {
      "text/plain": [
       "0.856663872590109"
      ]
     },
     "execution_count": 174,
     "metadata": {},
     "output_type": "execute_result"
    }
   ],
   "source": [
    "# Let's see the sensitivity of our logistic regression model\n",
    "TP / float(TP+FN)"
   ]
  },
  {
   "cell_type": "code",
   "execution_count": 175,
   "id": "72c4940b",
   "metadata": {},
   "outputs": [
    {
     "data": {
      "text/plain": [
       "0.8466321243523316"
      ]
     },
     "execution_count": 175,
     "metadata": {},
     "output_type": "execute_result"
    }
   ],
   "source": [
    "# Let us calculate specificity\n",
    "TN / float(TN+FP)"
   ]
  },
  {
   "cell_type": "markdown",
   "id": "9566a58c",
   "metadata": {},
   "source": [
    "### Observation:\n",
    "    - So as we can see above the model seems to be performing well.\n",
    "    - The ROC curve has a value of 0.93, which is very good. We have the following values for the Train Data:\n",
    "\n",
    "         Accuracy : 85.04%\n",
    "         Sensitivity : 85.66%\n",
    "         Specificity : 84.66%"
   ]
  },
  {
   "cell_type": "markdown",
   "id": "42cb0128",
   "metadata": {},
   "source": [
    "Some of the other Stats are derived below, indicating the False Positive Rate, Positive Predictive Value,Negative Predictive Values, Precision & Recall."
   ]
  },
  {
   "cell_type": "code",
   "execution_count": 176,
   "id": "35e6d8f1",
   "metadata": {},
   "outputs": [
    {
     "name": "stdout",
     "output_type": "stream",
     "text": [
      "0.1533678756476684\n"
     ]
    }
   ],
   "source": [
    "# Calculate False Postive Rate - predicting conversion when customer does not have convert\n",
    "print(FP/ float(TN+FP))"
   ]
  },
  {
   "cell_type": "code",
   "execution_count": 177,
   "id": "a60d62ce",
   "metadata": {},
   "outputs": [
    {
     "name": "stdout",
     "output_type": "stream",
     "text": [
      "0.7754172989377845\n"
     ]
    }
   ],
   "source": [
    "# Positive predictive value \n",
    "print (TP / float(TP+FP))"
   ]
  },
  {
   "cell_type": "code",
   "execution_count": 178,
   "id": "93765f1f",
   "metadata": {},
   "outputs": [
    {
     "name": "stdout",
     "output_type": "stream",
     "text": [
      "0.9052631578947369\n"
     ]
    }
   ],
   "source": [
    "# Negative predictive value\n",
    "print (TN / float(TN+ FN))"
   ]
  },
  {
   "cell_type": "code",
   "execution_count": 179,
   "id": "a9d5ff64",
   "metadata": {},
   "outputs": [
    {
     "data": {
      "text/plain": [
       "array([[3268,  592],\n",
       "       [ 342, 2044]], dtype=int64)"
      ]
     },
     "execution_count": 179,
     "metadata": {},
     "output_type": "execute_result"
    }
   ],
   "source": [
    "#Looking at the confusion matrix again\n",
    "\n",
    "confusion = metrics.confusion_matrix(y_train_pred_Final.Converted, y_train_pred_Final.Final_Predicted )\n",
    "confusion"
   ]
  },
  {
   "cell_type": "code",
   "execution_count": 180,
   "id": "b90730ac",
   "metadata": {},
   "outputs": [
    {
     "data": {
      "text/plain": [
       "0.7754172989377845"
      ]
     },
     "execution_count": 180,
     "metadata": {},
     "output_type": "execute_result"
    }
   ],
   "source": [
    "##### Precision\n",
    "TP / TP + FP\n",
    "\n",
    "confusion[1,1]/(confusion[0,1]+confusion[1,1])"
   ]
  },
  {
   "cell_type": "code",
   "execution_count": 181,
   "id": "bede534e",
   "metadata": {},
   "outputs": [
    {
     "data": {
      "text/plain": [
       "0.856663872590109"
      ]
     },
     "execution_count": 181,
     "metadata": {},
     "output_type": "execute_result"
    }
   ],
   "source": [
    "##### Recall\n",
    "TP / TP + FN\n",
    "\n",
    "confusion[1,1]/(confusion[1,0]+confusion[1,1])"
   ]
  },
  {
   "cell_type": "code",
   "execution_count": 182,
   "id": "4f97d389",
   "metadata": {},
   "outputs": [],
   "source": [
    "from sklearn.metrics import precision_score, recall_score"
   ]
  },
  {
   "cell_type": "code",
   "execution_count": 184,
   "id": "35c604df",
   "metadata": {},
   "outputs": [
    {
     "data": {
      "text/plain": [
       "0.7754172989377845"
      ]
     },
     "execution_count": 184,
     "metadata": {},
     "output_type": "execute_result"
    }
   ],
   "source": [
    "precision_score(y_train_pred_Final.Converted , y_train_pred_Final.Final_Predicted)"
   ]
  },
  {
   "cell_type": "code",
   "execution_count": 185,
   "id": "494b254a",
   "metadata": {},
   "outputs": [
    {
     "data": {
      "text/plain": [
       "0.856663872590109"
      ]
     },
     "execution_count": 185,
     "metadata": {},
     "output_type": "execute_result"
    }
   ],
   "source": [
    "recall_score(y_train_pred_Final.Converted, y_train_pred_Final.Final_Predicted)"
   ]
  },
  {
   "cell_type": "code",
   "execution_count": 186,
   "id": "9b1d973e",
   "metadata": {},
   "outputs": [],
   "source": [
    "from sklearn.metrics import precision_recall_curve"
   ]
  },
  {
   "cell_type": "code",
   "execution_count": 187,
   "id": "f71c0147",
   "metadata": {},
   "outputs": [],
   "source": [
    "y_train_pred_Final.Converted, y_train_pred_Final.Final_Predicted\n",
    "p, r, thresholds = precision_recall_curve(y_train_pred_Final.Converted, y_train_pred_Final.Converted_Prob)"
   ]
  },
  {
   "cell_type": "code",
   "execution_count": 188,
   "id": "ffd33ef0",
   "metadata": {},
   "outputs": [
    {
     "data": {
      "image/png": "[encoded data removed]",
      "text/plain": [
       "<Figure size 640x480 with 1 Axes>"
      ]
     },
     "metadata": {},
     "output_type": "display_data"
    }
   ],
   "source": [
    "plt.plot(thresholds, p[:-1], \"g-\")\n",
    "plt.plot(thresholds, r[:-1], \"r-\")\n",
    "plt.show()"
   ]
  },
  {
   "cell_type": "code",
   "execution_count": 189,
   "id": "90a32918",
   "metadata": {},
   "outputs": [
    {
     "data": {
      "text/html": [
       "<div>\n",
       "<style scoped>\n",
       "    .dataframe tbody tr th:only-of-type {\n",
       "        vertical-align: middle;\n",
       "    }\n",
       "\n",
       "    .dataframe tbody tr th {\n",
       "        vertical-align: top;\n",
       "    }\n",
       "\n",
       "    .dataframe thead th {\n",
       "        text-align: right;\n",
       "    }\n",
       "</style>\n",
       "<table border=\"1\" class=\"dataframe\">\n",
       "  <thead>\n",
       "    <tr style=\"text-align: right;\">\n",
       "      <th></th>\n",
       "      <th>Do Not Email</th>\n",
       "      <th>TotalVisits</th>\n",
       "      <th>Total Time Spent on Website</th>\n",
       "      <th>Page Views Per Visit</th>\n",
       "      <th>A free copy of Mastering The Interview</th>\n",
       "      <th>Lead Origin_Landing Page Submission</th>\n",
       "      <th>Lead Origin_Lead Add Form</th>\n",
       "      <th>Lead Origin_Lead Import</th>\n",
       "      <th>What is your current occupation_Housewife</th>\n",
       "      <th>What is your current occupation_Other</th>\n",
       "      <th>What is your current occupation_Student</th>\n",
       "      <th>What is your current occupation_Unemployed</th>\n",
       "      <th>What is your current occupation_Working Professional</th>\n",
       "      <th>City_Other Cities</th>\n",
       "      <th>City_Other Cities of Maharashtra</th>\n",
       "      <th>City_Other Metro Cities</th>\n",
       "      <th>City_Thane &amp; Outskirts</th>\n",
       "      <th>City_Tier II Cities</th>\n",
       "      <th>Specialization_Banking, Investment And Insurance</th>\n",
       "      <th>Specialization_Business Administration</th>\n",
       "      <th>Specialization_E_Commerce</th>\n",
       "      <th>...</th>\n",
       "      <th>Last Activity_SMS Sent</th>\n",
       "      <th>Last Activity_Unreachable</th>\n",
       "      <th>Last Activity_Unsubscribed</th>\n",
       "      <th>Tags_Already a student</th>\n",
       "      <th>Tags_Busy</th>\n",
       "      <th>Tags_Closed by Horizzon</th>\n",
       "      <th>Tags_Graduation in progress</th>\n",
       "      <th>Tags_Interested  in full time MBA</th>\n",
       "      <th>Tags_Interested in other courses</th>\n",
       "      <th>Tags_Lost to EINS</th>\n",
       "      <th>Tags_Not doing further education</th>\n",
       "      <th>Tags_Ringing</th>\n",
       "      <th>Tags_Will revert after reading the email</th>\n",
       "      <th>Tags_switched off</th>\n",
       "      <th>Last Notable Activity_Email Link Clicked</th>\n",
       "      <th>Last Notable Activity_Email Opened</th>\n",
       "      <th>Last Notable Activity_Email Received</th>\n",
       "      <th>Last Notable Activity_Modified</th>\n",
       "      <th>Last Notable Activity_Olark Chat Conversation</th>\n",
       "      <th>Last Notable Activity_Page Visited on Website</th>\n",
       "      <th>Last Notable Activity_SMS Sent</th>\n",
       "    </tr>\n",
       "  </thead>\n",
       "  <tbody>\n",
       "    <tr>\n",
       "      <th>6215</th>\n",
       "      <td>-0.283327</td>\n",
       "      <td>-0.419036</td>\n",
       "      <td>1.776642</td>\n",
       "      <td>-0.169035</td>\n",
       "      <td>1.441583</td>\n",
       "      <td>1</td>\n",
       "      <td>0</td>\n",
       "      <td>0</td>\n",
       "      <td>0</td>\n",
       "      <td>0</td>\n",
       "      <td>0</td>\n",
       "      <td>1</td>\n",
       "      <td>0</td>\n",
       "      <td>0</td>\n",
       "      <td>0</td>\n",
       "      <td>0</td>\n",
       "      <td>0</td>\n",
       "      <td>0</td>\n",
       "      <td>0</td>\n",
       "      <td>0</td>\n",
       "      <td>0</td>\n",
       "      <td>...</td>\n",
       "      <td>0</td>\n",
       "      <td>0</td>\n",
       "      <td>0</td>\n",
       "      <td>0</td>\n",
       "      <td>0</td>\n",
       "      <td>0</td>\n",
       "      <td>0</td>\n",
       "      <td>0</td>\n",
       "      <td>0</td>\n",
       "      <td>0</td>\n",
       "      <td>0</td>\n",
       "      <td>0</td>\n",
       "      <td>1</td>\n",
       "      <td>0</td>\n",
       "      <td>0</td>\n",
       "      <td>0</td>\n",
       "      <td>0</td>\n",
       "      <td>1</td>\n",
       "      <td>0</td>\n",
       "      <td>0</td>\n",
       "      <td>0</td>\n",
       "    </tr>\n",
       "    <tr>\n",
       "      <th>2086</th>\n",
       "      <td>-0.283327</td>\n",
       "      <td>-1.108335</td>\n",
       "      <td>-0.877905</td>\n",
       "      <td>-1.202090</td>\n",
       "      <td>-0.693682</td>\n",
       "      <td>0</td>\n",
       "      <td>0</td>\n",
       "      <td>0</td>\n",
       "      <td>0</td>\n",
       "      <td>0</td>\n",
       "      <td>0</td>\n",
       "      <td>1</td>\n",
       "      <td>0</td>\n",
       "      <td>0</td>\n",
       "      <td>0</td>\n",
       "      <td>0</td>\n",
       "      <td>0</td>\n",
       "      <td>0</td>\n",
       "      <td>0</td>\n",
       "      <td>0</td>\n",
       "      <td>0</td>\n",
       "      <td>...</td>\n",
       "      <td>1</td>\n",
       "      <td>0</td>\n",
       "      <td>0</td>\n",
       "      <td>0</td>\n",
       "      <td>0</td>\n",
       "      <td>0</td>\n",
       "      <td>0</td>\n",
       "      <td>0</td>\n",
       "      <td>0</td>\n",
       "      <td>0</td>\n",
       "      <td>0</td>\n",
       "      <td>0</td>\n",
       "      <td>1</td>\n",
       "      <td>0</td>\n",
       "      <td>0</td>\n",
       "      <td>0</td>\n",
       "      <td>0</td>\n",
       "      <td>0</td>\n",
       "      <td>0</td>\n",
       "      <td>0</td>\n",
       "      <td>1</td>\n",
       "    </tr>\n",
       "    <tr>\n",
       "      <th>3257</th>\n",
       "      <td>-0.283327</td>\n",
       "      <td>-0.074387</td>\n",
       "      <td>-0.646276</td>\n",
       "      <td>-0.427298</td>\n",
       "      <td>1.441583</td>\n",
       "      <td>1</td>\n",
       "      <td>0</td>\n",
       "      <td>0</td>\n",
       "      <td>0</td>\n",
       "      <td>0</td>\n",
       "      <td>0</td>\n",
       "      <td>1</td>\n",
       "      <td>0</td>\n",
       "      <td>0</td>\n",
       "      <td>1</td>\n",
       "      <td>0</td>\n",
       "      <td>0</td>\n",
       "      <td>0</td>\n",
       "      <td>0</td>\n",
       "      <td>0</td>\n",
       "      <td>0</td>\n",
       "      <td>...</td>\n",
       "      <td>0</td>\n",
       "      <td>0</td>\n",
       "      <td>0</td>\n",
       "      <td>0</td>\n",
       "      <td>0</td>\n",
       "      <td>0</td>\n",
       "      <td>0</td>\n",
       "      <td>0</td>\n",
       "      <td>0</td>\n",
       "      <td>0</td>\n",
       "      <td>0</td>\n",
       "      <td>0</td>\n",
       "      <td>1</td>\n",
       "      <td>0</td>\n",
       "      <td>0</td>\n",
       "      <td>1</td>\n",
       "      <td>0</td>\n",
       "      <td>0</td>\n",
       "      <td>0</td>\n",
       "      <td>0</td>\n",
       "      <td>0</td>\n",
       "    </tr>\n",
       "    <tr>\n",
       "      <th>1809</th>\n",
       "      <td>-0.283327</td>\n",
       "      <td>1.648861</td>\n",
       "      <td>1.309706</td>\n",
       "      <td>-0.169035</td>\n",
       "      <td>1.441583</td>\n",
       "      <td>1</td>\n",
       "      <td>0</td>\n",
       "      <td>0</td>\n",
       "      <td>0</td>\n",
       "      <td>0</td>\n",
       "      <td>0</td>\n",
       "      <td>1</td>\n",
       "      <td>0</td>\n",
       "      <td>1</td>\n",
       "      <td>0</td>\n",
       "      <td>0</td>\n",
       "      <td>0</td>\n",
       "      <td>0</td>\n",
       "      <td>0</td>\n",
       "      <td>0</td>\n",
       "      <td>0</td>\n",
       "      <td>...</td>\n",
       "      <td>0</td>\n",
       "      <td>0</td>\n",
       "      <td>0</td>\n",
       "      <td>0</td>\n",
       "      <td>0</td>\n",
       "      <td>1</td>\n",
       "      <td>0</td>\n",
       "      <td>0</td>\n",
       "      <td>0</td>\n",
       "      <td>0</td>\n",
       "      <td>0</td>\n",
       "      <td>0</td>\n",
       "      <td>0</td>\n",
       "      <td>0</td>\n",
       "      <td>0</td>\n",
       "      <td>0</td>\n",
       "      <td>0</td>\n",
       "      <td>0</td>\n",
       "      <td>0</td>\n",
       "      <td>1</td>\n",
       "      <td>0</td>\n",
       "    </tr>\n",
       "    <tr>\n",
       "      <th>3712</th>\n",
       "      <td>-0.283327</td>\n",
       "      <td>-0.419036</td>\n",
       "      <td>-0.127867</td>\n",
       "      <td>-0.169035</td>\n",
       "      <td>1.441583</td>\n",
       "      <td>1</td>\n",
       "      <td>0</td>\n",
       "      <td>0</td>\n",
       "      <td>0</td>\n",
       "      <td>0</td>\n",
       "      <td>0</td>\n",
       "      <td>1</td>\n",
       "      <td>0</td>\n",
       "      <td>0</td>\n",
       "      <td>0</td>\n",
       "      <td>0</td>\n",
       "      <td>0</td>\n",
       "      <td>0</td>\n",
       "      <td>0</td>\n",
       "      <td>0</td>\n",
       "      <td>0</td>\n",
       "      <td>...</td>\n",
       "      <td>0</td>\n",
       "      <td>0</td>\n",
       "      <td>0</td>\n",
       "      <td>0</td>\n",
       "      <td>0</td>\n",
       "      <td>0</td>\n",
       "      <td>0</td>\n",
       "      <td>0</td>\n",
       "      <td>0</td>\n",
       "      <td>0</td>\n",
       "      <td>0</td>\n",
       "      <td>0</td>\n",
       "      <td>1</td>\n",
       "      <td>0</td>\n",
       "      <td>0</td>\n",
       "      <td>0</td>\n",
       "      <td>0</td>\n",
       "      <td>0</td>\n",
       "      <td>0</td>\n",
       "      <td>1</td>\n",
       "      <td>0</td>\n",
       "    </tr>\n",
       "  </tbody>\n",
       "</table>\n",
       "<p>5 rows × 63 columns</p>\n",
       "</div>"
      ],
      "text/plain": [
       "      Do Not Email  TotalVisits  Total Time Spent on Website  \\\n",
       "6215     -0.283327    -0.419036                     1.776642   \n",
       "2086     -0.283327    -1.108335                    -0.877905   \n",
       "3257     -0.283327    -0.074387                    -0.646276   \n",
       "1809     -0.283327     1.648861                     1.309706   \n",
       "3712     -0.283327    -0.419036                    -0.127867   \n",
       "\n",
       "      Page Views Per Visit  A free copy of Mastering The Interview  \\\n",
       "6215             -0.169035                                1.441583   \n",
       "2086             -1.202090                               -0.693682   \n",
       "3257             -0.427298                                1.441583   \n",
       "1809             -0.169035                                1.441583   \n",
       "3712             -0.169035                                1.441583   \n",
       "\n",
       "      Lead Origin_Landing Page Submission  Lead Origin_Lead Add Form  \\\n",
       "6215                                    1                          0   \n",
       "2086                                    0                          0   \n",
       "3257                                    1                          0   \n",
       "1809                                    1                          0   \n",
       "3712                                    1                          0   \n",
       "\n",
       "      Lead Origin_Lead Import  What is your current occupation_Housewife  \\\n",
       "6215                        0                                          0   \n",
       "2086                        0                                          0   \n",
       "3257                        0                                          0   \n",
       "1809                        0                                          0   \n",
       "3712                        0                                          0   \n",
       "\n",
       "      What is your current occupation_Other  \\\n",
       "6215                                      0   \n",
       "2086                                      0   \n",
       "3257                                      0   \n",
       "1809                                      0   \n",
       "3712                                      0   \n",
       "\n",
       "      What is your current occupation_Student  \\\n",
       "6215                                        0   \n",
       "2086                                        0   \n",
       "3257                                        0   \n",
       "1809                                        0   \n",
       "3712                                        0   \n",
       "\n",
       "      What is your current occupation_Unemployed  \\\n",
       "6215                                           1   \n",
       "2086                                           1   \n",
       "3257                                           1   \n",
       "1809                                           1   \n",
       "3712                                           1   \n",
       "\n",
       "      What is your current occupation_Working Professional  City_Other Cities  \\\n",
       "6215                                                  0                     0   \n",
       "2086                                                  0                     0   \n",
       "3257                                                  0                     0   \n",
       "1809                                                  0                     1   \n",
       "3712                                                  0                     0   \n",
       "\n",
       "      City_Other Cities of Maharashtra  City_Other Metro Cities  \\\n",
       "6215                                 0                        0   \n",
       "2086                                 0                        0   \n",
       "3257                                 1                        0   \n",
       "1809                                 0                        0   \n",
       "3712                                 0                        0   \n",
       "\n",
       "      City_Thane & Outskirts  City_Tier II Cities  \\\n",
       "6215                       0                    0   \n",
       "2086                       0                    0   \n",
       "3257                       0                    0   \n",
       "1809                       0                    0   \n",
       "3712                       0                    0   \n",
       "\n",
       "      Specialization_Banking, Investment And Insurance  \\\n",
       "6215                                                 0   \n",
       "2086                                                 0   \n",
       "3257                                                 0   \n",
       "1809                                                 0   \n",
       "3712                                                 0   \n",
       "\n",
       "      Specialization_Business Administration  Specialization_E_Commerce  ...  \\\n",
       "6215                                       0                          0  ...   \n",
       "2086                                       0                          0  ...   \n",
       "3257                                       0                          0  ...   \n",
       "1809                                       0                          0  ...   \n",
       "3712                                       0                          0  ...   \n",
       "\n",
       "      Last Activity_SMS Sent  Last Activity_Unreachable  \\\n",
       "6215                       0                          0   \n",
       "2086                       1                          0   \n",
       "3257                       0                          0   \n",
       "1809                       0                          0   \n",
       "3712                       0                          0   \n",
       "\n",
       "      Last Activity_Unsubscribed  Tags_Already a student  Tags_Busy  \\\n",
       "6215                           0                       0          0   \n",
       "2086                           0                       0          0   \n",
       "3257                           0                       0          0   \n",
       "1809                           0                       0          0   \n",
       "3712                           0                       0          0   \n",
       "\n",
       "      Tags_Closed by Horizzon  Tags_Graduation in progress  \\\n",
       "6215                        0                            0   \n",
       "2086                        0                            0   \n",
       "3257                        0                            0   \n",
       "1809                        1                            0   \n",
       "3712                        0                            0   \n",
       "\n",
       "      Tags_Interested  in full time MBA  Tags_Interested in other courses  \\\n",
       "6215                                  0                                 0   \n",
       "2086                                  0                                 0   \n",
       "3257                                  0                                 0   \n",
       "1809                                  0                                 0   \n",
       "3712                                  0                                 0   \n",
       "\n",
       "      Tags_Lost to EINS  Tags_Not doing further education  Tags_Ringing  \\\n",
       "6215                  0                                 0             0   \n",
       "2086                  0                                 0             0   \n",
       "3257                  0                                 0             0   \n",
       "1809                  0                                 0             0   \n",
       "3712                  0                                 0             0   \n",
       "\n",
       "      Tags_Will revert after reading the email  Tags_switched off  \\\n",
       "6215                                         1                  0   \n",
       "2086                                         1                  0   \n",
       "3257                                         1                  0   \n",
       "1809                                         0                  0   \n",
       "3712                                         1                  0   \n",
       "\n",
       "      Last Notable Activity_Email Link Clicked  \\\n",
       "6215                                         0   \n",
       "2086                                         0   \n",
       "3257                                         0   \n",
       "1809                                         0   \n",
       "3712                                         0   \n",
       "\n",
       "      Last Notable Activity_Email Opened  \\\n",
       "6215                                   0   \n",
       "2086                                   0   \n",
       "3257                                   1   \n",
       "1809                                   0   \n",
       "3712                                   0   \n",
       "\n",
       "      Last Notable Activity_Email Received  Last Notable Activity_Modified  \\\n",
       "6215                                     0                               1   \n",
       "2086                                     0                               0   \n",
       "3257                                     0                               0   \n",
       "1809                                     0                               0   \n",
       "3712                                     0                               0   \n",
       "\n",
       "      Last Notable Activity_Olark Chat Conversation  \\\n",
       "6215                                              0   \n",
       "2086                                              0   \n",
       "3257                                              0   \n",
       "1809                                              0   \n",
       "3712                                              0   \n",
       "\n",
       "      Last Notable Activity_Page Visited on Website  \\\n",
       "6215                                              0   \n",
       "2086                                              0   \n",
       "3257                                              0   \n",
       "1809                                              1   \n",
       "3712                                              1   \n",
       "\n",
       "      Last Notable Activity_SMS Sent  \n",
       "6215                               0  \n",
       "2086                               1  \n",
       "3257                               0  \n",
       "1809                               0  \n",
       "3712                               0  \n",
       "\n",
       "[5 rows x 63 columns]"
      ]
     },
     "execution_count": 189,
     "metadata": {},
     "output_type": "execute_result"
    }
   ],
   "source": [
    "#scaling test set\n",
    "\n",
    "num_cols=X_test.select_dtypes(include=['float64', 'int64']).columns\n",
    "\n",
    "X_test[num_cols] = scaler.fit_transform(X_test[num_cols])\n",
    "\n",
    "X_test.head()"
   ]
  },
  {
   "cell_type": "code",
   "execution_count": 190,
   "id": "f321895a",
   "metadata": {},
   "outputs": [
    {
     "data": {
      "text/html": [
       "<div>\n",
       "<style scoped>\n",
       "    .dataframe tbody tr th:only-of-type {\n",
       "        vertical-align: middle;\n",
       "    }\n",
       "\n",
       "    .dataframe tbody tr th {\n",
       "        vertical-align: top;\n",
       "    }\n",
       "\n",
       "    .dataframe thead th {\n",
       "        text-align: right;\n",
       "    }\n",
       "</style>\n",
       "<table border=\"1\" class=\"dataframe\">\n",
       "  <thead>\n",
       "    <tr style=\"text-align: right;\">\n",
       "      <th></th>\n",
       "      <th>Total Time Spent on Website</th>\n",
       "      <th>Lead Origin_Lead Add Form</th>\n",
       "      <th>What is your current occupation_Unemployed</th>\n",
       "      <th>What is your current occupation_Working Professional</th>\n",
       "      <th>Last Activity_Email Bounced</th>\n",
       "      <th>Last Activity_Olark Chat Conversation</th>\n",
       "      <th>Tags_Busy</th>\n",
       "      <th>Tags_Lost to EINS</th>\n",
       "      <th>Tags_Ringing</th>\n",
       "      <th>Tags_Will revert after reading the email</th>\n",
       "      <th>Tags_switched off</th>\n",
       "      <th>Last Notable Activity_SMS Sent</th>\n",
       "    </tr>\n",
       "  </thead>\n",
       "  <tbody>\n",
       "    <tr>\n",
       "      <th>6215</th>\n",
       "      <td>1.776642</td>\n",
       "      <td>0</td>\n",
       "      <td>1</td>\n",
       "      <td>0</td>\n",
       "      <td>0</td>\n",
       "      <td>0</td>\n",
       "      <td>0</td>\n",
       "      <td>0</td>\n",
       "      <td>0</td>\n",
       "      <td>1</td>\n",
       "      <td>0</td>\n",
       "      <td>0</td>\n",
       "    </tr>\n",
       "    <tr>\n",
       "      <th>2086</th>\n",
       "      <td>-0.877905</td>\n",
       "      <td>0</td>\n",
       "      <td>1</td>\n",
       "      <td>0</td>\n",
       "      <td>0</td>\n",
       "      <td>0</td>\n",
       "      <td>0</td>\n",
       "      <td>0</td>\n",
       "      <td>0</td>\n",
       "      <td>1</td>\n",
       "      <td>0</td>\n",
       "      <td>1</td>\n",
       "    </tr>\n",
       "    <tr>\n",
       "      <th>3257</th>\n",
       "      <td>-0.646276</td>\n",
       "      <td>0</td>\n",
       "      <td>1</td>\n",
       "      <td>0</td>\n",
       "      <td>0</td>\n",
       "      <td>0</td>\n",
       "      <td>0</td>\n",
       "      <td>0</td>\n",
       "      <td>0</td>\n",
       "      <td>1</td>\n",
       "      <td>0</td>\n",
       "      <td>0</td>\n",
       "    </tr>\n",
       "    <tr>\n",
       "      <th>1809</th>\n",
       "      <td>1.309706</td>\n",
       "      <td>0</td>\n",
       "      <td>1</td>\n",
       "      <td>0</td>\n",
       "      <td>0</td>\n",
       "      <td>0</td>\n",
       "      <td>0</td>\n",
       "      <td>0</td>\n",
       "      <td>0</td>\n",
       "      <td>0</td>\n",
       "      <td>0</td>\n",
       "      <td>0</td>\n",
       "    </tr>\n",
       "    <tr>\n",
       "      <th>3712</th>\n",
       "      <td>-0.127867</td>\n",
       "      <td>0</td>\n",
       "      <td>1</td>\n",
       "      <td>0</td>\n",
       "      <td>0</td>\n",
       "      <td>0</td>\n",
       "      <td>0</td>\n",
       "      <td>0</td>\n",
       "      <td>0</td>\n",
       "      <td>1</td>\n",
       "      <td>0</td>\n",
       "      <td>0</td>\n",
       "    </tr>\n",
       "  </tbody>\n",
       "</table>\n",
       "</div>"
      ],
      "text/plain": [
       "      Total Time Spent on Website  Lead Origin_Lead Add Form  \\\n",
       "6215                     1.776642                          0   \n",
       "2086                    -0.877905                          0   \n",
       "3257                    -0.646276                          0   \n",
       "1809                     1.309706                          0   \n",
       "3712                    -0.127867                          0   \n",
       "\n",
       "      What is your current occupation_Unemployed  \\\n",
       "6215                                           1   \n",
       "2086                                           1   \n",
       "3257                                           1   \n",
       "1809                                           1   \n",
       "3712                                           1   \n",
       "\n",
       "      What is your current occupation_Working Professional  \\\n",
       "6215                                                  0      \n",
       "2086                                                  0      \n",
       "3257                                                  0      \n",
       "1809                                                  0      \n",
       "3712                                                  0      \n",
       "\n",
       "      Last Activity_Email Bounced  Last Activity_Olark Chat Conversation  \\\n",
       "6215                            0                                      0   \n",
       "2086                            0                                      0   \n",
       "3257                            0                                      0   \n",
       "1809                            0                                      0   \n",
       "3712                            0                                      0   \n",
       "\n",
       "      Tags_Busy  Tags_Lost to EINS  Tags_Ringing  \\\n",
       "6215          0                  0             0   \n",
       "2086          0                  0             0   \n",
       "3257          0                  0             0   \n",
       "1809          0                  0             0   \n",
       "3712          0                  0             0   \n",
       "\n",
       "      Tags_Will revert after reading the email  Tags_switched off  \\\n",
       "6215                                         1                  0   \n",
       "2086                                         1                  0   \n",
       "3257                                         1                  0   \n",
       "1809                                         0                  0   \n",
       "3712                                         1                  0   \n",
       "\n",
       "      Last Notable Activity_SMS Sent  \n",
       "6215                               0  \n",
       "2086                               1  \n",
       "3257                               0  \n",
       "1809                               0  \n",
       "3712                               0  "
      ]
     },
     "execution_count": 190,
     "metadata": {},
     "output_type": "execute_result"
    }
   ],
   "source": [
    "X_test = X_test[col]\n",
    "X_test.head()"
   ]
  },
  {
   "cell_type": "code",
   "execution_count": 192,
   "id": "b9306a6f",
   "metadata": {},
   "outputs": [],
   "source": [
    "X_test_sm = sm.add_constant(X_test)"
   ]
  },
  {
   "cell_type": "code",
   "execution_count": 193,
   "id": "40e9b878",
   "metadata": {},
   "outputs": [],
   "source": [
    "y_test_pred = res.predict(X_test_sm)"
   ]
  },
  {
   "cell_type": "code",
   "execution_count": 194,
   "id": "1008ae00",
   "metadata": {},
   "outputs": [
    {
     "data": {
      "text/plain": [
       "6215    0.752234\n",
       "2086    0.672400\n",
       "3257    0.215055\n",
       "1809    0.240340\n",
       "3712    0.314302\n",
       "7755    0.208656\n",
       "3691    0.775102\n",
       "8049    0.729471\n",
       "335     0.956129\n",
       "2610    0.198887\n",
       "dtype: float64"
      ]
     },
     "execution_count": 194,
     "metadata": {},
     "output_type": "execute_result"
    }
   ],
   "source": [
    "y_test_pred[:10]"
   ]
  },
  {
   "cell_type": "code",
   "execution_count": 195,
   "id": "f19d126f",
   "metadata": {},
   "outputs": [],
   "source": [
    "# Converting y_pred to a dataframe which is an array\n",
    "y_pred_1 = pd.DataFrame(y_test_pred)"
   ]
  },
  {
   "cell_type": "code",
   "execution_count": 196,
   "id": "970e0786",
   "metadata": {},
   "outputs": [
    {
     "data": {
      "text/html": [
       "<div>\n",
       "<style scoped>\n",
       "    .dataframe tbody tr th:only-of-type {\n",
       "        vertical-align: middle;\n",
       "    }\n",
       "\n",
       "    .dataframe tbody tr th {\n",
       "        vertical-align: top;\n",
       "    }\n",
       "\n",
       "    .dataframe thead th {\n",
       "        text-align: right;\n",
       "    }\n",
       "</style>\n",
       "<table border=\"1\" class=\"dataframe\">\n",
       "  <thead>\n",
       "    <tr style=\"text-align: right;\">\n",
       "      <th></th>\n",
       "      <th>0</th>\n",
       "    </tr>\n",
       "  </thead>\n",
       "  <tbody>\n",
       "    <tr>\n",
       "      <th>6215</th>\n",
       "      <td>0.752234</td>\n",
       "    </tr>\n",
       "    <tr>\n",
       "      <th>2086</th>\n",
       "      <td>0.672400</td>\n",
       "    </tr>\n",
       "    <tr>\n",
       "      <th>3257</th>\n",
       "      <td>0.215055</td>\n",
       "    </tr>\n",
       "    <tr>\n",
       "      <th>1809</th>\n",
       "      <td>0.240340</td>\n",
       "    </tr>\n",
       "    <tr>\n",
       "      <th>3712</th>\n",
       "      <td>0.314302</td>\n",
       "    </tr>\n",
       "  </tbody>\n",
       "</table>\n",
       "</div>"
      ],
      "text/plain": [
       "             0\n",
       "6215  0.752234\n",
       "2086  0.672400\n",
       "3257  0.215055\n",
       "1809  0.240340\n",
       "3712  0.314302"
      ]
     },
     "execution_count": 196,
     "metadata": {},
     "output_type": "execute_result"
    }
   ],
   "source": [
    "# Let's see the head\n",
    "y_pred_1.head()"
   ]
  },
  {
   "cell_type": "code",
   "execution_count": 197,
   "id": "18760e07",
   "metadata": {},
   "outputs": [],
   "source": [
    "# Converting y_test to dataframe\n",
    "y_test_df = pd.DataFrame(y_test)"
   ]
  },
  {
   "cell_type": "code",
   "execution_count": 198,
   "id": "df6cd2cb",
   "metadata": {},
   "outputs": [],
   "source": [
    "# Putting CustID to index\n",
    "y_test_df['Prospect ID'] = y_test_df.index"
   ]
  },
  {
   "cell_type": "code",
   "execution_count": 199,
   "id": "e0034226",
   "metadata": {},
   "outputs": [],
   "source": [
    "# Removing index for both dataframes to append them side by side \n",
    "y_pred_1.reset_index(drop=True, inplace=True)\n",
    "y_test_df.reset_index(drop=True, inplace=True)"
   ]
  },
  {
   "cell_type": "code",
   "execution_count": 200,
   "id": "c93a6a1f",
   "metadata": {},
   "outputs": [],
   "source": [
    "# Appending y_test_df and y_pred_1\n",
    "y_pred_final = pd.concat([y_test_df, y_pred_1],axis=1)"
   ]
  },
  {
   "cell_type": "code",
   "execution_count": 201,
   "id": "9152d0c4",
   "metadata": {},
   "outputs": [
    {
     "data": {
      "text/html": [
       "<div>\n",
       "<style scoped>\n",
       "    .dataframe tbody tr th:only-of-type {\n",
       "        vertical-align: middle;\n",
       "    }\n",
       "\n",
       "    .dataframe tbody tr th {\n",
       "        vertical-align: top;\n",
       "    }\n",
       "\n",
       "    .dataframe thead th {\n",
       "        text-align: right;\n",
       "    }\n",
       "</style>\n",
       "<table border=\"1\" class=\"dataframe\">\n",
       "  <thead>\n",
       "    <tr style=\"text-align: right;\">\n",
       "      <th></th>\n",
       "      <th>Converted</th>\n",
       "      <th>Prospect ID</th>\n",
       "      <th>0</th>\n",
       "    </tr>\n",
       "  </thead>\n",
       "  <tbody>\n",
       "    <tr>\n",
       "      <th>0</th>\n",
       "      <td>0</td>\n",
       "      <td>6215</td>\n",
       "      <td>0.752234</td>\n",
       "    </tr>\n",
       "    <tr>\n",
       "      <th>1</th>\n",
       "      <td>1</td>\n",
       "      <td>2086</td>\n",
       "      <td>0.672400</td>\n",
       "    </tr>\n",
       "    <tr>\n",
       "      <th>2</th>\n",
       "      <td>0</td>\n",
       "      <td>3257</td>\n",
       "      <td>0.215055</td>\n",
       "    </tr>\n",
       "    <tr>\n",
       "      <th>3</th>\n",
       "      <td>1</td>\n",
       "      <td>1809</td>\n",
       "      <td>0.240340</td>\n",
       "    </tr>\n",
       "    <tr>\n",
       "      <th>4</th>\n",
       "      <td>0</td>\n",
       "      <td>3712</td>\n",
       "      <td>0.314302</td>\n",
       "    </tr>\n",
       "  </tbody>\n",
       "</table>\n",
       "</div>"
      ],
      "text/plain": [
       "   Converted  Prospect ID         0\n",
       "0          0         6215  0.752234\n",
       "1          1         2086  0.672400\n",
       "2          0         3257  0.215055\n",
       "3          1         1809  0.240340\n",
       "4          0         3712  0.314302"
      ]
     },
     "execution_count": 201,
     "metadata": {},
     "output_type": "execute_result"
    }
   ],
   "source": [
    "y_pred_final.head()"
   ]
  },
  {
   "cell_type": "code",
   "execution_count": 202,
   "id": "0d8b5c22",
   "metadata": {},
   "outputs": [],
   "source": [
    "# Renaming the column \n",
    "y_pred_final= y_pred_final.rename(columns={ 0 : 'Converted_prob'})"
   ]
  },
  {
   "cell_type": "code",
   "execution_count": 203,
   "id": "790f98c1",
   "metadata": {},
   "outputs": [
    {
     "data": {
      "text/html": [
       "<div>\n",
       "<style scoped>\n",
       "    .dataframe tbody tr th:only-of-type {\n",
       "        vertical-align: middle;\n",
       "    }\n",
       "\n",
       "    .dataframe tbody tr th {\n",
       "        vertical-align: top;\n",
       "    }\n",
       "\n",
       "    .dataframe thead th {\n",
       "        text-align: right;\n",
       "    }\n",
       "</style>\n",
       "<table border=\"1\" class=\"dataframe\">\n",
       "  <thead>\n",
       "    <tr style=\"text-align: right;\">\n",
       "      <th></th>\n",
       "      <th>Converted</th>\n",
       "      <th>Prospect ID</th>\n",
       "      <th>Converted_prob</th>\n",
       "    </tr>\n",
       "  </thead>\n",
       "  <tbody>\n",
       "    <tr>\n",
       "      <th>0</th>\n",
       "      <td>0</td>\n",
       "      <td>6215</td>\n",
       "      <td>0.752234</td>\n",
       "    </tr>\n",
       "    <tr>\n",
       "      <th>1</th>\n",
       "      <td>1</td>\n",
       "      <td>2086</td>\n",
       "      <td>0.672400</td>\n",
       "    </tr>\n",
       "    <tr>\n",
       "      <th>2</th>\n",
       "      <td>0</td>\n",
       "      <td>3257</td>\n",
       "      <td>0.215055</td>\n",
       "    </tr>\n",
       "    <tr>\n",
       "      <th>3</th>\n",
       "      <td>1</td>\n",
       "      <td>1809</td>\n",
       "      <td>0.240340</td>\n",
       "    </tr>\n",
       "    <tr>\n",
       "      <th>4</th>\n",
       "      <td>0</td>\n",
       "      <td>3712</td>\n",
       "      <td>0.314302</td>\n",
       "    </tr>\n",
       "  </tbody>\n",
       "</table>\n",
       "</div>"
      ],
      "text/plain": [
       "   Converted  Prospect ID  Converted_prob\n",
       "0          0         6215        0.752234\n",
       "1          1         2086        0.672400\n",
       "2          0         3257        0.215055\n",
       "3          1         1809        0.240340\n",
       "4          0         3712        0.314302"
      ]
     },
     "execution_count": 203,
     "metadata": {},
     "output_type": "execute_result"
    }
   ],
   "source": [
    "y_pred_final.head()"
   ]
  },
  {
   "cell_type": "code",
   "execution_count": 204,
   "id": "795f040e",
   "metadata": {},
   "outputs": [],
   "source": [
    "# Rearranging the columns\n",
    "y_pred_final = y_pred_final[['Prospect ID','Converted','Converted_prob']]\n",
    "y_pred_final['Lead_Score'] = y_pred_final.Converted_prob.map( lambda x: round(x*100))"
   ]
  },
  {
   "cell_type": "code",
   "execution_count": 205,
   "id": "1326a592",
   "metadata": {},
   "outputs": [
    {
     "data": {
      "text/html": [
       "<div>\n",
       "<style scoped>\n",
       "    .dataframe tbody tr th:only-of-type {\n",
       "        vertical-align: middle;\n",
       "    }\n",
       "\n",
       "    .dataframe tbody tr th {\n",
       "        vertical-align: top;\n",
       "    }\n",
       "\n",
       "    .dataframe thead th {\n",
       "        text-align: right;\n",
       "    }\n",
       "</style>\n",
       "<table border=\"1\" class=\"dataframe\">\n",
       "  <thead>\n",
       "    <tr style=\"text-align: right;\">\n",
       "      <th></th>\n",
       "      <th>Prospect ID</th>\n",
       "      <th>Converted</th>\n",
       "      <th>Converted_prob</th>\n",
       "      <th>Lead_Score</th>\n",
       "    </tr>\n",
       "  </thead>\n",
       "  <tbody>\n",
       "    <tr>\n",
       "      <th>0</th>\n",
       "      <td>6215</td>\n",
       "      <td>0</td>\n",
       "      <td>0.752234</td>\n",
       "      <td>75</td>\n",
       "    </tr>\n",
       "    <tr>\n",
       "      <th>1</th>\n",
       "      <td>2086</td>\n",
       "      <td>1</td>\n",
       "      <td>0.672400</td>\n",
       "      <td>67</td>\n",
       "    </tr>\n",
       "    <tr>\n",
       "      <th>2</th>\n",
       "      <td>3257</td>\n",
       "      <td>0</td>\n",
       "      <td>0.215055</td>\n",
       "      <td>22</td>\n",
       "    </tr>\n",
       "    <tr>\n",
       "      <th>3</th>\n",
       "      <td>1809</td>\n",
       "      <td>1</td>\n",
       "      <td>0.240340</td>\n",
       "      <td>24</td>\n",
       "    </tr>\n",
       "    <tr>\n",
       "      <th>4</th>\n",
       "      <td>3712</td>\n",
       "      <td>0</td>\n",
       "      <td>0.314302</td>\n",
       "      <td>31</td>\n",
       "    </tr>\n",
       "  </tbody>\n",
       "</table>\n",
       "</div>"
      ],
      "text/plain": [
       "   Prospect ID  Converted  Converted_prob  Lead_Score\n",
       "0         6215          0        0.752234          75\n",
       "1         2086          1        0.672400          67\n",
       "2         3257          0        0.215055          22\n",
       "3         1809          1        0.240340          24\n",
       "4         3712          0        0.314302          31"
      ]
     },
     "execution_count": 205,
     "metadata": {},
     "output_type": "execute_result"
    }
   ],
   "source": [
    "# Let's see the head of y_pred_final\n",
    "y_pred_final.head()"
   ]
  },
  {
   "cell_type": "code",
   "execution_count": 207,
   "id": "36edef98",
   "metadata": {},
   "outputs": [
    {
     "data": {
      "text/html": [
       "<div>\n",
       "<style scoped>\n",
       "    .dataframe tbody tr th:only-of-type {\n",
       "        vertical-align: middle;\n",
       "    }\n",
       "\n",
       "    .dataframe tbody tr th {\n",
       "        vertical-align: top;\n",
       "    }\n",
       "\n",
       "    .dataframe thead th {\n",
       "        text-align: right;\n",
       "    }\n",
       "</style>\n",
       "<table border=\"1\" class=\"dataframe\">\n",
       "  <thead>\n",
       "    <tr style=\"text-align: right;\">\n",
       "      <th></th>\n",
       "      <th>Prospect ID</th>\n",
       "      <th>Converted</th>\n",
       "      <th>Converted_prob</th>\n",
       "      <th>Lead_Score</th>\n",
       "      <th>final_Predicted</th>\n",
       "    </tr>\n",
       "  </thead>\n",
       "  <tbody>\n",
       "    <tr>\n",
       "      <th>0</th>\n",
       "      <td>6215</td>\n",
       "      <td>0</td>\n",
       "      <td>0.752234</td>\n",
       "      <td>75</td>\n",
       "      <td>1</td>\n",
       "    </tr>\n",
       "    <tr>\n",
       "      <th>1</th>\n",
       "      <td>2086</td>\n",
       "      <td>1</td>\n",
       "      <td>0.672400</td>\n",
       "      <td>67</td>\n",
       "      <td>1</td>\n",
       "    </tr>\n",
       "    <tr>\n",
       "      <th>2</th>\n",
       "      <td>3257</td>\n",
       "      <td>0</td>\n",
       "      <td>0.215055</td>\n",
       "      <td>22</td>\n",
       "      <td>0</td>\n",
       "    </tr>\n",
       "    <tr>\n",
       "      <th>3</th>\n",
       "      <td>1809</td>\n",
       "      <td>1</td>\n",
       "      <td>0.240340</td>\n",
       "      <td>24</td>\n",
       "      <td>0</td>\n",
       "    </tr>\n",
       "    <tr>\n",
       "      <th>4</th>\n",
       "      <td>3712</td>\n",
       "      <td>0</td>\n",
       "      <td>0.314302</td>\n",
       "      <td>31</td>\n",
       "      <td>1</td>\n",
       "    </tr>\n",
       "  </tbody>\n",
       "</table>\n",
       "</div>"
      ],
      "text/plain": [
       "   Prospect ID  Converted  Converted_prob  Lead_Score  final_Predicted\n",
       "0         6215          0        0.752234          75                1\n",
       "1         2086          1        0.672400          67                1\n",
       "2         3257          0        0.215055          22                0\n",
       "3         1809          1        0.240340          24                0\n",
       "4         3712          0        0.314302          31                1"
      ]
     },
     "execution_count": 207,
     "metadata": {},
     "output_type": "execute_result"
    }
   ],
   "source": [
    "y_pred_final['final_Predicted'] = y_pred_final.Converted_prob.map(lambda x: 1 if x > 0.3 else 0)\n",
    "y_pred_final.head()"
   ]
  },
  {
   "cell_type": "code",
   "execution_count": 208,
   "id": "8f4c3218",
   "metadata": {},
   "outputs": [
    {
     "data": {
      "text/plain": [
       "0.8573562359970127"
      ]
     },
     "execution_count": 208,
     "metadata": {},
     "output_type": "execute_result"
    }
   ],
   "source": [
    "# Let's check the overall accuracy.\n",
    "metrics.accuracy_score(y_pred_final.Converted, y_pred_final.final_Predicted)"
   ]
  },
  {
   "cell_type": "code",
   "execution_count": 209,
   "id": "11a956c8",
   "metadata": {},
   "outputs": [
    {
     "data": {
      "text/plain": [
       "array([[1449,  246],\n",
       "       [ 136,  847]], dtype=int64)"
      ]
     },
     "execution_count": 209,
     "metadata": {},
     "output_type": "execute_result"
    }
   ],
   "source": [
    "confusion2 = metrics.confusion_matrix(y_pred_final.Converted, y_pred_final.final_Predicted )\n",
    "confusion2"
   ]
  },
  {
   "cell_type": "code",
   "execution_count": 210,
   "id": "c034308f",
   "metadata": {},
   "outputs": [],
   "source": [
    "TP = confusion2[1,1] # true positive \n",
    "TN = confusion2[0,0] # true negatives\n",
    "FP = confusion2[0,1] # false positives\n",
    "FN = confusion2[1,0] # false negatives"
   ]
  },
  {
   "cell_type": "code",
   "execution_count": 211,
   "id": "ae179249",
   "metadata": {},
   "outputs": [
    {
     "data": {
      "text/plain": [
       "0.861648016276704"
      ]
     },
     "execution_count": 211,
     "metadata": {},
     "output_type": "execute_result"
    }
   ],
   "source": [
    "# Let's see the sensitivity of our logistic regression model\n",
    "TP / float(TP+FN)"
   ]
  },
  {
   "cell_type": "code",
   "execution_count": 212,
   "id": "deea7c27",
   "metadata": {},
   "outputs": [
    {
     "data": {
      "text/plain": [
       "0.8548672566371681"
      ]
     },
     "execution_count": 212,
     "metadata": {},
     "output_type": "execute_result"
    }
   ],
   "source": [
    "# Let us calculate specificity\n",
    "TN / float(TN+FP)"
   ]
  },
  {
   "cell_type": "code",
   "execution_count": 213,
   "id": "d01657b2",
   "metadata": {},
   "outputs": [
    {
     "data": {
      "text/plain": [
       "0.7749313815187557"
      ]
     },
     "execution_count": 213,
     "metadata": {},
     "output_type": "execute_result"
    }
   ],
   "source": [
    "precision_score(y_pred_final.Converted , y_pred_final.final_Predicted)"
   ]
  },
  {
   "cell_type": "code",
   "execution_count": 214,
   "id": "74b81e0c",
   "metadata": {},
   "outputs": [
    {
     "data": {
      "text/plain": [
       "0.861648016276704"
      ]
     },
     "execution_count": 214,
     "metadata": {},
     "output_type": "execute_result"
    }
   ],
   "source": [
    "recall_score(y_pred_final.Converted, y_pred_final.final_Predicted)"
   ]
  },
  {
   "cell_type": "markdown",
   "id": "f14b8c24",
   "metadata": {},
   "source": [
    "### Observation:\n",
    "    After running the model on the Test Data these are the figures we obtain\n",
    "\n",
    "         Accuracy : 85.7%\n",
    "         Sensitivity : 86.16%\n",
    "         Specificity : 85.48%"
   ]
  },
  {
   "cell_type": "markdown",
   "id": "219728e8",
   "metadata": {},
   "source": [
    "## Final Observation\n",
    "<hr/>"
   ]
  },
  {
   "cell_type": "markdown",
   "id": "1c7ad7c8",
   "metadata": {},
   "source": [
    "### Train Data Set    \n",
    " - Accuracy : 85.04%\n",
    "     Sensitivity : 85.66%\n",
    "     Specificity : 84.66%\n",
    "### Test Data Set\n",
    "- Accuracy : 85.7%\n",
    "     Sensitivity : 86.16%\n",
    "     Specificity : 85.48%"
   ]
  },
  {
   "cell_type": "code",
   "execution_count": null,
   "id": "a09bde85",
   "metadata": {},
   "outputs": [],
   "source": []
  }
 ],
 "metadata": {
  "kernelspec": {
   "display_name": "Python 3 (ipykernel)",
   "language": "python",
   "name": "python3"
  },
  "language_info": {
   "codemirror_mode": {
    "name": "ipython",
    "version": 3
   },
   "file_extension": ".py",
   "mimetype": "text/x-python",
   "name": "python",
   "nbconvert_exporter": "python",
   "pygments_lexer": "ipython3",
   "version": "3.9.13"
  }
 },
 "nbformat": 4,
 "nbformat_minor": 5
}
