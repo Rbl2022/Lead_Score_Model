{
 "cells": [
  {
   "cell_type": "markdown",
   "id": "79752902",
   "metadata": {},
   "source": [
    "# Problem Statement"
   ]
  },
  {
   "cell_type": "markdown",
   "id": "a2c93b2a",
   "metadata": {},
   "source": [
    "An education company named X Education sells online courses to industry professionals. On any given day, many professionals who are interested in the courses land on their website and browse for courses. \n",
    "\n",
    " \n",
    "\n",
    "The company markets its courses on several websites and search engines like Google. Once these people land on the website, they might browse the courses or fill up a form for the course or watch some videos. When these people fill up a form providing their email address or phone number, they are classified to be a lead. Moreover, the company also gets leads through past referrals. Once these leads are acquired, employees from the sales team start making calls, writing emails, etc. Through this process, some of the leads get converted while most do not. The typical lead conversion rate at X education is around 30%. \n",
    "\n",
    " \n",
    "\n",
    "Now, although X Education gets a lot of leads, its lead conversion rate is very poor. For example, if, say, they acquire 100 leads in a day, only about 30 of them are converted. To make this process more efficient, the company wishes to identify the most potential leads, also known as ‘Hot Leads’. If they successfully identify this set of leads, the lead conversion rate should go up as the sales team will now be focusing more on communicating with the potential leads rather than making calls to everyone"
   ]
  },
  {
   "cell_type": "markdown",
   "id": "96fdcf74",
   "metadata": {},
   "source": [
    "X Education has appointed you to help them select the most promising leads, i.e. the leads that are most likely to convert into paying customers. The company requires you to build a model wherein you need to assign a lead score to each of the leads such that the customers with a higher lead score have a higher conversion chance and the customers with a lower lead score have a lower conversion chance. The CEO, in particular, has given a ballpark of the target lead conversion rate to be around 80%."
   ]
  },
  {
   "cell_type": "markdown",
   "id": "0a09c92a",
   "metadata": {},
   "source": [
    "## Steps of Problem Solving\n",
    "  - **Importing Libraries & Data Reading**\n",
    "  - **Data Cleaning & EDA**\n",
    "  - **Data Preparation**\n",
    "  - **Model Building**\n",
    "  - **VIF & P Score Check.**\n",
    "  - **Model Finalisation**\n",
    "  - **Model Evaluation**\n",
    "  - **Model Evaluation on Test Data**\n",
    "  - **Model Prediction**"
   ]
  },
  {
   "cell_type": "markdown",
   "id": "215a58f6",
   "metadata": {},
   "source": [
    "###  Import Libraries & Data Reading\n",
    "<hr/>"
   ]
  },
  {
   "cell_type": "code",
   "execution_count": 1,
   "id": "9c59b8bf",
   "metadata": {},
   "outputs": [],
   "source": [
    "import numpy as np\n",
    "import pandas as pd\n",
    "import matplotlib.pyplot as plt\n",
    "import seaborn as sns\n",
    "import sklearn\n",
    "import warnings\n",
    "\n",
    "\n",
    "warnings.filterwarnings(\"ignore\")"
   ]
  },
  {
   "cell_type": "code",
   "execution_count": 2,
   "id": "08118b98",
   "metadata": {},
   "outputs": [],
   "source": [
    "pd.set_option('display.max_columns',42)"
   ]
  },
  {
   "cell_type": "code",
   "execution_count": 3,
   "id": "8f6b2b57",
   "metadata": {},
   "outputs": [
    {
     "data": {
      "text/html": [
       "<div>\n",
       "<style scoped>\n",
       "    .dataframe tbody tr th:only-of-type {\n",
       "        vertical-align: middle;\n",
       "    }\n",
       "\n",
       "    .dataframe tbody tr th {\n",
       "        vertical-align: top;\n",
       "    }\n",
       "\n",
       "    .dataframe thead th {\n",
       "        text-align: right;\n",
       "    }\n",
       "</style>\n",
       "<table border=\"1\" class=\"dataframe\">\n",
       "  <thead>\n",
       "    <tr style=\"text-align: right;\">\n",
       "      <th></th>\n",
       "      <th>Prospect ID</th>\n",
       "      <th>Lead Number</th>\n",
       "      <th>Lead Origin</th>\n",
       "      <th>Lead Source</th>\n",
       "      <th>Do Not Email</th>\n",
       "      <th>Do Not Call</th>\n",
       "      <th>Converted</th>\n",
       "      <th>TotalVisits</th>\n",
       "      <th>Total Time Spent on Website</th>\n",
       "      <th>Page Views Per Visit</th>\n",
       "      <th>Last Activity</th>\n",
       "      <th>Country</th>\n",
       "      <th>Specialization</th>\n",
       "      <th>How did you hear about X Education</th>\n",
       "      <th>What is your current occupation</th>\n",
       "      <th>What matters most to you in choosing a course</th>\n",
       "      <th>Search</th>\n",
       "      <th>Magazine</th>\n",
       "      <th>Newspaper Article</th>\n",
       "      <th>X Education Forums</th>\n",
       "      <th>Newspaper</th>\n",
       "      <th>Digital Advertisement</th>\n",
       "      <th>Through Recommendations</th>\n",
       "      <th>Receive More Updates About Our Courses</th>\n",
       "      <th>Tags</th>\n",
       "      <th>Lead Quality</th>\n",
       "      <th>Update me on Supply Chain Content</th>\n",
       "      <th>Get updates on DM Content</th>\n",
       "      <th>Lead Profile</th>\n",
       "      <th>City</th>\n",
       "      <th>Asymmetrique Activity Index</th>\n",
       "      <th>Asymmetrique Profile Index</th>\n",
       "      <th>Asymmetrique Activity Score</th>\n",
       "      <th>Asymmetrique Profile Score</th>\n",
       "      <th>I agree to pay the amount through cheque</th>\n",
       "      <th>A free copy of Mastering The Interview</th>\n",
       "      <th>Last Notable Activity</th>\n",
       "    </tr>\n",
       "  </thead>\n",
       "  <tbody>\n",
       "    <tr>\n",
       "      <th>0</th>\n",
       "      <td>7927b2df-8bba-4d29-b9a2-b6e0beafe620</td>\n",
       "      <td>660737</td>\n",
       "      <td>API</td>\n",
       "      <td>Olark Chat</td>\n",
       "      <td>No</td>\n",
       "      <td>No</td>\n",
       "      <td>0</td>\n",
       "      <td>0.0</td>\n",
       "      <td>0</td>\n",
       "      <td>0.0</td>\n",
       "      <td>Page Visited on Website</td>\n",
       "      <td>NaN</td>\n",
       "      <td>Select</td>\n",
       "      <td>Select</td>\n",
       "      <td>Unemployed</td>\n",
       "      <td>Better Career Prospects</td>\n",
       "      <td>No</td>\n",
       "      <td>No</td>\n",
       "      <td>No</td>\n",
       "      <td>No</td>\n",
       "      <td>No</td>\n",
       "      <td>No</td>\n",
       "      <td>No</td>\n",
       "      <td>No</td>\n",
       "      <td>Interested in other courses</td>\n",
       "      <td>Low in Relevance</td>\n",
       "      <td>No</td>\n",
       "      <td>No</td>\n",
       "      <td>Select</td>\n",
       "      <td>Select</td>\n",
       "      <td>02.Medium</td>\n",
       "      <td>02.Medium</td>\n",
       "      <td>15.0</td>\n",
       "      <td>15.0</td>\n",
       "      <td>No</td>\n",
       "      <td>No</td>\n",
       "      <td>Modified</td>\n",
       "    </tr>\n",
       "    <tr>\n",
       "      <th>1</th>\n",
       "      <td>2a272436-5132-4136-86fa-dcc88c88f482</td>\n",
       "      <td>660728</td>\n",
       "      <td>API</td>\n",
       "      <td>Organic Search</td>\n",
       "      <td>No</td>\n",
       "      <td>No</td>\n",
       "      <td>0</td>\n",
       "      <td>5.0</td>\n",
       "      <td>674</td>\n",
       "      <td>2.5</td>\n",
       "      <td>Email Opened</td>\n",
       "      <td>India</td>\n",
       "      <td>Select</td>\n",
       "      <td>Select</td>\n",
       "      <td>Unemployed</td>\n",
       "      <td>Better Career Prospects</td>\n",
       "      <td>No</td>\n",
       "      <td>No</td>\n",
       "      <td>No</td>\n",
       "      <td>No</td>\n",
       "      <td>No</td>\n",
       "      <td>No</td>\n",
       "      <td>No</td>\n",
       "      <td>No</td>\n",
       "      <td>Ringing</td>\n",
       "      <td>NaN</td>\n",
       "      <td>No</td>\n",
       "      <td>No</td>\n",
       "      <td>Select</td>\n",
       "      <td>Select</td>\n",
       "      <td>02.Medium</td>\n",
       "      <td>02.Medium</td>\n",
       "      <td>15.0</td>\n",
       "      <td>15.0</td>\n",
       "      <td>No</td>\n",
       "      <td>No</td>\n",
       "      <td>Email Opened</td>\n",
       "    </tr>\n",
       "    <tr>\n",
       "      <th>2</th>\n",
       "      <td>8cc8c611-a219-4f35-ad23-fdfd2656bd8a</td>\n",
       "      <td>660727</td>\n",
       "      <td>Landing Page Submission</td>\n",
       "      <td>Direct Traffic</td>\n",
       "      <td>No</td>\n",
       "      <td>No</td>\n",
       "      <td>1</td>\n",
       "      <td>2.0</td>\n",
       "      <td>1532</td>\n",
       "      <td>2.0</td>\n",
       "      <td>Email Opened</td>\n",
       "      <td>India</td>\n",
       "      <td>Business Administration</td>\n",
       "      <td>Select</td>\n",
       "      <td>Student</td>\n",
       "      <td>Better Career Prospects</td>\n",
       "      <td>No</td>\n",
       "      <td>No</td>\n",
       "      <td>No</td>\n",
       "      <td>No</td>\n",
       "      <td>No</td>\n",
       "      <td>No</td>\n",
       "      <td>No</td>\n",
       "      <td>No</td>\n",
       "      <td>Will revert after reading the email</td>\n",
       "      <td>Might be</td>\n",
       "      <td>No</td>\n",
       "      <td>No</td>\n",
       "      <td>Potential Lead</td>\n",
       "      <td>Mumbai</td>\n",
       "      <td>02.Medium</td>\n",
       "      <td>01.High</td>\n",
       "      <td>14.0</td>\n",
       "      <td>20.0</td>\n",
       "      <td>No</td>\n",
       "      <td>Yes</td>\n",
       "      <td>Email Opened</td>\n",
       "    </tr>\n",
       "    <tr>\n",
       "      <th>3</th>\n",
       "      <td>0cc2df48-7cf4-4e39-9de9-19797f9b38cc</td>\n",
       "      <td>660719</td>\n",
       "      <td>Landing Page Submission</td>\n",
       "      <td>Direct Traffic</td>\n",
       "      <td>No</td>\n",
       "      <td>No</td>\n",
       "      <td>0</td>\n",
       "      <td>1.0</td>\n",
       "      <td>305</td>\n",
       "      <td>1.0</td>\n",
       "      <td>Unreachable</td>\n",
       "      <td>India</td>\n",
       "      <td>Media and Advertising</td>\n",
       "      <td>Word Of Mouth</td>\n",
       "      <td>Unemployed</td>\n",
       "      <td>Better Career Prospects</td>\n",
       "      <td>No</td>\n",
       "      <td>No</td>\n",
       "      <td>No</td>\n",
       "      <td>No</td>\n",
       "      <td>No</td>\n",
       "      <td>No</td>\n",
       "      <td>No</td>\n",
       "      <td>No</td>\n",
       "      <td>Ringing</td>\n",
       "      <td>Not Sure</td>\n",
       "      <td>No</td>\n",
       "      <td>No</td>\n",
       "      <td>Select</td>\n",
       "      <td>Mumbai</td>\n",
       "      <td>02.Medium</td>\n",
       "      <td>01.High</td>\n",
       "      <td>13.0</td>\n",
       "      <td>17.0</td>\n",
       "      <td>No</td>\n",
       "      <td>No</td>\n",
       "      <td>Modified</td>\n",
       "    </tr>\n",
       "    <tr>\n",
       "      <th>4</th>\n",
       "      <td>3256f628-e534-4826-9d63-4a8b88782852</td>\n",
       "      <td>660681</td>\n",
       "      <td>Landing Page Submission</td>\n",
       "      <td>Google</td>\n",
       "      <td>No</td>\n",
       "      <td>No</td>\n",
       "      <td>1</td>\n",
       "      <td>2.0</td>\n",
       "      <td>1428</td>\n",
       "      <td>1.0</td>\n",
       "      <td>Converted to Lead</td>\n",
       "      <td>India</td>\n",
       "      <td>Select</td>\n",
       "      <td>Other</td>\n",
       "      <td>Unemployed</td>\n",
       "      <td>Better Career Prospects</td>\n",
       "      <td>No</td>\n",
       "      <td>No</td>\n",
       "      <td>No</td>\n",
       "      <td>No</td>\n",
       "      <td>No</td>\n",
       "      <td>No</td>\n",
       "      <td>No</td>\n",
       "      <td>No</td>\n",
       "      <td>Will revert after reading the email</td>\n",
       "      <td>Might be</td>\n",
       "      <td>No</td>\n",
       "      <td>No</td>\n",
       "      <td>Select</td>\n",
       "      <td>Mumbai</td>\n",
       "      <td>02.Medium</td>\n",
       "      <td>01.High</td>\n",
       "      <td>15.0</td>\n",
       "      <td>18.0</td>\n",
       "      <td>No</td>\n",
       "      <td>No</td>\n",
       "      <td>Modified</td>\n",
       "    </tr>\n",
       "  </tbody>\n",
       "</table>\n",
       "</div>"
      ],
      "text/plain": [
       "                            Prospect ID  Lead Number              Lead Origin  \\\n",
       "0  7927b2df-8bba-4d29-b9a2-b6e0beafe620       660737                      API   \n",
       "1  2a272436-5132-4136-86fa-dcc88c88f482       660728                      API   \n",
       "2  8cc8c611-a219-4f35-ad23-fdfd2656bd8a       660727  Landing Page Submission   \n",
       "3  0cc2df48-7cf4-4e39-9de9-19797f9b38cc       660719  Landing Page Submission   \n",
       "4  3256f628-e534-4826-9d63-4a8b88782852       660681  Landing Page Submission   \n",
       "\n",
       "      Lead Source Do Not Email Do Not Call  Converted  TotalVisits  \\\n",
       "0      Olark Chat           No          No          0          0.0   \n",
       "1  Organic Search           No          No          0          5.0   \n",
       "2  Direct Traffic           No          No          1          2.0   \n",
       "3  Direct Traffic           No          No          0          1.0   \n",
       "4          Google           No          No          1          2.0   \n",
       "\n",
       "   Total Time Spent on Website  Page Views Per Visit            Last Activity  \\\n",
       "0                            0                   0.0  Page Visited on Website   \n",
       "1                          674                   2.5             Email Opened   \n",
       "2                         1532                   2.0             Email Opened   \n",
       "3                          305                   1.0              Unreachable   \n",
       "4                         1428                   1.0        Converted to Lead   \n",
       "\n",
       "  Country           Specialization How did you hear about X Education  \\\n",
       "0     NaN                   Select                             Select   \n",
       "1   India                   Select                             Select   \n",
       "2   India  Business Administration                             Select   \n",
       "3   India    Media and Advertising                      Word Of Mouth   \n",
       "4   India                   Select                              Other   \n",
       "\n",
       "  What is your current occupation  \\\n",
       "0                      Unemployed   \n",
       "1                      Unemployed   \n",
       "2                         Student   \n",
       "3                      Unemployed   \n",
       "4                      Unemployed   \n",
       "\n",
       "  What matters most to you in choosing a course Search Magazine  \\\n",
       "0                       Better Career Prospects     No       No   \n",
       "1                       Better Career Prospects     No       No   \n",
       "2                       Better Career Prospects     No       No   \n",
       "3                       Better Career Prospects     No       No   \n",
       "4                       Better Career Prospects     No       No   \n",
       "\n",
       "  Newspaper Article X Education Forums Newspaper Digital Advertisement  \\\n",
       "0                No                 No        No                    No   \n",
       "1                No                 No        No                    No   \n",
       "2                No                 No        No                    No   \n",
       "3                No                 No        No                    No   \n",
       "4                No                 No        No                    No   \n",
       "\n",
       "  Through Recommendations Receive More Updates About Our Courses  \\\n",
       "0                      No                                     No   \n",
       "1                      No                                     No   \n",
       "2                      No                                     No   \n",
       "3                      No                                     No   \n",
       "4                      No                                     No   \n",
       "\n",
       "                                  Tags      Lead Quality  \\\n",
       "0          Interested in other courses  Low in Relevance   \n",
       "1                              Ringing               NaN   \n",
       "2  Will revert after reading the email          Might be   \n",
       "3                              Ringing          Not Sure   \n",
       "4  Will revert after reading the email          Might be   \n",
       "\n",
       "  Update me on Supply Chain Content Get updates on DM Content    Lead Profile  \\\n",
       "0                                No                        No          Select   \n",
       "1                                No                        No          Select   \n",
       "2                                No                        No  Potential Lead   \n",
       "3                                No                        No          Select   \n",
       "4                                No                        No          Select   \n",
       "\n",
       "     City Asymmetrique Activity Index Asymmetrique Profile Index  \\\n",
       "0  Select                   02.Medium                  02.Medium   \n",
       "1  Select                   02.Medium                  02.Medium   \n",
       "2  Mumbai                   02.Medium                    01.High   \n",
       "3  Mumbai                   02.Medium                    01.High   \n",
       "4  Mumbai                   02.Medium                    01.High   \n",
       "\n",
       "   Asymmetrique Activity Score  Asymmetrique Profile Score  \\\n",
       "0                         15.0                        15.0   \n",
       "1                         15.0                        15.0   \n",
       "2                         14.0                        20.0   \n",
       "3                         13.0                        17.0   \n",
       "4                         15.0                        18.0   \n",
       "\n",
       "  I agree to pay the amount through cheque  \\\n",
       "0                                       No   \n",
       "1                                       No   \n",
       "2                                       No   \n",
       "3                                       No   \n",
       "4                                       No   \n",
       "\n",
       "  A free copy of Mastering The Interview Last Notable Activity  \n",
       "0                                     No              Modified  \n",
       "1                                     No          Email Opened  \n",
       "2                                    Yes          Email Opened  \n",
       "3                                     No              Modified  \n",
       "4                                     No              Modified  "
      ]
     },
     "execution_count": 3,
     "metadata": {},
     "output_type": "execute_result"
    }
   ],
   "source": [
    "# loading dataset\n",
    "leads_df=pd.read_csv(\"leads.csv\")\n",
    "leads_df.head()"
   ]
  },
  {
   "cell_type": "code",
   "execution_count": 4,
   "id": "86a9be90",
   "metadata": {},
   "outputs": [
    {
     "data": {
      "text/plain": [
       "(9240, 37)"
      ]
     },
     "execution_count": 4,
     "metadata": {},
     "output_type": "execute_result"
    }
   ],
   "source": [
    "#Checking shape of dataframe\n",
    "leads_df.shape"
   ]
  },
  {
   "cell_type": "markdown",
   "id": "dcb8a4ea",
   "metadata": {},
   "source": [
    "- We can see our data contains 9240 rows & 37 columns."
   ]
  },
  {
   "cell_type": "code",
   "execution_count": 5,
   "id": "8cbf46e7",
   "metadata": {},
   "outputs": [
    {
     "data": {
      "text/html": [
       "<div>\n",
       "<style scoped>\n",
       "    .dataframe tbody tr th:only-of-type {\n",
       "        vertical-align: middle;\n",
       "    }\n",
       "\n",
       "    .dataframe tbody tr th {\n",
       "        vertical-align: top;\n",
       "    }\n",
       "\n",
       "    .dataframe thead th {\n",
       "        text-align: right;\n",
       "    }\n",
       "</style>\n",
       "<table border=\"1\" class=\"dataframe\">\n",
       "  <thead>\n",
       "    <tr style=\"text-align: right;\">\n",
       "      <th></th>\n",
       "      <th>Lead Number</th>\n",
       "      <th>Converted</th>\n",
       "      <th>TotalVisits</th>\n",
       "      <th>Total Time Spent on Website</th>\n",
       "      <th>Page Views Per Visit</th>\n",
       "      <th>Asymmetrique Activity Score</th>\n",
       "      <th>Asymmetrique Profile Score</th>\n",
       "    </tr>\n",
       "  </thead>\n",
       "  <tbody>\n",
       "    <tr>\n",
       "      <th>count</th>\n",
       "      <td>9240.000000</td>\n",
       "      <td>9240.000000</td>\n",
       "      <td>9103.000000</td>\n",
       "      <td>9240.000000</td>\n",
       "      <td>9103.000000</td>\n",
       "      <td>5022.000000</td>\n",
       "      <td>5022.000000</td>\n",
       "    </tr>\n",
       "    <tr>\n",
       "      <th>mean</th>\n",
       "      <td>617188.435606</td>\n",
       "      <td>0.385390</td>\n",
       "      <td>3.445238</td>\n",
       "      <td>487.698268</td>\n",
       "      <td>2.362820</td>\n",
       "      <td>14.306252</td>\n",
       "      <td>16.344883</td>\n",
       "    </tr>\n",
       "    <tr>\n",
       "      <th>std</th>\n",
       "      <td>23405.995698</td>\n",
       "      <td>0.486714</td>\n",
       "      <td>4.854853</td>\n",
       "      <td>548.021466</td>\n",
       "      <td>2.161418</td>\n",
       "      <td>1.386694</td>\n",
       "      <td>1.811395</td>\n",
       "    </tr>\n",
       "    <tr>\n",
       "      <th>min</th>\n",
       "      <td>579533.000000</td>\n",
       "      <td>0.000000</td>\n",
       "      <td>0.000000</td>\n",
       "      <td>0.000000</td>\n",
       "      <td>0.000000</td>\n",
       "      <td>7.000000</td>\n",
       "      <td>11.000000</td>\n",
       "    </tr>\n",
       "    <tr>\n",
       "      <th>25%</th>\n",
       "      <td>596484.500000</td>\n",
       "      <td>0.000000</td>\n",
       "      <td>1.000000</td>\n",
       "      <td>12.000000</td>\n",
       "      <td>1.000000</td>\n",
       "      <td>14.000000</td>\n",
       "      <td>15.000000</td>\n",
       "    </tr>\n",
       "    <tr>\n",
       "      <th>50%</th>\n",
       "      <td>615479.000000</td>\n",
       "      <td>0.000000</td>\n",
       "      <td>3.000000</td>\n",
       "      <td>248.000000</td>\n",
       "      <td>2.000000</td>\n",
       "      <td>14.000000</td>\n",
       "      <td>16.000000</td>\n",
       "    </tr>\n",
       "    <tr>\n",
       "      <th>75%</th>\n",
       "      <td>637387.250000</td>\n",
       "      <td>1.000000</td>\n",
       "      <td>5.000000</td>\n",
       "      <td>936.000000</td>\n",
       "      <td>3.000000</td>\n",
       "      <td>15.000000</td>\n",
       "      <td>18.000000</td>\n",
       "    </tr>\n",
       "    <tr>\n",
       "      <th>max</th>\n",
       "      <td>660737.000000</td>\n",
       "      <td>1.000000</td>\n",
       "      <td>251.000000</td>\n",
       "      <td>2272.000000</td>\n",
       "      <td>55.000000</td>\n",
       "      <td>18.000000</td>\n",
       "      <td>20.000000</td>\n",
       "    </tr>\n",
       "  </tbody>\n",
       "</table>\n",
       "</div>"
      ],
      "text/plain": [
       "         Lead Number    Converted  TotalVisits  Total Time Spent on Website  \\\n",
       "count    9240.000000  9240.000000  9103.000000                  9240.000000   \n",
       "mean   617188.435606     0.385390     3.445238                   487.698268   \n",
       "std     23405.995698     0.486714     4.854853                   548.021466   \n",
       "min    579533.000000     0.000000     0.000000                     0.000000   \n",
       "25%    596484.500000     0.000000     1.000000                    12.000000   \n",
       "50%    615479.000000     0.000000     3.000000                   248.000000   \n",
       "75%    637387.250000     1.000000     5.000000                   936.000000   \n",
       "max    660737.000000     1.000000   251.000000                  2272.000000   \n",
       "\n",
       "       Page Views Per Visit  Asymmetrique Activity Score  \\\n",
       "count           9103.000000                  5022.000000   \n",
       "mean               2.362820                    14.306252   \n",
       "std                2.161418                     1.386694   \n",
       "min                0.000000                     7.000000   \n",
       "25%                1.000000                    14.000000   \n",
       "50%                2.000000                    14.000000   \n",
       "75%                3.000000                    15.000000   \n",
       "max               55.000000                    18.000000   \n",
       "\n",
       "       Asymmetrique Profile Score  \n",
       "count                 5022.000000  \n",
       "mean                    16.344883  \n",
       "std                      1.811395  \n",
       "min                     11.000000  \n",
       "25%                     15.000000  \n",
       "50%                     16.000000  \n",
       "75%                     18.000000  \n",
       "max                     20.000000  "
      ]
     },
     "execution_count": 5,
     "metadata": {},
     "output_type": "execute_result"
    }
   ],
   "source": [
    "#Checking details of dataframe\n",
    "leads_df.describe()"
   ]
  },
  {
   "cell_type": "code",
   "execution_count": 6,
   "id": "5f8b1674",
   "metadata": {},
   "outputs": [
    {
     "name": "stdout",
     "output_type": "stream",
     "text": [
      "<class 'pandas.core.frame.DataFrame'>\n",
      "RangeIndex: 9240 entries, 0 to 9239\n",
      "Data columns (total 37 columns):\n",
      " #   Column                                         Non-Null Count  Dtype  \n",
      "---  ------                                         --------------  -----  \n",
      " 0   Prospect ID                                    9240 non-null   object \n",
      " 1   Lead Number                                    9240 non-null   int64  \n",
      " 2   Lead Origin                                    9240 non-null   object \n",
      " 3   Lead Source                                    9204 non-null   object \n",
      " 4   Do Not Email                                   9240 non-null   object \n",
      " 5   Do Not Call                                    9240 non-null   object \n",
      " 6   Converted                                      9240 non-null   int64  \n",
      " 7   TotalVisits                                    9103 non-null   float64\n",
      " 8   Total Time Spent on Website                    9240 non-null   int64  \n",
      " 9   Page Views Per Visit                           9103 non-null   float64\n",
      " 10  Last Activity                                  9137 non-null   object \n",
      " 11  Country                                        6779 non-null   object \n",
      " 12  Specialization                                 7802 non-null   object \n",
      " 13  How did you hear about X Education             7033 non-null   object \n",
      " 14  What is your current occupation                6550 non-null   object \n",
      " 15  What matters most to you in choosing a course  6531 non-null   object \n",
      " 16  Search                                         9240 non-null   object \n",
      " 17  Magazine                                       9240 non-null   object \n",
      " 18  Newspaper Article                              9240 non-null   object \n",
      " 19  X Education Forums                             9240 non-null   object \n",
      " 20  Newspaper                                      9240 non-null   object \n",
      " 21  Digital Advertisement                          9240 non-null   object \n",
      " 22  Through Recommendations                        9240 non-null   object \n",
      " 23  Receive More Updates About Our Courses         9240 non-null   object \n",
      " 24  Tags                                           5887 non-null   object \n",
      " 25  Lead Quality                                   4473 non-null   object \n",
      " 26  Update me on Supply Chain Content              9240 non-null   object \n",
      " 27  Get updates on DM Content                      9240 non-null   object \n",
      " 28  Lead Profile                                   6531 non-null   object \n",
      " 29  City                                           7820 non-null   object \n",
      " 30  Asymmetrique Activity Index                    5022 non-null   object \n",
      " 31  Asymmetrique Profile Index                     5022 non-null   object \n",
      " 32  Asymmetrique Activity Score                    5022 non-null   float64\n",
      " 33  Asymmetrique Profile Score                     5022 non-null   float64\n",
      " 34  I agree to pay the amount through cheque       9240 non-null   object \n",
      " 35  A free copy of Mastering The Interview         9240 non-null   object \n",
      " 36  Last Notable Activity                          9240 non-null   object \n",
      "dtypes: float64(4), int64(3), object(30)\n",
      "memory usage: 2.6+ MB\n"
     ]
    }
   ],
   "source": [
    "leads_df.info()"
   ]
  },
  {
   "cell_type": "markdown",
   "id": "91a582a0",
   "metadata": {},
   "source": [
    "We can see that there are columns have missing values."
   ]
  },
  {
   "cell_type": "markdown",
   "id": "8937fc78",
   "metadata": {},
   "source": [
    "## Data Cleaning & EDA\n",
    "<hr/>"
   ]
  },
  {
   "cell_type": "markdown",
   "id": "21f5b01a",
   "metadata": {},
   "source": [
    "#### Treatment of columns having high null values\n",
    "<hr/>"
   ]
  },
  {
   "cell_type": "code",
   "execution_count": 7,
   "id": "3983dbc9",
   "metadata": {},
   "outputs": [
    {
     "data": {
      "text/plain": [
       "Prospect ID                                       0.00\n",
       "Lead Number                                       0.00\n",
       "Lead Origin                                       0.00\n",
       "Lead Source                                       0.39\n",
       "Do Not Email                                      0.00\n",
       "Do Not Call                                       0.00\n",
       "Converted                                         0.00\n",
       "TotalVisits                                       1.48\n",
       "Total Time Spent on Website                       0.00\n",
       "Page Views Per Visit                              1.48\n",
       "Last Activity                                     1.11\n",
       "Country                                          26.63\n",
       "Specialization                                   15.56\n",
       "How did you hear about X Education               23.89\n",
       "What is your current occupation                  29.11\n",
       "What matters most to you in choosing a course    29.32\n",
       "Search                                            0.00\n",
       "Magazine                                          0.00\n",
       "Newspaper Article                                 0.00\n",
       "X Education Forums                                0.00\n",
       "Newspaper                                         0.00\n",
       "Digital Advertisement                             0.00\n",
       "Through Recommendations                           0.00\n",
       "Receive More Updates About Our Courses            0.00\n",
       "Tags                                             36.29\n",
       "Lead Quality                                     51.59\n",
       "Update me on Supply Chain Content                 0.00\n",
       "Get updates on DM Content                         0.00\n",
       "Lead Profile                                     29.32\n",
       "City                                             15.37\n",
       "Asymmetrique Activity Index                      45.65\n",
       "Asymmetrique Profile Index                       45.65\n",
       "Asymmetrique Activity Score                      45.65\n",
       "Asymmetrique Profile Score                       45.65\n",
       "I agree to pay the amount through cheque          0.00\n",
       "A free copy of Mastering The Interview            0.00\n",
       "Last Notable Activity                             0.00\n",
       "dtype: float64"
      ]
     },
     "execution_count": 7,
     "metadata": {},
     "output_type": "execute_result"
    }
   ],
   "source": [
    "# Lets see column wise Null Values %\n",
    "round((leads_df.isnull().sum()/leads_df.shape[0])*100,2)"
   ]
  },
  {
   "cell_type": "markdown",
   "id": "1cf0e180",
   "metadata": {},
   "source": [
    "- **We can see there are lots of columns which have more than 40% null values.**\n",
    "- **Hence we will drop these columns.**"
   ]
  },
  {
   "cell_type": "code",
   "execution_count": 8,
   "id": "1de001b3",
   "metadata": {},
   "outputs": [],
   "source": [
    "#dropping columns having more than 40% null values\n",
    "for i in leads_df.columns:\n",
    "    if round((leads_df[i].isnull().sum()/leads_df.shape[0])*100,2)>40:\n",
    "        leads_df.drop(i,axis=1,inplace=True)"
   ]
  },
  {
   "cell_type": "code",
   "execution_count": 9,
   "id": "8ed41871",
   "metadata": {},
   "outputs": [
    {
     "data": {
      "text/plain": [
       "Prospect ID                                       0.00\n",
       "Lead Number                                       0.00\n",
       "Lead Origin                                       0.00\n",
       "Lead Source                                       0.39\n",
       "Do Not Email                                      0.00\n",
       "Do Not Call                                       0.00\n",
       "Converted                                         0.00\n",
       "TotalVisits                                       1.48\n",
       "Total Time Spent on Website                       0.00\n",
       "Page Views Per Visit                              1.48\n",
       "Last Activity                                     1.11\n",
       "Country                                          26.63\n",
       "Specialization                                   15.56\n",
       "How did you hear about X Education               23.89\n",
       "What is your current occupation                  29.11\n",
       "What matters most to you in choosing a course    29.32\n",
       "Search                                            0.00\n",
       "Magazine                                          0.00\n",
       "Newspaper Article                                 0.00\n",
       "X Education Forums                                0.00\n",
       "Newspaper                                         0.00\n",
       "Digital Advertisement                             0.00\n",
       "Through Recommendations                           0.00\n",
       "Receive More Updates About Our Courses            0.00\n",
       "Tags                                             36.29\n",
       "Update me on Supply Chain Content                 0.00\n",
       "Get updates on DM Content                         0.00\n",
       "Lead Profile                                     29.32\n",
       "City                                             15.37\n",
       "I agree to pay the amount through cheque          0.00\n",
       "A free copy of Mastering The Interview            0.00\n",
       "Last Notable Activity                             0.00\n",
       "dtype: float64"
      ]
     },
     "execution_count": 9,
     "metadata": {},
     "output_type": "execute_result"
    }
   ],
   "source": [
    "#lets recheck the dataframe for null values\n",
    "round((leads_df.isnull().sum()/leads_df.shape[0])*100,2)"
   ]
  },
  {
   "cell_type": "markdown",
   "id": "daa468e1",
   "metadata": {},
   "source": [
    "- **We dropped the columns having more than 40% null values.**"
   ]
  },
  {
   "cell_type": "code",
   "execution_count": 10,
   "id": "16977503",
   "metadata": {},
   "outputs": [],
   "source": [
    "#Converting 'Select' values to NaN.\n",
    "\n",
    "leads_df = leads_df.replace('Select', np.nan)"
   ]
  },
  {
   "cell_type": "markdown",
   "id": "14ff4f97",
   "metadata": {},
   "source": [
    "Letus check columns one by one & clean them\n"
   ]
  },
  {
   "cell_type": "code",
   "execution_count": 11,
   "id": "feba54fa",
   "metadata": {},
   "outputs": [
    {
     "name": "stdout",
     "output_type": "stream",
     "text": [
      "Total Prospect ID's = 9240\n",
      "Total unique Prospect ID's = 9240\n"
     ]
    }
   ],
   "source": [
    "#Checking Prospect ID Columns\n",
    "print(\"Total Prospect ID's =\",leads_df['Prospect ID'].count())\n",
    "print(\"Total unique Prospect ID's =\" ,leads_df['Prospect ID'].nunique())\n"
   ]
  },
  {
   "cell_type": "markdown",
   "id": "b145a996",
   "metadata": {},
   "source": [
    "We can say for each record we are having unique prospect ID , hence we can drop this column.This is confirmed by data dictionary also."
   ]
  },
  {
   "cell_type": "code",
   "execution_count": 12,
   "id": "d11a826d",
   "metadata": {},
   "outputs": [],
   "source": [
    "#dropping Prospect ID columns\n",
    "leads_df.drop('Prospect ID',axis=1,inplace=True)"
   ]
  },
  {
   "cell_type": "code",
   "execution_count": 13,
   "id": "2bfc87f5",
   "metadata": {},
   "outputs": [
    {
     "name": "stdout",
     "output_type": "stream",
     "text": [
      "Total Lead Number's = 9240\n",
      "Total unique Lead Number's = 9240\n"
     ]
    }
   ],
   "source": [
    "#Checking Lead number\n",
    "print(\"Total Lead Number's =\",leads_df['Lead Number'].count())\n",
    "print(\"Total unique Lead Number's =\" ,leads_df['Lead Number'].nunique())\n"
   ]
  },
  {
   "cell_type": "markdown",
   "id": "80011abf",
   "metadata": {},
   "source": [
    "We can say for each record we are having unique Lead Number , hence we can drop this column."
   ]
  },
  {
   "cell_type": "code",
   "execution_count": 14,
   "id": "be898e58",
   "metadata": {},
   "outputs": [],
   "source": [
    "# dropping Lead Number \n",
    "leads_df.drop(\"Lead Number\",axis=1,inplace=True)"
   ]
  },
  {
   "cell_type": "code",
   "execution_count": 15,
   "id": "e607dadb",
   "metadata": {},
   "outputs": [
    {
     "data": {
      "text/plain": [
       "Landing Page Submission    4886\n",
       "API                        3580\n",
       "Lead Add Form               718\n",
       "Lead Import                  55\n",
       "Quick Add Form                1\n",
       "Name: Lead Origin, dtype: int64"
      ]
     },
     "execution_count": 15,
     "metadata": {},
     "output_type": "execute_result"
    }
   ],
   "source": [
    "# Checking Lead Origin\n",
    "leads_df['Lead Origin'].value_counts()"
   ]
  },
  {
   "cell_type": "code",
   "execution_count": 16,
   "id": "1a4ded88",
   "metadata": {},
   "outputs": [
    {
     "data": {
      "image/png": "[encoded data removed]",
      "text/plain": [
       "<Figure size 400x200 with 1 Axes>"
      ]
     },
     "metadata": {},
     "output_type": "display_data"
    }
   ],
   "source": [
    "# Lets do Univariate Analysis of Lead Origin \n",
    "plt.figure(figsize=(4,2))\n",
    "sns.countplot(x=leads_df['Lead Origin'],hue=leads_df['Converted'])\n",
    "plt.xticks(rotation=90)\n",
    "plt.show()"
   ]
  },
  {
   "cell_type": "markdown",
   "id": "f90e7e3b",
   "metadata": {},
   "source": [
    "- ***We can say that \"Lead Add Form \" have highest conversion rate in comparison of other.***"
   ]
  },
  {
   "cell_type": "code",
   "execution_count": 17,
   "id": "7c9da263",
   "metadata": {},
   "outputs": [
    {
     "data": {
      "text/plain": [
       "Google               2868\n",
       "Direct Traffic       2543\n",
       "Olark Chat           1755\n",
       "Organic Search       1154\n",
       "Reference             534\n",
       "Welingak Website      142\n",
       "Referral Sites        125\n",
       "Facebook               55\n",
       "bing                    6\n",
       "google                  5\n",
       "Click2call              4\n",
       "Press_Release           2\n",
       "Social Media            2\n",
       "Live Chat               2\n",
       "youtubechannel          1\n",
       "testone                 1\n",
       "Pay per Click Ads       1\n",
       "welearnblog_Home        1\n",
       "WeLearn                 1\n",
       "blog                    1\n",
       "NC_EDM                  1\n",
       "Name: Lead Source, dtype: int64"
      ]
     },
     "execution_count": 17,
     "metadata": {},
     "output_type": "execute_result"
    }
   ],
   "source": [
    "# Checking lead source column\n",
    "leads_df['Lead Source'].value_counts()"
   ]
  },
  {
   "cell_type": "markdown",
   "id": "3385d1ed",
   "metadata": {},
   "source": [
    "We can see there is two type of Google is written, since python is case senstive ,it is apperings as another varible category.\n",
    "- We can change google to Google.\n",
    "- We can merge few low value count columns to others."
   ]
  },
  {
   "cell_type": "code",
   "execution_count": 18,
   "id": "ffd4b9fa",
   "metadata": {},
   "outputs": [],
   "source": [
    "leads_df['Lead Source']=leads_df['Lead Source'].replace(\"google\",\"Google\")\n",
    "leads_df['Lead Source']=leads_df['Lead Source'].replace([\"Facebook\",'youtubechannel','Live Chat'],'Social Media')\n",
    "leads_df['Lead Source']=leads_df['Lead Source'].replace([\"blog\", \"Pay per Click Ads\",\"bing\",\"WeLearn\",\"Click2call\",\"welearnblog_Home\",\"testone\",\"Press_Release\",\"NC_EDM\"],\"Others\")"
   ]
  },
  {
   "cell_type": "code",
   "execution_count": 19,
   "id": "23f5482d",
   "metadata": {},
   "outputs": [
    {
     "data": {
      "text/plain": [
       "Google              2873\n",
       "Direct Traffic      2543\n",
       "Olark Chat          1755\n",
       "Organic Search      1154\n",
       "Reference            534\n",
       "Welingak Website     142\n",
       "Referral Sites       125\n",
       "Social Media          60\n",
       "Others                18\n",
       "Name: Lead Source, dtype: int64"
      ]
     },
     "execution_count": 19,
     "metadata": {},
     "output_type": "execute_result"
    }
   ],
   "source": [
    "# Lets check Lead Source Column again\n",
    "leads_df['Lead Source'].value_counts()"
   ]
  },
  {
   "cell_type": "code",
   "execution_count": 20,
   "id": "416b25f8",
   "metadata": {},
   "outputs": [
    {
     "data": {
      "image/png": "[encoded data removed]",
      "text/plain": [
       "<Figure size 1000x500 with 1 Axes>"
      ]
     },
     "metadata": {},
     "output_type": "display_data"
    }
   ],
   "source": [
    "# Lets do Univariate Analysis of Lead Source \n",
    "plt.figure(figsize=(10,5))\n",
    "s1=sns.countplot(leads_df['Lead Source'], hue=leads_df['Converted'])\n",
    "plt.xticks(rotation=90)\n",
    "plt.legend(loc=1)\n",
    "plt.show()"
   ]
  },
  {
   "cell_type": "markdown",
   "id": "330639a3",
   "metadata": {},
   "source": [
    " - **We Can see leads of Welingak Website & Reference have very higher conversion rate.**\n",
    " - **Where as Google, Direct Traffic , Organic Search & Olark Chat has lesser conversion ratio.**"
   ]
  },
  {
   "cell_type": "code",
   "execution_count": 21,
   "id": "64b20195",
   "metadata": {},
   "outputs": [
    {
     "data": {
      "text/plain": [
       "India                   6492\n",
       "NaN                     2461\n",
       "United States             69\n",
       "United Arab Emirates      53\n",
       "Singapore                 24\n",
       "Saudi Arabia              21\n",
       "United Kingdom            15\n",
       "Australia                 13\n",
       "Qatar                     10\n",
       "Bahrain                    7\n",
       "Hong Kong                  7\n",
       "Oman                       6\n",
       "France                     6\n",
       "unknown                    5\n",
       "Kuwait                     4\n",
       "South Africa               4\n",
       "Canada                     4\n",
       "Nigeria                    4\n",
       "Germany                    4\n",
       "Sweden                     3\n",
       "Philippines                2\n",
       "Uganda                     2\n",
       "Italy                      2\n",
       "Bangladesh                 2\n",
       "Netherlands                2\n",
       "Asia/Pacific Region        2\n",
       "China                      2\n",
       "Belgium                    2\n",
       "Ghana                      2\n",
       "Kenya                      1\n",
       "Sri Lanka                  1\n",
       "Tanzania                   1\n",
       "Malaysia                   1\n",
       "Liberia                    1\n",
       "Switzerland                1\n",
       "Denmark                    1\n",
       "Russia                     1\n",
       "Vietnam                    1\n",
       "Indonesia                  1\n",
       "Name: Country, dtype: int64"
      ]
     },
     "execution_count": 21,
     "metadata": {},
     "output_type": "execute_result"
    }
   ],
   "source": [
    "# Lets check Country \n",
    "leads_df['Country'].value_counts(dropna=False)"
   ]
  },
  {
   "cell_type": "code",
   "execution_count": 22,
   "id": "821bad92",
   "metadata": {},
   "outputs": [],
   "source": [
    "# Since India is the most common occurence among the non-missing values we can impute all missing values with India\n",
    "\n",
    "leads_df['Country']=leads_df['Country'].replace(np.NaN,\"India\")"
   ]
  },
  {
   "cell_type": "code",
   "execution_count": 23,
   "id": "5e829b80",
   "metadata": {},
   "outputs": [
    {
     "data": {
      "text/plain": [
       "India                   8953\n",
       "United States             69\n",
       "United Arab Emirates      53\n",
       "Singapore                 24\n",
       "Saudi Arabia              21\n",
       "United Kingdom            15\n",
       "Australia                 13\n",
       "Qatar                     10\n",
       "Hong Kong                  7\n",
       "Bahrain                    7\n",
       "Oman                       6\n",
       "France                     6\n",
       "unknown                    5\n",
       "South Africa               4\n",
       "Nigeria                    4\n",
       "Germany                    4\n",
       "Kuwait                     4\n",
       "Canada                     4\n",
       "Sweden                     3\n",
       "China                      2\n",
       "Asia/Pacific Region        2\n",
       "Uganda                     2\n",
       "Bangladesh                 2\n",
       "Italy                      2\n",
       "Belgium                    2\n",
       "Netherlands                2\n",
       "Ghana                      2\n",
       "Philippines                2\n",
       "Russia                     1\n",
       "Switzerland                1\n",
       "Vietnam                    1\n",
       "Denmark                    1\n",
       "Tanzania                   1\n",
       "Liberia                    1\n",
       "Malaysia                   1\n",
       "Kenya                      1\n",
       "Sri Lanka                  1\n",
       "Indonesia                  1\n",
       "Name: Country, dtype: int64"
      ]
     },
     "execution_count": 23,
     "metadata": {},
     "output_type": "execute_result"
    }
   ],
   "source": [
    "#Lets check Country column again\n",
    "leads_df['Country'].value_counts()"
   ]
  },
  {
   "cell_type": "code",
   "execution_count": 24,
   "id": "b16ba805",
   "metadata": {},
   "outputs": [
    {
     "data": {
      "text/plain": [
       "India                   96.89\n",
       "United States            0.75\n",
       "United Arab Emirates     0.57\n",
       "Singapore                0.26\n",
       "Saudi Arabia             0.23\n",
       "United Kingdom           0.16\n",
       "Australia                0.14\n",
       "Qatar                    0.11\n",
       "Hong Kong                0.08\n",
       "Bahrain                  0.08\n",
       "Oman                     0.06\n",
       "France                   0.06\n",
       "unknown                  0.05\n",
       "South Africa             0.04\n",
       "Nigeria                  0.04\n",
       "Germany                  0.04\n",
       "Kuwait                   0.04\n",
       "Canada                   0.04\n",
       "Sweden                   0.03\n",
       "China                    0.02\n",
       "Asia/Pacific Region      0.02\n",
       "Uganda                   0.02\n",
       "Bangladesh               0.02\n",
       "Italy                    0.02\n",
       "Belgium                  0.02\n",
       "Netherlands              0.02\n",
       "Ghana                    0.02\n",
       "Philippines              0.02\n",
       "Russia                   0.01\n",
       "Switzerland              0.01\n",
       "Vietnam                  0.01\n",
       "Denmark                  0.01\n",
       "Tanzania                 0.01\n",
       "Liberia                  0.01\n",
       "Malaysia                 0.01\n",
       "Kenya                    0.01\n",
       "Sri Lanka                0.01\n",
       "Indonesia                0.01\n",
       "Name: Country, dtype: float64"
      ]
     },
     "execution_count": 24,
     "metadata": {},
     "output_type": "execute_result"
    }
   ],
   "source": [
    "# Lets see % wise contribution\n",
    "round((leads_df['Country'].value_counts()/leads_df['Country'].count())*100,2)"
   ]
  },
  {
   "cell_type": "markdown",
   "id": "2882a289",
   "metadata": {},
   "source": [
    "**We Can See Clearly for 96% Leads country is India Only. Therefore we can drop this column.**"
   ]
  },
  {
   "cell_type": "code",
   "execution_count": 25,
   "id": "c5e25f9c",
   "metadata": {},
   "outputs": [],
   "source": [
    "#dropping country column\n",
    "leads_df.drop(\"Country\",1,inplace=True)"
   ]
  },
  {
   "cell_type": "code",
   "execution_count": 26,
   "id": "3ec9e958",
   "metadata": {},
   "outputs": [
    {
     "data": {
      "text/plain": [
       "NaN                            3669\n",
       "Mumbai                         3222\n",
       "Thane & Outskirts               752\n",
       "Other Cities                    686\n",
       "Other Cities of Maharashtra     457\n",
       "Other Metro Cities              380\n",
       "Tier II Cities                   74\n",
       "Name: City, dtype: int64"
      ]
     },
     "execution_count": 26,
     "metadata": {},
     "output_type": "execute_result"
    }
   ],
   "source": [
    "#Letus check City Column\n",
    "leads_df['City'].value_counts(dropna=False)"
   ]
  },
  {
   "cell_type": "code",
   "execution_count": 27,
   "id": "f900e580",
   "metadata": {},
   "outputs": [],
   "source": [
    "#Since Mumbai is mode of this column values , we can replace NaN values to Mumbai\n",
    "leads_df['City']=leads_df['City'].replace(np.NaN,\"Mumbai\")"
   ]
  },
  {
   "cell_type": "code",
   "execution_count": 28,
   "id": "dcfda8bb",
   "metadata": {},
   "outputs": [
    {
     "data": {
      "image/png": "[encoded data removed]",
      "text/plain": [
       "<Figure size 600x300 with 1 Axes>"
      ]
     },
     "metadata": {},
     "output_type": "display_data"
    }
   ],
   "source": [
    "# Lets do Univariate Analysis of city \n",
    "plt.figure(figsize=(6,3))\n",
    "s1=sns.countplot(leads_df['City'], hue=leads_df['Converted'])\n",
    "plt.xticks(rotation=90)\n",
    "plt.legend(loc=1)\n",
    "plt.show()"
   ]
  },
  {
   "cell_type": "code",
   "execution_count": null,
   "id": "ace637b8",
   "metadata": {},
   "outputs": [],
   "source": []
  },
  {
   "cell_type": "code",
   "execution_count": 29,
   "id": "4ee84f47",
   "metadata": {},
   "outputs": [
    {
     "data": {
      "text/plain": [
       "Email Opened                    3437\n",
       "SMS Sent                        2745\n",
       "Olark Chat Conversation          973\n",
       "Page Visited on Website          640\n",
       "Converted to Lead                428\n",
       "Email Bounced                    326\n",
       "Email Link Clicked               267\n",
       "Form Submitted on Website        116\n",
       "NaN                              103\n",
       "Unreachable                       93\n",
       "Unsubscribed                      61\n",
       "Had a Phone Conversation          30\n",
       "Approached upfront                 9\n",
       "View in browser link Clicked       6\n",
       "Email Received                     2\n",
       "Email Marked Spam                  2\n",
       "Visited Booth in Tradeshow         1\n",
       "Resubscribed to emails             1\n",
       "Name: Last Activity, dtype: int64"
      ]
     },
     "execution_count": 29,
     "metadata": {},
     "output_type": "execute_result"
    }
   ],
   "source": [
    "# Lets check Last Activity\n",
    "leads_df[\"Last Activity\"].value_counts(dropna=False)"
   ]
  },
  {
   "cell_type": "markdown",
   "id": "293dbc7a",
   "metadata": {},
   "source": [
    "Since Email Opened is mod of the column , we can replace NaN values to Email Opened .\n",
    "We can merge fewer value_counts to others\n"
   ]
  },
  {
   "cell_type": "code",
   "execution_count": 30,
   "id": "0fb001da",
   "metadata": {},
   "outputs": [],
   "source": [
    "leads_df[\"Last Activity\"]=leads_df[\"Last Activity\"].replace(np.NaN,\"Email Opened\")\n",
    "leads_df[\"Last Activity\"]=leads_df[\"Last Activity\"].replace([\"Had a Phone Conversation\",\"Approached upfront\",\"View in browser link Clicked\",\"Email Received\",\"Email Marked Spam\",\"Visited Booth in Tradeshow\",\"Resubscribed to emails\"],\"Others\")"
   ]
  },
  {
   "cell_type": "code",
   "execution_count": 31,
   "id": "21698957",
   "metadata": {},
   "outputs": [
    {
     "data": {
      "text/plain": [
       "Email Opened                 3540\n",
       "SMS Sent                     2745\n",
       "Olark Chat Conversation       973\n",
       "Page Visited on Website       640\n",
       "Converted to Lead             428\n",
       "Email Bounced                 326\n",
       "Email Link Clicked            267\n",
       "Form Submitted on Website     116\n",
       "Unreachable                    93\n",
       "Unsubscribed                   61\n",
       "Others                         51\n",
       "Name: Last Activity, dtype: int64"
      ]
     },
     "execution_count": 31,
     "metadata": {},
     "output_type": "execute_result"
    }
   ],
   "source": [
    "leads_df[\"Last Activity\"].value_counts(dropna=False)"
   ]
  },
  {
   "cell_type": "code",
   "execution_count": 32,
   "id": "9bf9c20f",
   "metadata": {},
   "outputs": [
    {
     "data": {
      "image/png": "[encoded data removed]",
      "text/plain": [
       "<Figure size 400x200 with 1 Axes>"
      ]
     },
     "metadata": {},
     "output_type": "display_data"
    }
   ],
   "source": [
    "# Lets check the spread of Last Activity\n",
    "plt.figure(figsize=(4,2))\n",
    "sns.countplot(x=leads_df[\"Last Activity\"],hue=leads_df[\"Converted\"])\n",
    "plt.xticks(rotation=90)\n",
    "plt.show()"
   ]
  },
  {
   "cell_type": "markdown",
   "id": "9228a4ff",
   "metadata": {},
   "source": [
    "**We can clearly see that SMS Sent has high conversion rate than others.**"
   ]
  },
  {
   "cell_type": "code",
   "execution_count": 33,
   "id": "d01b971b",
   "metadata": {},
   "outputs": [
    {
     "data": {
      "text/plain": [
       "NaN                                  3380\n",
       "Finance Management                    976\n",
       "Human Resource Management             848\n",
       "Marketing Management                  838\n",
       "Operations Management                 503\n",
       "Business Administration               403\n",
       "IT Projects Management                366\n",
       "Supply Chain Management               349\n",
       "Banking, Investment And Insurance     338\n",
       "Travel and Tourism                    203\n",
       "Media and Advertising                 203\n",
       "International Business                178\n",
       "Healthcare Management                 159\n",
       "Hospitality Management                114\n",
       "E-COMMERCE                            112\n",
       "Retail Management                     100\n",
       "Rural and Agribusiness                 73\n",
       "E-Business                             57\n",
       "Services Excellence                    40\n",
       "Name: Specialization, dtype: int64"
      ]
     },
     "execution_count": 33,
     "metadata": {},
     "output_type": "execute_result"
    }
   ],
   "source": [
    "# Lets check Specialization column\n",
    "leads_df[\"Specialization\"].value_counts(dropna=False)"
   ]
  },
  {
   "cell_type": "code",
   "execution_count": 34,
   "id": "683945d4",
   "metadata": {},
   "outputs": [],
   "source": [
    "# Since No column is having more counts than NaN values , we can imput Others in place of NaN values.\n",
    "leads_df[\"Specialization\"]=leads_df[\"Specialization\"].replace(np.NaN,\"Others\")"
   ]
  },
  {
   "cell_type": "code",
   "execution_count": 35,
   "id": "19cae66b",
   "metadata": {},
   "outputs": [],
   "source": [
    "# Since there are many columns having Management in common we can merge them into one.\n",
    "leads_df[\"Specialization\"]=leads_df[\"Specialization\"].replace([\"Finance Management\",\"Human Resource Management\",\n",
    "                                                               \"Marketing Management\",\n",
    "                                                               \"Operations Management\",\n",
    "                                                               \"IT Projects Management\",\"Supply Chain Management\",\n",
    "                                                              \"Healthcare Management\",\n",
    "                                                               \"Hospitality Management\",\n",
    "                                                               \"Retail Management\"],\"Management\")\n",
    "leads_df[\"Specialization\"]=leads_df[\"Specialization\"].replace([\"E-COMMERCE\",\"E-Business\"],\"E_Commerce\")"
   ]
  },
  {
   "cell_type": "code",
   "execution_count": 36,
   "id": "46d00847",
   "metadata": {},
   "outputs": [
    {
     "data": {
      "text/plain": [
       "Management                           4253\n",
       "Others                               3380\n",
       "Business Administration               403\n",
       "Banking, Investment And Insurance     338\n",
       "Media and Advertising                 203\n",
       "Travel and Tourism                    203\n",
       "International Business                178\n",
       "E_Commerce                            169\n",
       "Rural and Agribusiness                 73\n",
       "Services Excellence                    40\n",
       "Name: Specialization, dtype: int64"
      ]
     },
     "execution_count": 36,
     "metadata": {},
     "output_type": "execute_result"
    }
   ],
   "source": [
    "leads_df[\"Specialization\"].value_counts(dropna=False)"
   ]
  },
  {
   "cell_type": "code",
   "execution_count": 37,
   "id": "c6be5883",
   "metadata": {},
   "outputs": [
    {
     "data": {
      "image/png": "[encoded data removed]",
      "text/plain": [
       "<Figure size 400x200 with 1 Axes>"
      ]
     },
     "metadata": {},
     "output_type": "display_data"
    }
   ],
   "source": [
    "# Lets check spread of Specialization column\n",
    "plt.figure(figsize=(4,2))\n",
    "sns.countplot(x=leads_df[\"Specialization\"],hue=leads_df[\"Converted\"])\n",
    "plt.xticks(rotation=90)\n",
    "plt.show()"
   ]
  },
  {
   "cell_type": "code",
   "execution_count": 38,
   "id": "0860ee38",
   "metadata": {},
   "outputs": [
    {
     "data": {
      "text/plain": [
       "NaN                      7250\n",
       "Online Search             808\n",
       "Word Of Mouth             348\n",
       "Student of SomeSchool     310\n",
       "Other                     186\n",
       "Multiple Sources          152\n",
       "Advertisements             70\n",
       "Social Media               67\n",
       "Email                      26\n",
       "SMS                        23\n",
       "Name: How did you hear about X Education, dtype: int64"
      ]
     },
     "execution_count": 38,
     "metadata": {},
     "output_type": "execute_result"
    }
   ],
   "source": [
    "#How did you hear about X Education'\n",
    "\n",
    "leads_df['How did you hear about X Education'].value_counts(dropna=False)"
   ]
  },
  {
   "cell_type": "code",
   "execution_count": 39,
   "id": "eebf5e11",
   "metadata": {},
   "outputs": [],
   "source": [
    "#Lets replace NaN values to Unknown Sources \n",
    "leads_df['How did you hear about X Education']=leads_df['How did you hear about X Education'].replace(np.NaN,\"Unknown Sources\")"
   ]
  },
  {
   "cell_type": "code",
   "execution_count": 40,
   "id": "201ac54d",
   "metadata": {},
   "outputs": [
    {
     "data": {
      "image/png": "[encoded data removed]",
      "text/plain": [
       "<Figure size 400x200 with 1 Axes>"
      ]
     },
     "metadata": {},
     "output_type": "display_data"
    }
   ],
   "source": [
    "#Lets check the spread of this column with converted leads\n",
    "plt.figure(figsize=(4,2))\n",
    "sns.countplot(x=leads_df[\"How did you hear about X Education\"],hue=leads_df[\"Converted\"])\n",
    "plt.xticks(rotation=90)\n",
    "plt.show()"
   ]
  },
  {
   "cell_type": "code",
   "execution_count": 41,
   "id": "9f659d2c",
   "metadata": {},
   "outputs": [
    {
     "data": {
      "text/plain": [
       "Unemployed              5600\n",
       "NaN                     2690\n",
       "Working Professional     706\n",
       "Student                  210\n",
       "Other                     16\n",
       "Housewife                 10\n",
       "Businessman                8\n",
       "Name: What is your current occupation, dtype: int64"
      ]
     },
     "execution_count": 41,
     "metadata": {},
     "output_type": "execute_result"
    }
   ],
   "source": [
    "#Lets check Column-- What is your current occupation\n",
    "leads_df[\"What is your current occupation\"].value_counts(dropna=False)\n"
   ]
  },
  {
   "cell_type": "code",
   "execution_count": 42,
   "id": "c7f4220d",
   "metadata": {},
   "outputs": [],
   "source": [
    "#Changing NaN Values to Unemployed Category\n",
    "leads_df[\"What is your current occupation\"]=leads_df[\"What is your current occupation\"].replace(np.NaN,\"Unemployed\")"
   ]
  },
  {
   "cell_type": "code",
   "execution_count": 43,
   "id": "37f96317",
   "metadata": {},
   "outputs": [
    {
     "data": {
      "image/png": "[encoded data removed]",
      "text/plain": [
       "<Figure size 400x200 with 1 Axes>"
      ]
     },
     "metadata": {},
     "output_type": "display_data"
    }
   ],
   "source": [
    "#Letus check the spread of column with respect to Converted Column\n",
    "plt.figure(figsize=(4,2))\n",
    "sns.countplot(x=leads_df[\"What is your current occupation\"],hue=leads_df[\"Converted\"])\n",
    "plt.xticks(rotation=90)\n",
    "plt.show()"
   ]
  },
  {
   "cell_type": "markdown",
   "id": "5d9e5ea3",
   "metadata": {},
   "source": [
    "- **We can clearly see that Working Professional are more succesfull leads.**\n",
    "- **In terms of absolute numbers , unemployed is high.**"
   ]
  },
  {
   "cell_type": "code",
   "execution_count": 44,
   "id": "d9768852",
   "metadata": {},
   "outputs": [
    {
     "data": {
      "text/plain": [
       "Better Career Prospects      6528\n",
       "NaN                          2709\n",
       "Flexibility & Convenience       2\n",
       "Other                           1\n",
       "Name: What matters most to you in choosing a course, dtype: int64"
      ]
     },
     "execution_count": 44,
     "metadata": {},
     "output_type": "execute_result"
    }
   ],
   "source": [
    "#Lets check What matters most to you in choosing a course column\n",
    "leads_df[\"What matters most to you in choosing a course\"].value_counts(dropna=False)"
   ]
  },
  {
   "cell_type": "code",
   "execution_count": 45,
   "id": "aa71576e",
   "metadata": {},
   "outputs": [],
   "source": [
    "#We Can replace NaN values to Better Career Prospects.\n",
    "leads_df[\"What matters most to you in choosing a course\"]=leads_df[\"What matters most to you in choosing a course\"].replace(np.NaN,\"Better Career Prospects\")"
   ]
  },
  {
   "cell_type": "code",
   "execution_count": 46,
   "id": "0a20fe26",
   "metadata": {},
   "outputs": [
    {
     "data": {
      "text/plain": [
       "Better Career Prospects      9237\n",
       "Flexibility & Convenience       2\n",
       "Other                           1\n",
       "Name: What matters most to you in choosing a course, dtype: int64"
      ]
     },
     "execution_count": 46,
     "metadata": {},
     "output_type": "execute_result"
    }
   ],
   "source": [
    "# Lets check again\n",
    "leads_df[\"What matters most to you in choosing a course\"].value_counts(dropna=False)"
   ]
  },
  {
   "cell_type": "markdown",
   "id": "2bc300ef",
   "metadata": {},
   "source": [
    "Since column category is almost same as \"Better Career Prospects\". We can drop this column."
   ]
  },
  {
   "cell_type": "code",
   "execution_count": 47,
   "id": "5da82bbc",
   "metadata": {},
   "outputs": [],
   "source": [
    "Drop_Column=[]"
   ]
  },
  {
   "cell_type": "code",
   "execution_count": 48,
   "id": "d8cd5077",
   "metadata": {},
   "outputs": [],
   "source": [
    "#adding column to Dr0p_Column list\n",
    "Drop_Column.append(\"What matters most to you in choosing a course\")"
   ]
  },
  {
   "cell_type": "code",
   "execution_count": 49,
   "id": "2579aa45",
   "metadata": {},
   "outputs": [
    {
     "data": {
      "text/plain": [
       "No     9226\n",
       "Yes      14\n",
       "Name: Search, dtype: int64"
      ]
     },
     "execution_count": 49,
     "metadata": {},
     "output_type": "execute_result"
    }
   ],
   "source": [
    "#Lets check Search Column\n",
    "leads_df[\"Search\"].value_counts(dropna=False)"
   ]
  },
  {
   "cell_type": "code",
   "execution_count": 50,
   "id": "4a8c23fb",
   "metadata": {},
   "outputs": [],
   "source": [
    "#We can drop this column also . Adding to Drop_Column list\n",
    "Drop_Column.append(\"Search\")"
   ]
  },
  {
   "cell_type": "code",
   "execution_count": 51,
   "id": "c85e13c3",
   "metadata": {},
   "outputs": [
    {
     "data": {
      "text/plain": [
       "No    9240\n",
       "Name: Magazine, dtype: int64"
      ]
     },
     "execution_count": 51,
     "metadata": {},
     "output_type": "execute_result"
    }
   ],
   "source": [
    "# Lets check Magazine Column\n",
    "leads_df[\"Magazine\"].value_counts(dropna=False)"
   ]
  },
  {
   "cell_type": "code",
   "execution_count": 52,
   "id": "c94a97be",
   "metadata": {},
   "outputs": [],
   "source": [
    "#We can drop this column also . Adding to Drop_Column list\n",
    "Drop_Column.append(\"Magazine\")"
   ]
  },
  {
   "cell_type": "code",
   "execution_count": 53,
   "id": "19945156",
   "metadata": {},
   "outputs": [
    {
     "data": {
      "text/plain": [
       "No     9238\n",
       "Yes       2\n",
       "Name: Newspaper Article, dtype: int64"
      ]
     },
     "execution_count": 53,
     "metadata": {},
     "output_type": "execute_result"
    }
   ],
   "source": [
    "#Lets check Newspaper Article column\n",
    "leads_df[\"Newspaper Article\"].value_counts(dropna=False)"
   ]
  },
  {
   "cell_type": "code",
   "execution_count": 54,
   "id": "b66120b8",
   "metadata": {},
   "outputs": [],
   "source": [
    "#We can drop this column also . Adding to Drop_Column list\n",
    "Drop_Column.append(\"Newspaper Article\")"
   ]
  },
  {
   "cell_type": "code",
   "execution_count": 55,
   "id": "15def297",
   "metadata": {},
   "outputs": [
    {
     "data": {
      "text/plain": [
       "No     9239\n",
       "Yes       1\n",
       "Name: X Education Forums, dtype: int64"
      ]
     },
     "execution_count": 55,
     "metadata": {},
     "output_type": "execute_result"
    }
   ],
   "source": [
    "# Letus check X Education Forums column\n",
    "leads_df['X Education Forums'].value_counts(dropna=False)"
   ]
  },
  {
   "cell_type": "code",
   "execution_count": 56,
   "id": "460aa931",
   "metadata": {},
   "outputs": [],
   "source": [
    "#We can drop this column also . Adding to Drop_Column list\n",
    "Drop_Column.append(\"X Education Forums\")"
   ]
  },
  {
   "cell_type": "code",
   "execution_count": 57,
   "id": "4884e57f",
   "metadata": {},
   "outputs": [
    {
     "data": {
      "text/plain": [
       "No     9239\n",
       "Yes       1\n",
       "Name: Newspaper, dtype: int64"
      ]
     },
     "execution_count": 57,
     "metadata": {},
     "output_type": "execute_result"
    }
   ],
   "source": [
    "# Lets check Newspaper Column\n",
    "leads_df[\"Newspaper\"].value_counts(dropna=False)"
   ]
  },
  {
   "cell_type": "code",
   "execution_count": 58,
   "id": "3084ac43",
   "metadata": {},
   "outputs": [],
   "source": [
    "#We can drop this column also . Adding to Drop_Column list\n",
    "Drop_Column.append(\"Newspaper\")"
   ]
  },
  {
   "cell_type": "code",
   "execution_count": 59,
   "id": "ffb1aa79",
   "metadata": {},
   "outputs": [
    {
     "data": {
      "text/plain": [
       "Index(['Lead Origin', 'Lead Source', 'Do Not Email', 'Do Not Call',\n",
       "       'Converted', 'TotalVisits', 'Total Time Spent on Website',\n",
       "       'Page Views Per Visit', 'Last Activity', 'Specialization',\n",
       "       'How did you hear about X Education', 'What is your current occupation',\n",
       "       'What matters most to you in choosing a course', 'Search', 'Magazine',\n",
       "       'Newspaper Article', 'X Education Forums', 'Newspaper',\n",
       "       'Digital Advertisement', 'Through Recommendations',\n",
       "       'Receive More Updates About Our Courses', 'Tags',\n",
       "       'Update me on Supply Chain Content', 'Get updates on DM Content',\n",
       "       'Lead Profile', 'City', 'I agree to pay the amount through cheque',\n",
       "       'A free copy of Mastering The Interview', 'Last Notable Activity'],\n",
       "      dtype='object')"
      ]
     },
     "execution_count": 59,
     "metadata": {},
     "output_type": "execute_result"
    }
   ],
   "source": [
    "leads_df.columns"
   ]
  },
  {
   "cell_type": "code",
   "execution_count": 60,
   "id": "4c84be9d",
   "metadata": {},
   "outputs": [
    {
     "data": {
      "text/plain": [
       "No     9236\n",
       "Yes       4\n",
       "Name: Digital Advertisement, dtype: int64"
      ]
     },
     "execution_count": 60,
     "metadata": {},
     "output_type": "execute_result"
    }
   ],
   "source": [
    "# Letus check Digital Advertisement column\n",
    "leads_df[\"Digital Advertisement\"].value_counts(dropna=False)"
   ]
  },
  {
   "cell_type": "code",
   "execution_count": 61,
   "id": "ccd72bb9",
   "metadata": {},
   "outputs": [],
   "source": [
    "# We can drop this column also . Adding to Drop_Column list\n",
    "Drop_Column.append(\"Digital Advertisement\")"
   ]
  },
  {
   "cell_type": "code",
   "execution_count": 62,
   "id": "80e0e805",
   "metadata": {},
   "outputs": [
    {
     "data": {
      "text/plain": [
       "No     9233\n",
       "Yes       7\n",
       "Name: Through Recommendations, dtype: int64"
      ]
     },
     "execution_count": 62,
     "metadata": {},
     "output_type": "execute_result"
    }
   ],
   "source": [
    "# Letus check Through Recommendations column\n",
    "leads_df[\"Through Recommendations\"].value_counts(dropna=False)"
   ]
  },
  {
   "cell_type": "code",
   "execution_count": 63,
   "id": "710b9322",
   "metadata": {},
   "outputs": [],
   "source": [
    "# We can drop this column also . Adding to Drop_Column list\n",
    "Drop_Column.append(\"Through Recommendations\")"
   ]
  },
  {
   "cell_type": "code",
   "execution_count": 64,
   "id": "85f953c8",
   "metadata": {},
   "outputs": [
    {
     "data": {
      "text/plain": [
       "No    9240\n",
       "Name: Receive More Updates About Our Courses, dtype: int64"
      ]
     },
     "execution_count": 64,
     "metadata": {},
     "output_type": "execute_result"
    }
   ],
   "source": [
    "# Letus check Receive More Updates About Our Courses column\n",
    "leads_df[\"Receive More Updates About Our Courses\"].value_counts(dropna=False)"
   ]
  },
  {
   "cell_type": "code",
   "execution_count": 65,
   "id": "379e53b8",
   "metadata": {},
   "outputs": [],
   "source": [
    "# We can drop this column also . Adding to Drop_Column list\n",
    "Drop_Column.append(\"Receive More Updates About Our Courses\")"
   ]
  },
  {
   "cell_type": "code",
   "execution_count": 66,
   "id": "ce68d103",
   "metadata": {
    "scrolled": true
   },
   "outputs": [
    {
     "data": {
      "text/plain": [
       "NaN                                                  3353\n",
       "Will revert after reading the email                  2072\n",
       "Ringing                                              1203\n",
       "Interested in other courses                           513\n",
       "Already a student                                     465\n",
       "Closed by Horizzon                                    358\n",
       "switched off                                          240\n",
       "Busy                                                  186\n",
       "Lost to EINS                                          175\n",
       "Not doing further education                           145\n",
       "Interested  in full time MBA                          117\n",
       "Graduation in progress                                111\n",
       "invalid number                                         83\n",
       "Diploma holder (Not Eligible)                          63\n",
       "wrong number given                                     47\n",
       "opp hangup                                             33\n",
       "number not provided                                    27\n",
       "in touch with EINS                                     12\n",
       "Lost to Others                                          7\n",
       "Still Thinking                                          6\n",
       "Want to take admission but has financial problems       6\n",
       "In confusion whether part time or DLP                   5\n",
       "Interested in Next batch                                5\n",
       "Lateral student                                         3\n",
       "Shall take in the next coming month                     2\n",
       "University not recognized                               2\n",
       "Recognition issue (DEC approval)                        1\n",
       "Name: Tags, dtype: int64"
      ]
     },
     "execution_count": 66,
     "metadata": {},
     "output_type": "execute_result"
    }
   ],
   "source": [
    "# Letus Check Tags column\n",
    "leads_df[\"Tags\"].value_counts(dropna=False)"
   ]
  },
  {
   "cell_type": "markdown",
   "id": "f4f810c1",
   "metadata": {},
   "source": [
    "We can convert NaN values to Will revert after reading the email.\n",
    "Also we can merge fewer value counts columns to others"
   ]
  },
  {
   "cell_type": "code",
   "execution_count": 67,
   "id": "88f25aa0",
   "metadata": {},
   "outputs": [],
   "source": [
    "leads_df['Tags']=leads_df['Tags'].replace(np.NaN,\"Will revert after reading the email\")"
   ]
  },
  {
   "cell_type": "code",
   "execution_count": 68,
   "id": "9ac4477b",
   "metadata": {},
   "outputs": [],
   "source": [
    "leads_df[\"Tags\"]=leads_df[\"Tags\"].replace([\"invalid number\",\"Diploma holder (Not Eligible)\",\n",
    "                                           \"wrong number given\",\"opp hangup\",\n",
    "                                           \"number not provided\",\"in touch with EINS\",\"Lost to Others\",\"Still Thinking\"\n",
    "                                           ,\"Want to take admission but has financial problems\",\"In confusion whether part time or DLP\",\n",
    "                                           \"Interested in Next batch\",\"Lateral student\",\"Shall take in the next coming month\",\n",
    "                                           \"University not recognized\",\"Recognition issue (DEC approval)\"],\"Others\")"
   ]
  },
  {
   "cell_type": "code",
   "execution_count": 69,
   "id": "cdab1f82",
   "metadata": {},
   "outputs": [
    {
     "data": {
      "text/plain": [
       "Will revert after reading the email    5425\n",
       "Ringing                                1203\n",
       "Interested in other courses             513\n",
       "Already a student                       465\n",
       "Closed by Horizzon                      358\n",
       "Others                                  302\n",
       "switched off                            240\n",
       "Busy                                    186\n",
       "Lost to EINS                            175\n",
       "Not doing further education             145\n",
       "Interested  in full time MBA            117\n",
       "Graduation in progress                  111\n",
       "Name: Tags, dtype: int64"
      ]
     },
     "execution_count": 69,
     "metadata": {},
     "output_type": "execute_result"
    }
   ],
   "source": [
    "# Letus check again\n",
    "leads_df[\"Tags\"].value_counts(dropna=False)"
   ]
  },
  {
   "cell_type": "code",
   "execution_count": 70,
   "id": "82a36db3",
   "metadata": {},
   "outputs": [
    {
     "data": {
      "image/png": "[encoded data removed]",
      "text/plain": [
       "<Figure size 400x200 with 1 Axes>"
      ]
     },
     "metadata": {},
     "output_type": "display_data"
    }
   ],
   "source": [
    "# Letus check spread of column with respect to  converted \n",
    "plt.figure(figsize=(4,2))\n",
    "sns.countplot(x=leads_df[\"Tags\"],hue=leads_df[\"Converted\"])\n",
    "plt.xticks(rotation=90)\n",
    "plt.show()"
   ]
  },
  {
   "cell_type": "code",
   "execution_count": 71,
   "id": "5cf4d21a",
   "metadata": {},
   "outputs": [
    {
     "data": {
      "text/plain": [
       "No    9240\n",
       "Name: Update me on Supply Chain Content, dtype: int64"
      ]
     },
     "execution_count": 71,
     "metadata": {},
     "output_type": "execute_result"
    }
   ],
   "source": [
    "# Letus check 'Update me on Supply Chain Content' column\n",
    "leads_df['Update me on Supply Chain Content'].value_counts(dropna=False)"
   ]
  },
  {
   "cell_type": "code",
   "execution_count": 72,
   "id": "ec3e8805",
   "metadata": {},
   "outputs": [],
   "source": [
    "# We can drop this column also . Adding to Drop_Column list\n",
    "Drop_Column.append(\"Update me on Supply Chain Content\")"
   ]
  },
  {
   "cell_type": "code",
   "execution_count": 73,
   "id": "1bba3482",
   "metadata": {},
   "outputs": [
    {
     "data": {
      "text/plain": [
       "No    9240\n",
       "Name: Get updates on DM Content, dtype: int64"
      ]
     },
     "execution_count": 73,
     "metadata": {},
     "output_type": "execute_result"
    }
   ],
   "source": [
    "# Letus check 'Get updates on DM Content'\n",
    "leads_df[\"Get updates on DM Content\"].value_counts(dropna=False)"
   ]
  },
  {
   "cell_type": "code",
   "execution_count": 74,
   "id": "cf03a060",
   "metadata": {},
   "outputs": [],
   "source": [
    "# We can drop this column also . Adding to Drop_Column list\n",
    "Drop_Column.append(\"Get updates on DM Content\")"
   ]
  },
  {
   "cell_type": "code",
   "execution_count": 75,
   "id": "0b8551b8",
   "metadata": {},
   "outputs": [
    {
     "data": {
      "text/plain": [
       "NaN                            6855\n",
       "Potential Lead                 1613\n",
       "Other Leads                     487\n",
       "Student of SomeSchool           241\n",
       "Lateral Student                  24\n",
       "Dual Specialization Student      20\n",
       "Name: Lead Profile, dtype: int64"
      ]
     },
     "execution_count": 75,
     "metadata": {},
     "output_type": "execute_result"
    }
   ],
   "source": [
    "# Letus check 'Lead Profile'\n",
    "leads_df[\"Lead Profile\"].value_counts(dropna=False)"
   ]
  },
  {
   "cell_type": "markdown",
   "id": "b07abfed",
   "metadata": {},
   "source": [
    "We can convert NaN values to Unidentified category`"
   ]
  },
  {
   "cell_type": "code",
   "execution_count": 76,
   "id": "c28d3d43",
   "metadata": {},
   "outputs": [],
   "source": [
    "leads_df[\"Lead Profile\"]=leads_df[\"Lead Profile\"].replace(np.NaN,\"Unidentified\")"
   ]
  },
  {
   "cell_type": "code",
   "execution_count": 77,
   "id": "271a2c31",
   "metadata": {},
   "outputs": [
    {
     "data": {
      "image/png": "[encoded data removed]",
      "text/plain": [
       "<Figure size 400x200 with 1 Axes>"
      ]
     },
     "metadata": {},
     "output_type": "display_data"
    }
   ],
   "source": [
    "# Letus check spread of the column with respect to converted\n",
    "plt.figure(figsize=(4,2))\n",
    "sns.countplot(x=leads_df[\"Lead Profile\"],hue=leads_df[\"Converted\"])\n",
    "plt.xticks(rotation=90)\n",
    "plt.show()"
   ]
  },
  {
   "cell_type": "markdown",
   "id": "6faed660",
   "metadata": {},
   "source": [
    "Column with Potential Lead is higher conversion rate . In absolute numbers , unidentified category is having more columns."
   ]
  },
  {
   "cell_type": "code",
   "execution_count": 78,
   "id": "b4735e28",
   "metadata": {},
   "outputs": [
    {
     "data": {
      "text/plain": [
       "No    9240\n",
       "Name: I agree to pay the amount through cheque, dtype: int64"
      ]
     },
     "execution_count": 78,
     "metadata": {},
     "output_type": "execute_result"
    }
   ],
   "source": [
    "# Letus check I agree to pay the amount through cheque column\n",
    "leads_df[\"I agree to pay the amount through cheque\"].value_counts(dropna=False)"
   ]
  },
  {
   "cell_type": "code",
   "execution_count": 79,
   "id": "4b4cf062",
   "metadata": {},
   "outputs": [],
   "source": [
    "# We can drop this column also . Adding to Drop_Column list\n",
    "Drop_Column.append(\"I agree to pay the amount through cheque\")"
   ]
  },
  {
   "cell_type": "code",
   "execution_count": 80,
   "id": "b60a1977",
   "metadata": {},
   "outputs": [
    {
     "data": {
      "text/plain": [
       "No     6352\n",
       "Yes    2888\n",
       "Name: A free copy of Mastering The Interview, dtype: int64"
      ]
     },
     "execution_count": 80,
     "metadata": {},
     "output_type": "execute_result"
    }
   ],
   "source": [
    "# Letus check 'A free copy of Mastering The Interview' column\n",
    "leads_df[\"A free copy of Mastering The Interview\"].value_counts(dropna=False)"
   ]
  },
  {
   "cell_type": "code",
   "execution_count": 81,
   "id": "f72a7dfa",
   "metadata": {
    "scrolled": true
   },
   "outputs": [
    {
     "data": {
      "text/plain": [
       "Modified                        3407\n",
       "Email Opened                    2827\n",
       "SMS Sent                        2172\n",
       "Page Visited on Website          318\n",
       "Olark Chat Conversation          183\n",
       "Email Link Clicked               173\n",
       "Email Bounced                     60\n",
       "Unsubscribed                      47\n",
       "Unreachable                       32\n",
       "Had a Phone Conversation          14\n",
       "Email Marked Spam                  2\n",
       "Approached upfront                 1\n",
       "Resubscribed to emails             1\n",
       "View in browser link Clicked       1\n",
       "Form Submitted on Website          1\n",
       "Email Received                     1\n",
       "Name: Last Notable Activity, dtype: int64"
      ]
     },
     "execution_count": 81,
     "metadata": {},
     "output_type": "execute_result"
    }
   ],
   "source": [
    "# Letus check 'Last Notable Activity' column\n",
    "leads_df[\"Last Notable Activity\"].value_counts(dropna=False)"
   ]
  },
  {
   "cell_type": "code",
   "execution_count": 82,
   "id": "9fca2fb5",
   "metadata": {},
   "outputs": [],
   "source": [
    "# letus merge fewer count to Others category\n",
    "leads_df[\"Last Notable Activity\"]=leads_df[\"Last Notable Activity\"].replace([\"Email Bounced\",\"Unsubscribed\",\n",
    "                    \"Unreachable\"   ,  \"Had a Phone Conversation\" ,\"Email Marked Spam\" ,\"Approached upfront\"  ,\n",
    "                     \"Resubscribed to emails\",\"View in browser link Clicked\",\"Form Submitted on Website\",\n",
    "                \"Email Received \" ],\"Others\")"
   ]
  },
  {
   "cell_type": "code",
   "execution_count": 83,
   "id": "9270a6d3",
   "metadata": {},
   "outputs": [
    {
     "data": {
      "image/png": "[encoded data removed]",
      "text/plain": [
       "<Figure size 400x200 with 1 Axes>"
      ]
     },
     "metadata": {},
     "output_type": "display_data"
    }
   ],
   "source": [
    "# Letus check spread of the column with respect to converted\n",
    "plt.figure(figsize=(4,2))\n",
    "sns.countplot(x=leads_df[\"Last Notable Activity\"],hue=leads_df[\"Converted\"])\n",
    "plt.xticks(rotation=90)\n",
    "plt.show()"
   ]
  },
  {
   "cell_type": "code",
   "execution_count": 84,
   "id": "b42a3f95",
   "metadata": {},
   "outputs": [],
   "source": [
    "# Letus drop the columns of Drop_Column list\n",
    "leads_df.drop(Drop_Column,axis=1, inplace=True)"
   ]
  },
  {
   "cell_type": "code",
   "execution_count": 85,
   "id": "796f4b8f",
   "metadata": {},
   "outputs": [
    {
     "data": {
      "text/plain": [
       "(9240, 17)"
      ]
     },
     "execution_count": 85,
     "metadata": {},
     "output_type": "execute_result"
    }
   ],
   "source": [
    "# Letus check final dataframe\n",
    "leads_df.shape"
   ]
  },
  {
   "cell_type": "code",
   "execution_count": 86,
   "id": "a90ef22a",
   "metadata": {},
   "outputs": [
    {
     "name": "stdout",
     "output_type": "stream",
     "text": [
      "<class 'pandas.core.frame.DataFrame'>\n",
      "RangeIndex: 9240 entries, 0 to 9239\n",
      "Data columns (total 17 columns):\n",
      " #   Column                                  Non-Null Count  Dtype  \n",
      "---  ------                                  --------------  -----  \n",
      " 0   Lead Origin                             9240 non-null   object \n",
      " 1   Lead Source                             9204 non-null   object \n",
      " 2   Do Not Email                            9240 non-null   object \n",
      " 3   Do Not Call                             9240 non-null   object \n",
      " 4   Converted                               9240 non-null   int64  \n",
      " 5   TotalVisits                             9103 non-null   float64\n",
      " 6   Total Time Spent on Website             9240 non-null   int64  \n",
      " 7   Page Views Per Visit                    9103 non-null   float64\n",
      " 8   Last Activity                           9240 non-null   object \n",
      " 9   Specialization                          9240 non-null   object \n",
      " 10  How did you hear about X Education      9240 non-null   object \n",
      " 11  What is your current occupation         9240 non-null   object \n",
      " 12  Tags                                    9240 non-null   object \n",
      " 13  Lead Profile                            9240 non-null   object \n",
      " 14  City                                    9240 non-null   object \n",
      " 15  A free copy of Mastering The Interview  9240 non-null   object \n",
      " 16  Last Notable Activity                   9240 non-null   object \n",
      "dtypes: float64(2), int64(2), object(13)\n",
      "memory usage: 1.2+ MB\n"
     ]
    }
   ],
   "source": [
    "leads_df.info()"
   ]
  },
  {
   "cell_type": "code",
   "execution_count": 88,
   "id": "61c9868d",
   "metadata": {},
   "outputs": [
    {
     "data": {
      "text/plain": [
       "Lead Origin                               0.00\n",
       "Lead Source                               0.39\n",
       "Do Not Email                              0.00\n",
       "Do Not Call                               0.00\n",
       "Converted                                 0.00\n",
       "TotalVisits                               1.48\n",
       "Total Time Spent on Website               0.00\n",
       "Page Views Per Visit                      1.48\n",
       "Last Activity                             0.00\n",
       "Specialization                            0.00\n",
       "How did you hear about X Education        0.00\n",
       "What is your current occupation           0.00\n",
       "Tags                                      0.00\n",
       "Lead Profile                              0.00\n",
       "City                                      0.00\n",
       "A free copy of Mastering The Interview    0.00\n",
       "Last Notable Activity                     0.00\n",
       "dtype: float64"
      ]
     },
     "execution_count": 88,
     "metadata": {},
     "output_type": "execute_result"
    }
   ],
   "source": [
    "# Letus check again for null value percentage\n",
    "round((leads_df.isnull().sum()/leads_df.shape[0])*100,2)"
   ]
  },
  {
   "cell_type": "code",
   "execution_count": 91,
   "id": "e434d4ad",
   "metadata": {},
   "outputs": [],
   "source": [
    "# Since only 1.5 % values have are missing , we can drop these rows.Lets dropp null rows\n",
    "leads_df=leads_df.dropna()"
   ]
  },
  {
   "cell_type": "code",
   "execution_count": 92,
   "id": "f25810e2",
   "metadata": {},
   "outputs": [
    {
     "data": {
      "text/plain": [
       "Lead Origin                               0.0\n",
       "Lead Source                               0.0\n",
       "Do Not Email                              0.0\n",
       "Do Not Call                               0.0\n",
       "Converted                                 0.0\n",
       "TotalVisits                               0.0\n",
       "Total Time Spent on Website               0.0\n",
       "Page Views Per Visit                      0.0\n",
       "Last Activity                             0.0\n",
       "Specialization                            0.0\n",
       "How did you hear about X Education        0.0\n",
       "What is your current occupation           0.0\n",
       "Tags                                      0.0\n",
       "Lead Profile                              0.0\n",
       "City                                      0.0\n",
       "A free copy of Mastering The Interview    0.0\n",
       "Last Notable Activity                     0.0\n",
       "dtype: float64"
      ]
     },
     "execution_count": 92,
     "metadata": {},
     "output_type": "execute_result"
    }
   ],
   "source": [
    "# Letus check again for null value percentage\n",
    "round((leads_df.isnull().sum()/leads_df.shape[0])*100,2)"
   ]
  },
  {
   "cell_type": "markdown",
   "id": "901499c9",
   "metadata": {},
   "source": [
    "Finally we have reduced our dataframe columns from 37 to 17 . Also we have dealt with null values."
   ]
  },
  {
   "cell_type": "code",
   "execution_count": null,
   "id": "869446c8",
   "metadata": {},
   "outputs": [],
   "source": []
  },
  {
   "cell_type": "code",
   "execution_count": null,
   "id": "3f88a69a",
   "metadata": {},
   "outputs": [],
   "source": []
  },
  {
   "cell_type": "code",
   "execution_count": null,
   "id": "b326ebcc",
   "metadata": {},
   "outputs": [],
   "source": []
  },
  {
   "cell_type": "code",
   "execution_count": null,
   "id": "df85123b",
   "metadata": {},
   "outputs": [],
   "source": []
  },
  {
   "cell_type": "code",
   "execution_count": null,
   "id": "49e2cc0f",
   "metadata": {},
   "outputs": [],
   "source": []
  },
  {
   "cell_type": "code",
   "execution_count": null,
   "id": "ce23bd7c",
   "metadata": {},
   "outputs": [],
   "source": []
  },
  {
   "cell_type": "code",
   "execution_count": null,
   "id": "21d3609b",
   "metadata": {},
   "outputs": [],
   "source": []
  },
  {
   "cell_type": "code",
   "execution_count": null,
   "id": "159f38c7",
   "metadata": {},
   "outputs": [],
   "source": []
  }
 ],
 "metadata": {
  "kernelspec": {
   "display_name": "Python 3 (ipykernel)",
   "language": "python",
   "name": "python3"
  },
  "language_info": {
   "codemirror_mode": {
    "name": "ipython",
    "version": 3
   },
   "file_extension": ".py",
   "mimetype": "text/x-python",
   "name": "python",
   "nbconvert_exporter": "python",
   "pygments_lexer": "ipython3",
   "version": "3.9.13"
  }
 },
 "nbformat": 4,
 "nbformat_minor": 5
}
